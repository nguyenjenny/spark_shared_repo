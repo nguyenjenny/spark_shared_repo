{
  "nbformat": 4,
  "nbformat_minor": 0,
  "metadata": {
    "colab": {
      "name": "SPARK-Day2-Beto.ipynb",
      "provenance": [],
      "collapsed_sections": [],
      "toc_visible": true
    },
    "kernelspec": {
      "name": "python3",
      "display_name": "Python 3"
    }
  },
  "cells": [
    {
      "cell_type": "markdown",
      "metadata": {
        "id": "dM6SoY_YR3gd"
      },
      "source": [
        "![SPARK Banner](https://i.imgur.com/3vCmTns.png)\n",
        "\n",
        "# SPARK | Day 2 | July 13th, 2021\n",
        "\n",
        "The agenda for today:\n",
        "\n",
        "1. Booleans & Conditionals\n",
        "2. Aggregates\n",
        "3. Peer Programming: Comprehension Questions\n",
        "4. Data Scavenger Hunt\n",
        "5. Peer Programming: Cleaning Your Dataset"
      ]
    },
    {
      "cell_type": "markdown",
      "metadata": {
        "id": "dEWJwHhXLUwN"
      },
      "source": [
        "# Cleaning Data Continued"
      ]
    },
    {
      "cell_type": "code",
      "metadata": {
        "colab": {
          "base_uri": "https://localhost:8080/",
          "height": 326
        },
        "id": "XRGxvEP_MWer",
        "outputId": "57750d19-bf81-4b9e-d900-f09445ad61aa"
      },
      "source": [
        "# Import libraries\n",
        "import pandas as pd\n",
        "import numpy as np\n",
        "\n",
        "# Create a list of missing values and save as a variable\n",
        "missing_values = ['n/a', 'na', 'NaN', 'NA', '--']\n",
        "\n",
        "# Read csv as as pandas data frame, but use the paramter na_values\n",
        "df_property = pd.read_csv(\"https://raw.githubusercontent.com/nguyenjenny/spark_shared_repo/main/datasets/Property_Data.csv\", na_values=missing_values)\n",
        "\n",
        "# Replace \"Hurley\" with np.nan\n",
        "df_property = df_property.replace(\"HURLEY\", np.nan)\n",
        "\n",
        "\n",
        "# Overwrite row 3, column \"OWN_OCCUPIED\" with np.nan\n",
        "df_property.loc[3, \"OWN_OCCUPIED\"] = np.nan\n",
        "\n",
        "\n",
        "# Show data frame\n",
        "df_property\n"
      ],
      "execution_count": 2,
      "outputs": [
        {
          "output_type": "execute_result",
          "data": {
            "text/html": [
              "<div>\n",
              "<style scoped>\n",
              "    .dataframe tbody tr th:only-of-type {\n",
              "        vertical-align: middle;\n",
              "    }\n",
              "\n",
              "    .dataframe tbody tr th {\n",
              "        vertical-align: top;\n",
              "    }\n",
              "\n",
              "    .dataframe thead th {\n",
              "        text-align: right;\n",
              "    }\n",
              "</style>\n",
              "<table border=\"1\" class=\"dataframe\">\n",
              "  <thead>\n",
              "    <tr style=\"text-align: right;\">\n",
              "      <th></th>\n",
              "      <th>PID</th>\n",
              "      <th>ST_NUM</th>\n",
              "      <th>ST_NAME</th>\n",
              "      <th>OWN_OCCUPIED</th>\n",
              "      <th>NUM_BEDROOMS</th>\n",
              "      <th>NUM_BATH</th>\n",
              "      <th>SQ_FT</th>\n",
              "      <th>Extra</th>\n",
              "    </tr>\n",
              "  </thead>\n",
              "  <tbody>\n",
              "    <tr>\n",
              "      <th>0</th>\n",
              "      <td>100001000.0</td>\n",
              "      <td>104.0</td>\n",
              "      <td>PUTNAM</td>\n",
              "      <td>Y</td>\n",
              "      <td>3.0</td>\n",
              "      <td>1</td>\n",
              "      <td>1000.0</td>\n",
              "      <td>NaN</td>\n",
              "    </tr>\n",
              "    <tr>\n",
              "      <th>1</th>\n",
              "      <td>100002000.0</td>\n",
              "      <td>197.0</td>\n",
              "      <td>LEXINGTON</td>\n",
              "      <td>N</td>\n",
              "      <td>3.0</td>\n",
              "      <td>1.5</td>\n",
              "      <td>NaN</td>\n",
              "      <td>NaN</td>\n",
              "    </tr>\n",
              "    <tr>\n",
              "      <th>2</th>\n",
              "      <td>100003000.0</td>\n",
              "      <td>NaN</td>\n",
              "      <td>LEXINGTON</td>\n",
              "      <td>N</td>\n",
              "      <td>NaN</td>\n",
              "      <td>1</td>\n",
              "      <td>850.0</td>\n",
              "      <td>NaN</td>\n",
              "    </tr>\n",
              "    <tr>\n",
              "      <th>3</th>\n",
              "      <td>100004000.0</td>\n",
              "      <td>201.0</td>\n",
              "      <td>BERKELEY</td>\n",
              "      <td>NaN</td>\n",
              "      <td>1.0</td>\n",
              "      <td>NaN</td>\n",
              "      <td>700.0</td>\n",
              "      <td>NaN</td>\n",
              "    </tr>\n",
              "    <tr>\n",
              "      <th>4</th>\n",
              "      <td>NaN</td>\n",
              "      <td>203.0</td>\n",
              "      <td>BERKELEY</td>\n",
              "      <td>Y</td>\n",
              "      <td>3.0</td>\n",
              "      <td>2</td>\n",
              "      <td>1600.0</td>\n",
              "      <td>NaN</td>\n",
              "    </tr>\n",
              "    <tr>\n",
              "      <th>5</th>\n",
              "      <td>100006000.0</td>\n",
              "      <td>207.0</td>\n",
              "      <td>BERKELEY</td>\n",
              "      <td>Y</td>\n",
              "      <td>NaN</td>\n",
              "      <td>1</td>\n",
              "      <td>800.0</td>\n",
              "      <td>NaN</td>\n",
              "    </tr>\n",
              "    <tr>\n",
              "      <th>6</th>\n",
              "      <td>100007000.0</td>\n",
              "      <td>NaN</td>\n",
              "      <td>WASHINGTON</td>\n",
              "      <td>NaN</td>\n",
              "      <td>2.0</td>\n",
              "      <td>NaN</td>\n",
              "      <td>950.0</td>\n",
              "      <td>NaN</td>\n",
              "    </tr>\n",
              "    <tr>\n",
              "      <th>7</th>\n",
              "      <td>100008000.0</td>\n",
              "      <td>213.0</td>\n",
              "      <td>TREMONT</td>\n",
              "      <td>Y</td>\n",
              "      <td>1.0</td>\n",
              "      <td>1</td>\n",
              "      <td>NaN</td>\n",
              "      <td>NaN</td>\n",
              "    </tr>\n",
              "    <tr>\n",
              "      <th>8</th>\n",
              "      <td>100009000.0</td>\n",
              "      <td>215.0</td>\n",
              "      <td>TREMONT</td>\n",
              "      <td>Y</td>\n",
              "      <td>NaN</td>\n",
              "      <td>2</td>\n",
              "      <td>1800.0</td>\n",
              "      <td>NaN</td>\n",
              "    </tr>\n",
              "  </tbody>\n",
              "</table>\n",
              "</div>"
            ],
            "text/plain": [
              "           PID  ST_NUM     ST_NAME  ... NUM_BATH   SQ_FT Extra\n",
              "0  100001000.0   104.0      PUTNAM  ...        1  1000.0   NaN\n",
              "1  100002000.0   197.0   LEXINGTON  ...      1.5     NaN   NaN\n",
              "2  100003000.0     NaN   LEXINGTON  ...        1   850.0   NaN\n",
              "3  100004000.0   201.0    BERKELEY  ...      NaN   700.0   NaN\n",
              "4          NaN   203.0    BERKELEY  ...        2  1600.0   NaN\n",
              "5  100006000.0   207.0    BERKELEY  ...        1   800.0   NaN\n",
              "6  100007000.0     NaN  WASHINGTON  ...      NaN   950.0   NaN\n",
              "7  100008000.0   213.0     TREMONT  ...        1     NaN   NaN\n",
              "8  100009000.0   215.0     TREMONT  ...        2  1800.0   NaN\n",
              "\n",
              "[9 rows x 8 columns]"
            ]
          },
          "metadata": {
            "tags": []
          },
          "execution_count": 2
        }
      ]
    },
    {
      "cell_type": "markdown",
      "metadata": {
        "id": "pG_Xy5Q-Mnpt"
      },
      "source": [
        "## Dropping rows/indexes and columns with missing data (`dropna`)\n",
        "\n",
        "Sometimes we may not want to use rows/indexes or columns if data is missing. This is where the  `dropna` function comes in handy.\n",
        "\n",
        "Documentation for this function is found here: https://pandas.pydata.org/pandas-docs/stable/reference/api/pandas.DataFrame.dropna.html?highlight=dropna\n",
        "\n",
        "Parameters: \n",
        "\n",
        "\n",
        "-  `axis`: the axis that you want to drop data on \n",
        "  - can be \"index\" or \"columns\"\n",
        "  - `axis=\"index\"` drops rows with missing data\n",
        "  - `axis=\"columns\"` drops columns with missing data\n",
        "\n",
        "- `how`: how you want to drop the data\n",
        "  - can be \"any\" or \"all\"\n",
        "  - `how=\"any\"` If any NA values are present, drop that row or column\n",
        "  - `how=\"all\"` If all values are NA, drop that row or column.\n",
        "\n",
        "\n",
        "\n",
        "### Examples \n",
        "Drop columns where all the values are missing\n",
        "```\n",
        "df.dropna(axis=\"columns\", how=\"all\") \n",
        "```\n",
        "\n",
        "Drop columns where there are any missing values\n",
        "```\n",
        "df.dropna(axis=\"columns\", how=\"any\") \n",
        "```\n",
        "\n",
        "Drop rows/index where all the values are missing\n",
        "```\n",
        "df.dropna(axis=\"index\", how=\"all\") \n",
        "```\n",
        "\n",
        "Drop rows/index where there are any missing values\n",
        "```\n",
        "df.dropna(axis=\"index\", how=\"any\") \n",
        "```\n",
        "\n"
      ]
    },
    {
      "cell_type": "code",
      "metadata": {
        "colab": {
          "base_uri": "https://localhost:8080/",
          "height": 332
        },
        "id": "HoxzBzoqM0ho",
        "outputId": "96e97bad-e3f5-4ac2-8644-c8d2c88064ea"
      },
      "source": [
        "# Drop columns where all values are missing\n",
        "df_property.dropna(axis=\"columns\", how=\"all\") "
      ],
      "execution_count": null,
      "outputs": [
        {
          "output_type": "execute_result",
          "data": {
            "text/html": [
              "<div>\n",
              "<style scoped>\n",
              "    .dataframe tbody tr th:only-of-type {\n",
              "        vertical-align: middle;\n",
              "    }\n",
              "\n",
              "    .dataframe tbody tr th {\n",
              "        vertical-align: top;\n",
              "    }\n",
              "\n",
              "    .dataframe thead th {\n",
              "        text-align: right;\n",
              "    }\n",
              "</style>\n",
              "<table border=\"1\" class=\"dataframe\">\n",
              "  <thead>\n",
              "    <tr style=\"text-align: right;\">\n",
              "      <th></th>\n",
              "      <th>PID</th>\n",
              "      <th>ST_NUM</th>\n",
              "      <th>ST_NAME</th>\n",
              "      <th>OWN_OCCUPIED</th>\n",
              "      <th>NUM_BEDROOMS</th>\n",
              "      <th>NUM_BATH</th>\n",
              "      <th>SQ_FT</th>\n",
              "    </tr>\n",
              "  </thead>\n",
              "  <tbody>\n",
              "    <tr>\n",
              "      <th>0</th>\n",
              "      <td>100001000.0</td>\n",
              "      <td>104.0</td>\n",
              "      <td>PUTNAM</td>\n",
              "      <td>Y</td>\n",
              "      <td>3.0</td>\n",
              "      <td>1</td>\n",
              "      <td>1000.0</td>\n",
              "    </tr>\n",
              "    <tr>\n",
              "      <th>1</th>\n",
              "      <td>100002000.0</td>\n",
              "      <td>197.0</td>\n",
              "      <td>LEXINGTON</td>\n",
              "      <td>N</td>\n",
              "      <td>3.0</td>\n",
              "      <td>1.5</td>\n",
              "      <td>NaN</td>\n",
              "    </tr>\n",
              "    <tr>\n",
              "      <th>2</th>\n",
              "      <td>100003000.0</td>\n",
              "      <td>NaN</td>\n",
              "      <td>LEXINGTON</td>\n",
              "      <td>N</td>\n",
              "      <td>NaN</td>\n",
              "      <td>1</td>\n",
              "      <td>850.0</td>\n",
              "    </tr>\n",
              "    <tr>\n",
              "      <th>3</th>\n",
              "      <td>100004000.0</td>\n",
              "      <td>201.0</td>\n",
              "      <td>BERKELEY</td>\n",
              "      <td>NaN</td>\n",
              "      <td>1.0</td>\n",
              "      <td>NaN</td>\n",
              "      <td>700.0</td>\n",
              "    </tr>\n",
              "    <tr>\n",
              "      <th>4</th>\n",
              "      <td>NaN</td>\n",
              "      <td>203.0</td>\n",
              "      <td>BERKELEY</td>\n",
              "      <td>Y</td>\n",
              "      <td>3.0</td>\n",
              "      <td>2</td>\n",
              "      <td>1600.0</td>\n",
              "    </tr>\n",
              "    <tr>\n",
              "      <th>5</th>\n",
              "      <td>100006000.0</td>\n",
              "      <td>207.0</td>\n",
              "      <td>BERKELEY</td>\n",
              "      <td>Y</td>\n",
              "      <td>NaN</td>\n",
              "      <td>1</td>\n",
              "      <td>800.0</td>\n",
              "    </tr>\n",
              "    <tr>\n",
              "      <th>6</th>\n",
              "      <td>100007000.0</td>\n",
              "      <td>NaN</td>\n",
              "      <td>WASHINGTON</td>\n",
              "      <td>NaN</td>\n",
              "      <td>2.0</td>\n",
              "      <td>NaN</td>\n",
              "      <td>950.0</td>\n",
              "    </tr>\n",
              "    <tr>\n",
              "      <th>7</th>\n",
              "      <td>100008000.0</td>\n",
              "      <td>213.0</td>\n",
              "      <td>TREMONT</td>\n",
              "      <td>Y</td>\n",
              "      <td>1.0</td>\n",
              "      <td>1</td>\n",
              "      <td>NaN</td>\n",
              "    </tr>\n",
              "    <tr>\n",
              "      <th>8</th>\n",
              "      <td>100009000.0</td>\n",
              "      <td>215.0</td>\n",
              "      <td>TREMONT</td>\n",
              "      <td>Y</td>\n",
              "      <td>NaN</td>\n",
              "      <td>2</td>\n",
              "      <td>1800.0</td>\n",
              "    </tr>\n",
              "  </tbody>\n",
              "</table>\n",
              "</div>"
            ],
            "text/plain": [
              "           PID  ST_NUM     ST_NAME OWN_OCCUPIED  NUM_BEDROOMS NUM_BATH   SQ_FT\n",
              "0  100001000.0   104.0      PUTNAM            Y           3.0        1  1000.0\n",
              "1  100002000.0   197.0   LEXINGTON            N           3.0      1.5     NaN\n",
              "2  100003000.0     NaN   LEXINGTON            N           NaN        1   850.0\n",
              "3  100004000.0   201.0    BERKELEY          NaN           1.0      NaN   700.0\n",
              "4          NaN   203.0    BERKELEY            Y           3.0        2  1600.0\n",
              "5  100006000.0   207.0    BERKELEY            Y           NaN        1   800.0\n",
              "6  100007000.0     NaN  WASHINGTON          NaN           2.0      NaN   950.0\n",
              "7  100008000.0   213.0     TREMONT            Y           1.0        1     NaN\n",
              "8  100009000.0   215.0     TREMONT            Y           NaN        2  1800.0"
            ]
          },
          "metadata": {
            "tags": []
          },
          "execution_count": 3
        }
      ]
    },
    {
      "cell_type": "code",
      "metadata": {
        "colab": {
          "base_uri": "https://localhost:8080/",
          "height": 332
        },
        "id": "sH3wXE5MMrT_",
        "outputId": "262b7952-6d5b-443b-d651-9818daa1f490"
      },
      "source": [
        "# Drop columns where any values are missing\n",
        "df_property.dropna(axis=\"columns\", how=\"any\")"
      ],
      "execution_count": null,
      "outputs": [
        {
          "output_type": "execute_result",
          "data": {
            "text/html": [
              "<div>\n",
              "<style scoped>\n",
              "    .dataframe tbody tr th:only-of-type {\n",
              "        vertical-align: middle;\n",
              "    }\n",
              "\n",
              "    .dataframe tbody tr th {\n",
              "        vertical-align: top;\n",
              "    }\n",
              "\n",
              "    .dataframe thead th {\n",
              "        text-align: right;\n",
              "    }\n",
              "</style>\n",
              "<table border=\"1\" class=\"dataframe\">\n",
              "  <thead>\n",
              "    <tr style=\"text-align: right;\">\n",
              "      <th></th>\n",
              "      <th>ST_NAME</th>\n",
              "    </tr>\n",
              "  </thead>\n",
              "  <tbody>\n",
              "    <tr>\n",
              "      <th>0</th>\n",
              "      <td>PUTNAM</td>\n",
              "    </tr>\n",
              "    <tr>\n",
              "      <th>1</th>\n",
              "      <td>LEXINGTON</td>\n",
              "    </tr>\n",
              "    <tr>\n",
              "      <th>2</th>\n",
              "      <td>LEXINGTON</td>\n",
              "    </tr>\n",
              "    <tr>\n",
              "      <th>3</th>\n",
              "      <td>BERKELEY</td>\n",
              "    </tr>\n",
              "    <tr>\n",
              "      <th>4</th>\n",
              "      <td>BERKELEY</td>\n",
              "    </tr>\n",
              "    <tr>\n",
              "      <th>5</th>\n",
              "      <td>BERKELEY</td>\n",
              "    </tr>\n",
              "    <tr>\n",
              "      <th>6</th>\n",
              "      <td>WASHINGTON</td>\n",
              "    </tr>\n",
              "    <tr>\n",
              "      <th>7</th>\n",
              "      <td>TREMONT</td>\n",
              "    </tr>\n",
              "    <tr>\n",
              "      <th>8</th>\n",
              "      <td>TREMONT</td>\n",
              "    </tr>\n",
              "  </tbody>\n",
              "</table>\n",
              "</div>"
            ],
            "text/plain": [
              "      ST_NAME\n",
              "0      PUTNAM\n",
              "1   LEXINGTON\n",
              "2   LEXINGTON\n",
              "3    BERKELEY\n",
              "4    BERKELEY\n",
              "5    BERKELEY\n",
              "6  WASHINGTON\n",
              "7     TREMONT\n",
              "8     TREMONT"
            ]
          },
          "metadata": {
            "tags": []
          },
          "execution_count": 2
        }
      ]
    },
    {
      "cell_type": "code",
      "metadata": {
        "id": "V7g50PgTM3mS"
      },
      "source": [
        "### TO-DO: drop rows/indexes where all values are missing\n",
        "\n",
        "\n"
      ],
      "execution_count": null,
      "outputs": []
    },
    {
      "cell_type": "code",
      "metadata": {
        "id": "AGAVJkFSM-_i"
      },
      "source": [
        "### TO-DO: drop rows/indexes where any values are missing\n",
        "\n",
        "\n"
      ],
      "execution_count": null,
      "outputs": []
    },
    {
      "cell_type": "markdown",
      "metadata": {
        "id": "yCjM54azM5P6"
      },
      "source": [
        "#### Exercise 7: Drop rows/indexes where all and any of the data is missing."
      ]
    },
    {
      "cell_type": "markdown",
      "metadata": {
        "id": "uki0KtawgRr7"
      },
      "source": [
        "# Booleans & Conditionals\n"
      ]
    },
    {
      "cell_type": "markdown",
      "metadata": {
        "id": "LxK5HVW8hUNd"
      },
      "source": [
        "## Why do we need conditionals?\n",
        "\n",
        "Let's load up a small custom dataset we'll be using today and see what it looks like."
      ]
    },
    {
      "cell_type": "code",
      "metadata": {
        "id": "4bOdzg-uiIlP",
        "colab": {
          "base_uri": "https://localhost:8080/",
          "height": 357
        },
        "outputId": "69cb25ab-8751-4db5-f26a-c32c72c60b4e"
      },
      "source": [
        "# import the libraries we need\n",
        "import pandas as pd    \n",
        "import numpy as np\n",
        "\n",
        "# this is where the custom dataset is stored (its in .csv format)\n",
        "url = \"https://raw.githubusercontent.com/bilalhsyed/sparkdata/master/Day-2_hockey_stats.csv\"\n",
        "\n",
        "# reading the csv file from url into a variable, hockey_data\n",
        "hockey_data = pd.read_csv(url)\n",
        "\n",
        "# let's see what the data looks like\n",
        "hockey_data"
      ],
      "execution_count": 4,
      "outputs": [
        {
          "output_type": "execute_result",
          "data": {
            "text/html": [
              "<div>\n",
              "<style scoped>\n",
              "    .dataframe tbody tr th:only-of-type {\n",
              "        vertical-align: middle;\n",
              "    }\n",
              "\n",
              "    .dataframe tbody tr th {\n",
              "        vertical-align: top;\n",
              "    }\n",
              "\n",
              "    .dataframe thead th {\n",
              "        text-align: right;\n",
              "    }\n",
              "</style>\n",
              "<table border=\"1\" class=\"dataframe\">\n",
              "  <thead>\n",
              "    <tr style=\"text-align: right;\">\n",
              "      <th></th>\n",
              "      <th>Name</th>\n",
              "      <th>GeneralPosition</th>\n",
              "      <th>Position</th>\n",
              "      <th>GamesPlayed</th>\n",
              "      <th>Goals</th>\n",
              "      <th>Assists</th>\n",
              "      <th>Hits</th>\n",
              "    </tr>\n",
              "  </thead>\n",
              "  <tbody>\n",
              "    <tr>\n",
              "      <th>0</th>\n",
              "      <td>Bob</td>\n",
              "      <td>Forward</td>\n",
              "      <td>C</td>\n",
              "      <td>42</td>\n",
              "      <td>16</td>\n",
              "      <td>12</td>\n",
              "      <td>28</td>\n",
              "    </tr>\n",
              "    <tr>\n",
              "      <th>1</th>\n",
              "      <td>John</td>\n",
              "      <td>Forward</td>\n",
              "      <td>RW</td>\n",
              "      <td>39</td>\n",
              "      <td>21</td>\n",
              "      <td>9</td>\n",
              "      <td>19</td>\n",
              "    </tr>\n",
              "    <tr>\n",
              "      <th>2</th>\n",
              "      <td>Jessica</td>\n",
              "      <td>Defense</td>\n",
              "      <td>LD</td>\n",
              "      <td>21</td>\n",
              "      <td>3</td>\n",
              "      <td>1</td>\n",
              "      <td>15</td>\n",
              "    </tr>\n",
              "    <tr>\n",
              "      <th>3</th>\n",
              "      <td>Andrew</td>\n",
              "      <td>Forward</td>\n",
              "      <td>C</td>\n",
              "      <td>27</td>\n",
              "      <td>8</td>\n",
              "      <td>2</td>\n",
              "      <td>21</td>\n",
              "    </tr>\n",
              "    <tr>\n",
              "      <th>4</th>\n",
              "      <td>Amanda</td>\n",
              "      <td>Defense</td>\n",
              "      <td>RD</td>\n",
              "      <td>18</td>\n",
              "      <td>5</td>\n",
              "      <td>8</td>\n",
              "      <td>17</td>\n",
              "    </tr>\n",
              "    <tr>\n",
              "      <th>5</th>\n",
              "      <td>Jack</td>\n",
              "      <td>Defense</td>\n",
              "      <td>RD</td>\n",
              "      <td>20</td>\n",
              "      <td>7</td>\n",
              "      <td>13</td>\n",
              "      <td>14</td>\n",
              "    </tr>\n",
              "    <tr>\n",
              "      <th>6</th>\n",
              "      <td>Andrea</td>\n",
              "      <td>Forward</td>\n",
              "      <td>LW</td>\n",
              "      <td>46</td>\n",
              "      <td>24</td>\n",
              "      <td>20</td>\n",
              "      <td>29</td>\n",
              "    </tr>\n",
              "    <tr>\n",
              "      <th>7</th>\n",
              "      <td>Chris</td>\n",
              "      <td>Defense</td>\n",
              "      <td>LD</td>\n",
              "      <td>35</td>\n",
              "      <td>14</td>\n",
              "      <td>13</td>\n",
              "      <td>22</td>\n",
              "    </tr>\n",
              "    <tr>\n",
              "      <th>8</th>\n",
              "      <td>Mitch</td>\n",
              "      <td>Forward</td>\n",
              "      <td>LW</td>\n",
              "      <td>33</td>\n",
              "      <td>12</td>\n",
              "      <td>24</td>\n",
              "      <td>9</td>\n",
              "    </tr>\n",
              "    <tr>\n",
              "      <th>9</th>\n",
              "      <td>Justin</td>\n",
              "      <td>Forward</td>\n",
              "      <td>RW</td>\n",
              "      <td>29</td>\n",
              "      <td>11</td>\n",
              "      <td>25</td>\n",
              "      <td>30</td>\n",
              "    </tr>\n",
              "  </tbody>\n",
              "</table>\n",
              "</div>"
            ],
            "text/plain": [
              "      Name GeneralPosition Position  GamesPlayed  Goals  Assists  Hits\n",
              "0      Bob         Forward        C           42     16       12    28\n",
              "1     John         Forward       RW           39     21        9    19\n",
              "2  Jessica         Defense       LD           21      3        1    15\n",
              "3   Andrew         Forward        C           27      8        2    21\n",
              "4   Amanda         Defense       RD           18      5        8    17\n",
              "5     Jack         Defense       RD           20      7       13    14\n",
              "6   Andrea         Forward       LW           46     24       20    29\n",
              "7    Chris         Defense       LD           35     14       13    22\n",
              "8    Mitch         Forward       LW           33     12       24     9\n",
              "9   Justin         Forward       RW           29     11       25    30"
            ]
          },
          "metadata": {
            "tags": []
          },
          "execution_count": 4
        }
      ]
    },
    {
      "cell_type": "markdown",
      "metadata": {
        "id": "iEG-GmDhoMur"
      },
      "source": [
        "### Exercise 1: Selecting using .iloc\n",
        "\n",
        "Now, let's select rows 1-3 of hockey_data.\n",
        "\n",
        "**Hint**: Use .iloc"
      ]
    },
    {
      "cell_type": "code",
      "metadata": {
        "id": "vonFK5ZOoWtl",
        "colab": {
          "base_uri": "https://localhost:8080/",
          "height": 142
        },
        "outputId": "c3d0be4f-3b93-492e-cd08-8a86ad1584b7"
      },
      "source": [
        "## TO-DO: select rows 1-3 of hockey_data using .iloc\n",
        "rows1to3 = hockey_data.iloc[1:4]\n",
        "\n",
        "rows1to3"
      ],
      "execution_count": null,
      "outputs": [
        {
          "output_type": "execute_result",
          "data": {
            "text/html": [
              "<div>\n",
              "<style scoped>\n",
              "    .dataframe tbody tr th:only-of-type {\n",
              "        vertical-align: middle;\n",
              "    }\n",
              "\n",
              "    .dataframe tbody tr th {\n",
              "        vertical-align: top;\n",
              "    }\n",
              "\n",
              "    .dataframe thead th {\n",
              "        text-align: right;\n",
              "    }\n",
              "</style>\n",
              "<table border=\"1\" class=\"dataframe\">\n",
              "  <thead>\n",
              "    <tr style=\"text-align: right;\">\n",
              "      <th></th>\n",
              "      <th>Name</th>\n",
              "      <th>GeneralPosition</th>\n",
              "      <th>Position</th>\n",
              "      <th>GamesPlayed</th>\n",
              "      <th>Goals</th>\n",
              "      <th>Assists</th>\n",
              "      <th>Hits</th>\n",
              "    </tr>\n",
              "  </thead>\n",
              "  <tbody>\n",
              "    <tr>\n",
              "      <th>1</th>\n",
              "      <td>John</td>\n",
              "      <td>Forward</td>\n",
              "      <td>RW</td>\n",
              "      <td>39</td>\n",
              "      <td>21</td>\n",
              "      <td>9</td>\n",
              "      <td>19</td>\n",
              "    </tr>\n",
              "    <tr>\n",
              "      <th>2</th>\n",
              "      <td>Jessica</td>\n",
              "      <td>Defense</td>\n",
              "      <td>LD</td>\n",
              "      <td>21</td>\n",
              "      <td>3</td>\n",
              "      <td>1</td>\n",
              "      <td>15</td>\n",
              "    </tr>\n",
              "    <tr>\n",
              "      <th>3</th>\n",
              "      <td>Andrew</td>\n",
              "      <td>Forward</td>\n",
              "      <td>C</td>\n",
              "      <td>27</td>\n",
              "      <td>8</td>\n",
              "      <td>2</td>\n",
              "      <td>21</td>\n",
              "    </tr>\n",
              "  </tbody>\n",
              "</table>\n",
              "</div>"
            ],
            "text/plain": [
              "      Name GeneralPosition Position  GamesPlayed  Goals  Assists  Hits\n",
              "1     John         Forward       RW           39     21        9    19\n",
              "2  Jessica         Defense       LD           21      3        1    15\n",
              "3   Andrew         Forward        C           27      8        2    21"
            ]
          },
          "metadata": {
            "tags": []
          },
          "execution_count": 5
        }
      ]
    },
    {
      "cell_type": "markdown",
      "metadata": {
        "id": "8W_JeCbEoi2p"
      },
      "source": [
        "### Exercise 2: Selecting using .loc\n",
        "\n",
        "What if we only want the Name and Position columns?\n",
        "\n",
        "**Hint:** Use .loc"
      ]
    },
    {
      "cell_type": "code",
      "metadata": {
        "id": "WjdA63wDotgK",
        "colab": {
          "base_uri": "https://localhost:8080/",
          "height": 357
        },
        "outputId": "2c60b70a-b855-483e-d09d-ca950d7a6c27"
      },
      "source": [
        "## TO-DO: select the Name and Position columns using .loc\n",
        "nameAndpos = hockey_data.loc[:,[\"Name\",\"Position\"]]\n",
        "\n",
        "nameAndpos"
      ],
      "execution_count": null,
      "outputs": [
        {
          "output_type": "execute_result",
          "data": {
            "text/html": [
              "<div>\n",
              "<style scoped>\n",
              "    .dataframe tbody tr th:only-of-type {\n",
              "        vertical-align: middle;\n",
              "    }\n",
              "\n",
              "    .dataframe tbody tr th {\n",
              "        vertical-align: top;\n",
              "    }\n",
              "\n",
              "    .dataframe thead th {\n",
              "        text-align: right;\n",
              "    }\n",
              "</style>\n",
              "<table border=\"1\" class=\"dataframe\">\n",
              "  <thead>\n",
              "    <tr style=\"text-align: right;\">\n",
              "      <th></th>\n",
              "      <th>Name</th>\n",
              "      <th>Position</th>\n",
              "    </tr>\n",
              "  </thead>\n",
              "  <tbody>\n",
              "    <tr>\n",
              "      <th>0</th>\n",
              "      <td>Bob</td>\n",
              "      <td>C</td>\n",
              "    </tr>\n",
              "    <tr>\n",
              "      <th>1</th>\n",
              "      <td>John</td>\n",
              "      <td>RW</td>\n",
              "    </tr>\n",
              "    <tr>\n",
              "      <th>2</th>\n",
              "      <td>Jessica</td>\n",
              "      <td>LD</td>\n",
              "    </tr>\n",
              "    <tr>\n",
              "      <th>3</th>\n",
              "      <td>Andrew</td>\n",
              "      <td>C</td>\n",
              "    </tr>\n",
              "    <tr>\n",
              "      <th>4</th>\n",
              "      <td>Amanda</td>\n",
              "      <td>RD</td>\n",
              "    </tr>\n",
              "    <tr>\n",
              "      <th>5</th>\n",
              "      <td>Jack</td>\n",
              "      <td>RD</td>\n",
              "    </tr>\n",
              "    <tr>\n",
              "      <th>6</th>\n",
              "      <td>Andrea</td>\n",
              "      <td>LW</td>\n",
              "    </tr>\n",
              "    <tr>\n",
              "      <th>7</th>\n",
              "      <td>Chris</td>\n",
              "      <td>LD</td>\n",
              "    </tr>\n",
              "    <tr>\n",
              "      <th>8</th>\n",
              "      <td>Mitch</td>\n",
              "      <td>LW</td>\n",
              "    </tr>\n",
              "    <tr>\n",
              "      <th>9</th>\n",
              "      <td>Justin</td>\n",
              "      <td>RW</td>\n",
              "    </tr>\n",
              "  </tbody>\n",
              "</table>\n",
              "</div>"
            ],
            "text/plain": [
              "      Name Position\n",
              "0      Bob        C\n",
              "1     John       RW\n",
              "2  Jessica       LD\n",
              "3   Andrew        C\n",
              "4   Amanda       RD\n",
              "5     Jack       RD\n",
              "6   Andrea       LW\n",
              "7    Chris       LD\n",
              "8    Mitch       LW\n",
              "9   Justin       RW"
            ]
          },
          "metadata": {
            "tags": []
          },
          "execution_count": 10
        }
      ]
    },
    {
      "cell_type": "markdown",
      "metadata": {
        "id": "BmdsuBrKpxfw"
      },
      "source": [
        "Now, what if we want to select the players that have scored more than 10 goals?\n",
        "\n",
        "We need a way to select rows and columns based on the values of the data within them. We need to select rows and columns when their values satisfy certain conditions."
      ]
    },
    {
      "cell_type": "markdown",
      "metadata": {
        "id": "rY3jRlpUesTH"
      },
      "source": [
        ""
      ]
    },
    {
      "cell_type": "code",
      "metadata": {
        "id": "0s4JRwI1Dqly",
        "colab": {
          "base_uri": "https://localhost:8080/",
          "height": 234
        },
        "outputId": "e90d6f39-2682-43b1-8b50-bb4422d674b5"
      },
      "source": [
        "## TO-DO: Try to select the players that have scored more than 10 goals\n",
        "players = hockey_data[hockey_data[\"Goals\"]>10]\n",
        "players"
      ],
      "execution_count": null,
      "outputs": [
        {
          "output_type": "execute_result",
          "data": {
            "text/html": [
              "<div>\n",
              "<style scoped>\n",
              "    .dataframe tbody tr th:only-of-type {\n",
              "        vertical-align: middle;\n",
              "    }\n",
              "\n",
              "    .dataframe tbody tr th {\n",
              "        vertical-align: top;\n",
              "    }\n",
              "\n",
              "    .dataframe thead th {\n",
              "        text-align: right;\n",
              "    }\n",
              "</style>\n",
              "<table border=\"1\" class=\"dataframe\">\n",
              "  <thead>\n",
              "    <tr style=\"text-align: right;\">\n",
              "      <th></th>\n",
              "      <th>Name</th>\n",
              "      <th>GeneralPosition</th>\n",
              "      <th>Position</th>\n",
              "      <th>GamesPlayed</th>\n",
              "      <th>Goals</th>\n",
              "      <th>Assists</th>\n",
              "      <th>Hits</th>\n",
              "    </tr>\n",
              "  </thead>\n",
              "  <tbody>\n",
              "    <tr>\n",
              "      <th>0</th>\n",
              "      <td>Bob</td>\n",
              "      <td>Forward</td>\n",
              "      <td>C</td>\n",
              "      <td>42</td>\n",
              "      <td>16</td>\n",
              "      <td>12</td>\n",
              "      <td>28</td>\n",
              "    </tr>\n",
              "    <tr>\n",
              "      <th>1</th>\n",
              "      <td>John</td>\n",
              "      <td>Forward</td>\n",
              "      <td>RW</td>\n",
              "      <td>39</td>\n",
              "      <td>21</td>\n",
              "      <td>9</td>\n",
              "      <td>19</td>\n",
              "    </tr>\n",
              "    <tr>\n",
              "      <th>6</th>\n",
              "      <td>Andrea</td>\n",
              "      <td>Forward</td>\n",
              "      <td>LW</td>\n",
              "      <td>46</td>\n",
              "      <td>24</td>\n",
              "      <td>20</td>\n",
              "      <td>29</td>\n",
              "    </tr>\n",
              "    <tr>\n",
              "      <th>7</th>\n",
              "      <td>Chris</td>\n",
              "      <td>Defense</td>\n",
              "      <td>LD</td>\n",
              "      <td>35</td>\n",
              "      <td>14</td>\n",
              "      <td>13</td>\n",
              "      <td>22</td>\n",
              "    </tr>\n",
              "    <tr>\n",
              "      <th>8</th>\n",
              "      <td>Mitch</td>\n",
              "      <td>Forward</td>\n",
              "      <td>LW</td>\n",
              "      <td>33</td>\n",
              "      <td>12</td>\n",
              "      <td>24</td>\n",
              "      <td>9</td>\n",
              "    </tr>\n",
              "    <tr>\n",
              "      <th>9</th>\n",
              "      <td>Justin</td>\n",
              "      <td>Forward</td>\n",
              "      <td>RW</td>\n",
              "      <td>29</td>\n",
              "      <td>11</td>\n",
              "      <td>25</td>\n",
              "      <td>30</td>\n",
              "    </tr>\n",
              "  </tbody>\n",
              "</table>\n",
              "</div>"
            ],
            "text/plain": [
              "     Name GeneralPosition Position  GamesPlayed  Goals  Assists  Hits\n",
              "0     Bob         Forward        C           42     16       12    28\n",
              "1    John         Forward       RW           39     21        9    19\n",
              "6  Andrea         Forward       LW           46     24       20    29\n",
              "7   Chris         Defense       LD           35     14       13    22\n",
              "8   Mitch         Forward       LW           33     12       24     9\n",
              "9  Justin         Forward       RW           29     11       25    30"
            ]
          },
          "metadata": {
            "tags": []
          },
          "execution_count": 17
        }
      ]
    },
    {
      "cell_type": "markdown",
      "metadata": {
        "id": "tMsKPhY9sM1W"
      },
      "source": [
        "## Booleans"
      ]
    },
    {
      "cell_type": "markdown",
      "metadata": {
        "id": "4d0TE2KfEQAa"
      },
      "source": [
        "### True/False and Boolean Operators\n",
        "\n",
        "Let's take a step back and understand how Python handles conditional expressions.\n",
        "\n",
        "The data type that Python (and other programming languages as well) uses for this is the **boolean**.\n",
        "\n",
        "Booleans represent whether something (an expression) is True or False. Let's take a look at some examples. Think about whether each expression is True or False before running the cell to see what Python tells you (in the form of a boolean)."
      ]
    },
    {
      "cell_type": "markdown",
      "metadata": {
        "id": "ryDxvtyDFg9C"
      },
      "source": [
        "We can use the \"greater than\", \"less than\", \"equal to\", and \"not equal to\" operators."
      ]
    },
    {
      "cell_type": "code",
      "metadata": {
        "id": "WLeKA59aFUUr"
      },
      "source": [
        "5 > 4"
      ],
      "execution_count": null,
      "outputs": []
    },
    {
      "cell_type": "code",
      "metadata": {
        "id": "ta6RHEwXFb4K"
      },
      "source": [
        "100 < -1"
      ],
      "execution_count": null,
      "outputs": []
    },
    {
      "cell_type": "code",
      "metadata": {
        "id": "aQ75mhfbGL6Y"
      },
      "source": [
        "\"hello\" == \"hello\""
      ],
      "execution_count": null,
      "outputs": []
    },
    {
      "cell_type": "code",
      "metadata": {
        "id": "uIp5dnnIIBJb"
      },
      "source": [
        "\"hello\" != \"hello\""
      ],
      "execution_count": null,
      "outputs": []
    },
    {
      "cell_type": "markdown",
      "metadata": {
        "id": "8-EjDshXGYoQ"
      },
      "source": [
        "We can combine some of these operators as follows."
      ]
    },
    {
      "cell_type": "code",
      "metadata": {
        "id": "iyicjjSgGddy"
      },
      "source": [
        "4 >= 3"
      ],
      "execution_count": null,
      "outputs": []
    },
    {
      "cell_type": "code",
      "metadata": {
        "id": "oV_-9F4NGhZH"
      },
      "source": [
        "100 <= 99"
      ],
      "execution_count": null,
      "outputs": []
    },
    {
      "cell_type": "markdown",
      "metadata": {
        "id": "ryA_uDQIGmMP"
      },
      "source": [
        "We can also combine multiple expressions by using the operators **and (&)**, **or (|)**, and **not**. Let's see some examples."
      ]
    },
    {
      "cell_type": "code",
      "metadata": {
        "id": "JuB3TbwWG4vR"
      },
      "source": [
        "(4 > 3) and (3 > 3)"
      ],
      "execution_count": null,
      "outputs": []
    },
    {
      "cell_type": "markdown",
      "metadata": {
        "id": "596S-iUuHVu5"
      },
      "source": [
        "The **and** operator checks that BOTH (or ALL) expressions are True.\n",
        "\n",
        "What do you think the **or** operator does?"
      ]
    },
    {
      "cell_type": "code",
      "metadata": {
        "id": "0kXjNy9nHkXi"
      },
      "source": [
        "(\"spark\" == \"spark\") or (1000 >= 999)"
      ],
      "execution_count": null,
      "outputs": []
    },
    {
      "cell_type": "markdown",
      "metadata": {
        "id": "WGIBQPruInYq"
      },
      "source": [
        "The **or** operator checks that atleast ONE of the expressions is True.\n",
        "\n",
        "How about the **not** operator?"
      ]
    },
    {
      "cell_type": "code",
      "metadata": {
        "id": "CxY5g0ruIvzy"
      },
      "source": [
        "not (1000 > 999)"
      ],
      "execution_count": null,
      "outputs": []
    },
    {
      "cell_type": "markdown",
      "metadata": {
        "id": "SFhGZmM2I9as"
      },
      "source": [
        "The **not** operator checks if its related expression is not True.\n",
        "\n",
        "Let's try applying what we've learnt."
      ]
    },
    {
      "cell_type": "markdown",
      "metadata": {
        "id": "pqmpHKSYJhqV"
      },
      "source": [
        "### Exercise 3: Booleans\n",
        "\n",
        "Complete the following expressions so that the intended result is achieved."
      ]
    },
    {
      "cell_type": "code",
      "metadata": {
        "id": "XHxnyOenKAXe",
        "colab": {
          "base_uri": "https://localhost:8080/"
        },
        "outputId": "4cc87931-04c8-4be2-9488-d3af211162b6"
      },
      "source": [
        "## TO-DO: False\n",
        "(\"hello\" == \"why\") and (3.9 <= 4.2)"
      ],
      "execution_count": null,
      "outputs": [
        {
          "output_type": "execute_result",
          "data": {
            "text/plain": [
              "False"
            ]
          },
          "metadata": {
            "tags": []
          },
          "execution_count": 19
        }
      ]
    },
    {
      "cell_type": "code",
      "metadata": {
        "id": "TccZ6FgTK6ss",
        "colab": {
          "base_uri": "https://localhost:8080/"
        },
        "outputId": "3e270c1f-8226-49d3-cb9c-684ebf6d447a"
      },
      "source": [
        "## TO-DO: True\n",
        "(\"hello\" != \"why\") and not (3.9 == 4.2)"
      ],
      "execution_count": null,
      "outputs": [
        {
          "output_type": "execute_result",
          "data": {
            "text/plain": [
              "True"
            ]
          },
          "metadata": {
            "tags": []
          },
          "execution_count": 18
        }
      ]
    },
    {
      "cell_type": "markdown",
      "metadata": {
        "id": "tVnR9jzuLo8T"
      },
      "source": [
        "## Conditional expression in Pandas\n",
        "\n",
        "Let's get back to our original problem: We need to select the players that have scored more than 10 goals.\n",
        "\n",
        "Let's see our dataset again."
      ]
    },
    {
      "cell_type": "code",
      "metadata": {
        "id": "LUpCeQZXL5ve",
        "colab": {
          "base_uri": "https://localhost:8080/",
          "height": 359
        },
        "outputId": "c504f398-e22f-4be3-a104-b35bafec6f02"
      },
      "source": [
        "hockey_data"
      ],
      "execution_count": null,
      "outputs": [
        {
          "output_type": "execute_result",
          "data": {
            "text/html": [
              "<div>\n",
              "<style scoped>\n",
              "    .dataframe tbody tr th:only-of-type {\n",
              "        vertical-align: middle;\n",
              "    }\n",
              "\n",
              "    .dataframe tbody tr th {\n",
              "        vertical-align: top;\n",
              "    }\n",
              "\n",
              "    .dataframe thead th {\n",
              "        text-align: right;\n",
              "    }\n",
              "</style>\n",
              "<table border=\"1\" class=\"dataframe\">\n",
              "  <thead>\n",
              "    <tr style=\"text-align: right;\">\n",
              "      <th></th>\n",
              "      <th>Name</th>\n",
              "      <th>GeneralPosition</th>\n",
              "      <th>Position</th>\n",
              "      <th>GamesPlayed</th>\n",
              "      <th>Goals</th>\n",
              "      <th>Assists</th>\n",
              "      <th>Hits</th>\n",
              "    </tr>\n",
              "  </thead>\n",
              "  <tbody>\n",
              "    <tr>\n",
              "      <th>0</th>\n",
              "      <td>Bob</td>\n",
              "      <td>Forward</td>\n",
              "      <td>C</td>\n",
              "      <td>42</td>\n",
              "      <td>16</td>\n",
              "      <td>12</td>\n",
              "      <td>28</td>\n",
              "    </tr>\n",
              "    <tr>\n",
              "      <th>1</th>\n",
              "      <td>John</td>\n",
              "      <td>Forward</td>\n",
              "      <td>RW</td>\n",
              "      <td>39</td>\n",
              "      <td>21</td>\n",
              "      <td>9</td>\n",
              "      <td>19</td>\n",
              "    </tr>\n",
              "    <tr>\n",
              "      <th>2</th>\n",
              "      <td>Jessica</td>\n",
              "      <td>Defense</td>\n",
              "      <td>LD</td>\n",
              "      <td>21</td>\n",
              "      <td>3</td>\n",
              "      <td>1</td>\n",
              "      <td>15</td>\n",
              "    </tr>\n",
              "    <tr>\n",
              "      <th>3</th>\n",
              "      <td>Andrew</td>\n",
              "      <td>Forward</td>\n",
              "      <td>C</td>\n",
              "      <td>27</td>\n",
              "      <td>8</td>\n",
              "      <td>2</td>\n",
              "      <td>21</td>\n",
              "    </tr>\n",
              "    <tr>\n",
              "      <th>4</th>\n",
              "      <td>Amanda</td>\n",
              "      <td>Defense</td>\n",
              "      <td>RD</td>\n",
              "      <td>18</td>\n",
              "      <td>5</td>\n",
              "      <td>8</td>\n",
              "      <td>17</td>\n",
              "    </tr>\n",
              "    <tr>\n",
              "      <th>5</th>\n",
              "      <td>Jack</td>\n",
              "      <td>Defense</td>\n",
              "      <td>RD</td>\n",
              "      <td>20</td>\n",
              "      <td>7</td>\n",
              "      <td>13</td>\n",
              "      <td>14</td>\n",
              "    </tr>\n",
              "    <tr>\n",
              "      <th>6</th>\n",
              "      <td>Andrea</td>\n",
              "      <td>Forward</td>\n",
              "      <td>LW</td>\n",
              "      <td>46</td>\n",
              "      <td>24</td>\n",
              "      <td>20</td>\n",
              "      <td>29</td>\n",
              "    </tr>\n",
              "    <tr>\n",
              "      <th>7</th>\n",
              "      <td>Chris</td>\n",
              "      <td>Defense</td>\n",
              "      <td>LD</td>\n",
              "      <td>35</td>\n",
              "      <td>14</td>\n",
              "      <td>13</td>\n",
              "      <td>22</td>\n",
              "    </tr>\n",
              "    <tr>\n",
              "      <th>8</th>\n",
              "      <td>Mitch</td>\n",
              "      <td>Forward</td>\n",
              "      <td>LW</td>\n",
              "      <td>33</td>\n",
              "      <td>12</td>\n",
              "      <td>24</td>\n",
              "      <td>9</td>\n",
              "    </tr>\n",
              "    <tr>\n",
              "      <th>9</th>\n",
              "      <td>Justin</td>\n",
              "      <td>Forward</td>\n",
              "      <td>RW</td>\n",
              "      <td>29</td>\n",
              "      <td>11</td>\n",
              "      <td>25</td>\n",
              "      <td>30</td>\n",
              "    </tr>\n",
              "  </tbody>\n",
              "</table>\n",
              "</div>"
            ],
            "text/plain": [
              "      Name GeneralPosition Position  GamesPlayed  Goals  Assists  Hits\n",
              "0      Bob         Forward        C           42     16       12    28\n",
              "1     John         Forward       RW           39     21        9    19\n",
              "2  Jessica         Defense       LD           21      3        1    15\n",
              "3   Andrew         Forward        C           27      8        2    21\n",
              "4   Amanda         Defense       RD           18      5        8    17\n",
              "5     Jack         Defense       RD           20      7       13    14\n",
              "6   Andrea         Forward       LW           46     24       20    29\n",
              "7    Chris         Defense       LD           35     14       13    22\n",
              "8    Mitch         Forward       LW           33     12       24     9\n",
              "9   Justin         Forward       RW           29     11       25    30"
            ]
          },
          "metadata": {
            "tags": []
          },
          "execution_count": 24
        }
      ]
    },
    {
      "cell_type": "markdown",
      "metadata": {
        "id": "semRg31iMR4f"
      },
      "source": [
        "Can we check if a whole column satisfies a condition? YES!"
      ]
    },
    {
      "cell_type": "code",
      "metadata": {
        "id": "-8EpQl1dNYnX"
      },
      "source": [
        "hockey_data[\"Goals\"] > 10"
      ],
      "execution_count": null,
      "outputs": []
    },
    {
      "cell_type": "markdown",
      "metadata": {
        "id": "i0cIdZShOAVL"
      },
      "source": [
        "This is how we can check which values in the Goals column are greater than 10.\n",
        "\n",
        "We can see that Python checks each value one-by-one and tells us if the condition returned True or False. For example, the 3rd player, Jessica, scored only 3 goals, so the 3rd value is False.\n",
        "\n",
        "However, we don't just want a bunch of booleans. We want to know which PLAYERS scored more than 10 goals!"
      ]
    },
    {
      "cell_type": "code",
      "metadata": {
        "id": "9kKZFRebOklS"
      },
      "source": [
        "hockey_data[hockey_data[\"Goals\"] > 10]"
      ],
      "execution_count": null,
      "outputs": []
    },
    {
      "cell_type": "markdown",
      "metadata": {
        "id": "Jzws0ImvOqGO"
      },
      "source": [
        "The above statement checks which rows in the Goals column satisfies our condition and then gets us ONLY those rows from the hockey_data dataframe.\n",
        "\n",
        "Let's try conditionally selecting some other rows from hockey_data."
      ]
    },
    {
      "cell_type": "markdown",
      "metadata": {
        "id": "4-OEybQ4O7tj"
      },
      "source": [
        "### Exercise 4: Conditional Expressions in Pandas"
      ]
    },
    {
      "cell_type": "code",
      "metadata": {
        "id": "jkAt61dTPqw6"
      },
      "source": [
        "# TO-DO: Select the players that play the Forward position\n"
      ],
      "execution_count": null,
      "outputs": []
    },
    {
      "cell_type": "code",
      "metadata": {
        "id": "bBQ6pzGpPZcy"
      },
      "source": [
        "# TO-DO: Select the players that played less than 20 games AND had more than 15 hits\n"
      ],
      "execution_count": null,
      "outputs": []
    },
    {
      "cell_type": "markdown",
      "metadata": {
        "id": "RnVCA0mIP1xy"
      },
      "source": [
        "# Aggregates"
      ]
    },
    {
      "cell_type": "markdown",
      "metadata": {
        "id": "ZgriRnZ_QKJO"
      },
      "source": [
        "## Aggregate Methods\n",
        "\n",
        "Pandas dataframes provide us with some very useful aggregate methods. We can use these, such as describe(), mean(), sum(), etc., to better understand our data quickly.\n",
        "\n",
        "Let's take a look at some of these."
      ]
    },
    {
      "cell_type": "code",
      "metadata": {
        "id": "WmZa_AS_QqPd",
        "colab": {
          "base_uri": "https://localhost:8080/"
        },
        "outputId": "ae86ade4-7a2e-4399-a4b0-929744a2dac8"
      },
      "source": [
        "hockey_data.sum()"
      ],
      "execution_count": 6,
      "outputs": [
        {
          "output_type": "execute_result",
          "data": {
            "text/plain": [
              "Name               BobJohnJessicaAndrewAmandaJackAndreaChrisMitch...\n",
              "GeneralPosition    ForwardForwardDefenseForwardDefenseDefenseForw...\n",
              "Position                                          CRWLDCRDRDLWLDLWRW\n",
              "GamesPlayed                                                      310\n",
              "Goals                                                            121\n",
              "Assists                                                          127\n",
              "Hits                                                             204\n",
              "dtype: object"
            ]
          },
          "metadata": {
            "tags": []
          },
          "execution_count": 6
        }
      ]
    },
    {
      "cell_type": "markdown",
      "metadata": {
        "id": "_NDLc-otSrSP"
      },
      "source": [
        "[DATAFRAME].sum() adds up all of the values in each column. Notice what its done with the **str** values."
      ]
    },
    {
      "cell_type": "code",
      "metadata": {
        "id": "9AeCFLfqTE1o",
        "colab": {
          "base_uri": "https://localhost:8080/"
        },
        "outputId": "6092a328-785a-4dcb-e35d-1d683a10ae01"
      },
      "source": [
        "hockey_data.mean()"
      ],
      "execution_count": 8,
      "outputs": [
        {
          "output_type": "execute_result",
          "data": {
            "text/plain": [
              "GamesPlayed    31.0\n",
              "Goals          12.1\n",
              "Assists        12.7\n",
              "Hits           20.4\n",
              "dtype: float64"
            ]
          },
          "metadata": {
            "tags": []
          },
          "execution_count": 8
        }
      ]
    },
    {
      "cell_type": "markdown",
      "metadata": {
        "id": "87Td9YfbTJDV"
      },
      "source": [
        "[DATAFRAME].mean() calculates the mean for each column. Did you notice what it does to columns that don't contain **int**/**float** values?"
      ]
    },
    {
      "cell_type": "code",
      "metadata": {
        "id": "G4vVuonnTYMM",
        "colab": {
          "base_uri": "https://localhost:8080/",
          "height": 295
        },
        "outputId": "6000b669-7c1b-4185-b880-c92391c1f529"
      },
      "source": [
        "hockey_data.describe()"
      ],
      "execution_count": 5,
      "outputs": [
        {
          "output_type": "execute_result",
          "data": {
            "text/html": [
              "<div>\n",
              "<style scoped>\n",
              "    .dataframe tbody tr th:only-of-type {\n",
              "        vertical-align: middle;\n",
              "    }\n",
              "\n",
              "    .dataframe tbody tr th {\n",
              "        vertical-align: top;\n",
              "    }\n",
              "\n",
              "    .dataframe thead th {\n",
              "        text-align: right;\n",
              "    }\n",
              "</style>\n",
              "<table border=\"1\" class=\"dataframe\">\n",
              "  <thead>\n",
              "    <tr style=\"text-align: right;\">\n",
              "      <th></th>\n",
              "      <th>GamesPlayed</th>\n",
              "      <th>Goals</th>\n",
              "      <th>Assists</th>\n",
              "      <th>Hits</th>\n",
              "    </tr>\n",
              "  </thead>\n",
              "  <tbody>\n",
              "    <tr>\n",
              "      <th>count</th>\n",
              "      <td>10.000000</td>\n",
              "      <td>10.000000</td>\n",
              "      <td>10.000000</td>\n",
              "      <td>10.000000</td>\n",
              "    </tr>\n",
              "    <tr>\n",
              "      <th>mean</th>\n",
              "      <td>31.000000</td>\n",
              "      <td>12.100000</td>\n",
              "      <td>12.700000</td>\n",
              "      <td>20.400000</td>\n",
              "    </tr>\n",
              "    <tr>\n",
              "      <th>std</th>\n",
              "      <td>9.660918</td>\n",
              "      <td>6.806043</td>\n",
              "      <td>8.300602</td>\n",
              "      <td>6.995236</td>\n",
              "    </tr>\n",
              "    <tr>\n",
              "      <th>min</th>\n",
              "      <td>18.000000</td>\n",
              "      <td>3.000000</td>\n",
              "      <td>1.000000</td>\n",
              "      <td>9.000000</td>\n",
              "    </tr>\n",
              "    <tr>\n",
              "      <th>25%</th>\n",
              "      <td>22.500000</td>\n",
              "      <td>7.250000</td>\n",
              "      <td>8.250000</td>\n",
              "      <td>15.500000</td>\n",
              "    </tr>\n",
              "    <tr>\n",
              "      <th>50%</th>\n",
              "      <td>31.000000</td>\n",
              "      <td>11.500000</td>\n",
              "      <td>12.500000</td>\n",
              "      <td>20.000000</td>\n",
              "    </tr>\n",
              "    <tr>\n",
              "      <th>75%</th>\n",
              "      <td>38.000000</td>\n",
              "      <td>15.500000</td>\n",
              "      <td>18.250000</td>\n",
              "      <td>26.500000</td>\n",
              "    </tr>\n",
              "    <tr>\n",
              "      <th>max</th>\n",
              "      <td>46.000000</td>\n",
              "      <td>24.000000</td>\n",
              "      <td>25.000000</td>\n",
              "      <td>30.000000</td>\n",
              "    </tr>\n",
              "  </tbody>\n",
              "</table>\n",
              "</div>"
            ],
            "text/plain": [
              "       GamesPlayed      Goals    Assists       Hits\n",
              "count    10.000000  10.000000  10.000000  10.000000\n",
              "mean     31.000000  12.100000  12.700000  20.400000\n",
              "std       9.660918   6.806043   8.300602   6.995236\n",
              "min      18.000000   3.000000   1.000000   9.000000\n",
              "25%      22.500000   7.250000   8.250000  15.500000\n",
              "50%      31.000000  11.500000  12.500000  20.000000\n",
              "75%      38.000000  15.500000  18.250000  26.500000\n",
              "max      46.000000  24.000000  25.000000  30.000000"
            ]
          },
          "metadata": {
            "tags": []
          },
          "execution_count": 5
        }
      ]
    },
    {
      "cell_type": "markdown",
      "metadata": {
        "id": "_SAn_LxOTbA2"
      },
      "source": [
        "[DATAFRAME].describe() is a useful method to calculate various statistical aggregates for **int**/**float** values together."
      ]
    },
    {
      "cell_type": "markdown",
      "metadata": {
        "id": "iJ5yB66dTkDr"
      },
      "source": [
        "### Exercise 5: Useful Aggregate Methods\n",
        "\n",
        "Can you find out how to calculate the median for each column using an aggregate method?"
      ]
    },
    {
      "cell_type": "code",
      "metadata": {
        "id": "ynR-aZdJuaNM"
      },
      "source": [
        "## TO-DO: calculate the median for hockey_stats\n"
      ],
      "execution_count": null,
      "outputs": []
    },
    {
      "cell_type": "markdown",
      "metadata": {
        "id": "IsgwIYvJvAKB"
      },
      "source": [
        "## Group-By\n",
        "\n",
        "Sometimes, we'll want to calculate these statistics for groupings within our given data. This is made easy for us as well!"
      ]
    },
    {
      "cell_type": "markdown",
      "metadata": {
        "id": "on5VXndqvqmH"
      },
      "source": [
        "We can do this by using the code:\n",
        "\n",
        "[DATA_VARIABLE].groupby([COLUMN_NAME]).[AGGREGATE_METHOD]"
      ]
    },
    {
      "cell_type": "code",
      "metadata": {
        "id": "3nC0UhCYvV2o",
        "colab": {
          "base_uri": "https://localhost:8080/",
          "height": 142
        },
        "outputId": "8ec04268-8919-48f3-a368-d652f298c508"
      },
      "source": [
        "hockey_data.groupby('GeneralPosition').mean()"
      ],
      "execution_count": 6,
      "outputs": [
        {
          "output_type": "execute_result",
          "data": {
            "text/html": [
              "<div>\n",
              "<style scoped>\n",
              "    .dataframe tbody tr th:only-of-type {\n",
              "        vertical-align: middle;\n",
              "    }\n",
              "\n",
              "    .dataframe tbody tr th {\n",
              "        vertical-align: top;\n",
              "    }\n",
              "\n",
              "    .dataframe thead th {\n",
              "        text-align: right;\n",
              "    }\n",
              "</style>\n",
              "<table border=\"1\" class=\"dataframe\">\n",
              "  <thead>\n",
              "    <tr style=\"text-align: right;\">\n",
              "      <th></th>\n",
              "      <th>GamesPlayed</th>\n",
              "      <th>Goals</th>\n",
              "      <th>Assists</th>\n",
              "      <th>Hits</th>\n",
              "    </tr>\n",
              "    <tr>\n",
              "      <th>GeneralPosition</th>\n",
              "      <th></th>\n",
              "      <th></th>\n",
              "      <th></th>\n",
              "      <th></th>\n",
              "    </tr>\n",
              "  </thead>\n",
              "  <tbody>\n",
              "    <tr>\n",
              "      <th>Defense</th>\n",
              "      <td>23.5</td>\n",
              "      <td>7.250000</td>\n",
              "      <td>8.750000</td>\n",
              "      <td>17.000000</td>\n",
              "    </tr>\n",
              "    <tr>\n",
              "      <th>Forward</th>\n",
              "      <td>36.0</td>\n",
              "      <td>15.333333</td>\n",
              "      <td>15.333333</td>\n",
              "      <td>22.666667</td>\n",
              "    </tr>\n",
              "  </tbody>\n",
              "</table>\n",
              "</div>"
            ],
            "text/plain": [
              "                 GamesPlayed      Goals    Assists       Hits\n",
              "GeneralPosition                                              \n",
              "Defense                 23.5   7.250000   8.750000  17.000000\n",
              "Forward                 36.0  15.333333  15.333333  22.666667"
            ]
          },
          "metadata": {
            "tags": []
          },
          "execution_count": 6
        }
      ]
    },
    {
      "cell_type": "markdown",
      "metadata": {
        "id": "PsW3J-BAyxzw"
      },
      "source": [
        "Let's try grouping by both \"GeneralPosition\" and \"Position\"!"
      ]
    },
    {
      "cell_type": "markdown",
      "metadata": {
        "id": "H0V5uIHxy6wf"
      },
      "source": [
        "### Exercise 6: Group-By"
      ]
    },
    {
      "cell_type": "code",
      "metadata": {
        "id": "jrhCGG42y-iE",
        "colab": {
          "base_uri": "https://localhost:8080/",
          "height": 234
        },
        "outputId": "d2c3f856-aaf1-4ad5-b91e-7fffd81a50a2"
      },
      "source": [
        "## TO-DO: Calculate the median of hockey_data after grouping by both General Position and Position\n",
        "hockey_data.groupby(['GeneralPosition', 'Position']).mean()"
      ],
      "execution_count": 9,
      "outputs": [
        {
          "output_type": "execute_result",
          "data": {
            "text/html": [
              "<div>\n",
              "<style scoped>\n",
              "    .dataframe tbody tr th:only-of-type {\n",
              "        vertical-align: middle;\n",
              "    }\n",
              "\n",
              "    .dataframe tbody tr th {\n",
              "        vertical-align: top;\n",
              "    }\n",
              "\n",
              "    .dataframe thead th {\n",
              "        text-align: right;\n",
              "    }\n",
              "</style>\n",
              "<table border=\"1\" class=\"dataframe\">\n",
              "  <thead>\n",
              "    <tr style=\"text-align: right;\">\n",
              "      <th></th>\n",
              "      <th></th>\n",
              "      <th>GamesPlayed</th>\n",
              "      <th>Goals</th>\n",
              "      <th>Assists</th>\n",
              "      <th>Hits</th>\n",
              "    </tr>\n",
              "    <tr>\n",
              "      <th>GeneralPosition</th>\n",
              "      <th>Position</th>\n",
              "      <th></th>\n",
              "      <th></th>\n",
              "      <th></th>\n",
              "      <th></th>\n",
              "    </tr>\n",
              "  </thead>\n",
              "  <tbody>\n",
              "    <tr>\n",
              "      <th rowspan=\"2\" valign=\"top\">Defense</th>\n",
              "      <th>LD</th>\n",
              "      <td>28.0</td>\n",
              "      <td>8.5</td>\n",
              "      <td>7.0</td>\n",
              "      <td>18.5</td>\n",
              "    </tr>\n",
              "    <tr>\n",
              "      <th>RD</th>\n",
              "      <td>19.0</td>\n",
              "      <td>6.0</td>\n",
              "      <td>10.5</td>\n",
              "      <td>15.5</td>\n",
              "    </tr>\n",
              "    <tr>\n",
              "      <th rowspan=\"3\" valign=\"top\">Forward</th>\n",
              "      <th>C</th>\n",
              "      <td>34.5</td>\n",
              "      <td>12.0</td>\n",
              "      <td>7.0</td>\n",
              "      <td>24.5</td>\n",
              "    </tr>\n",
              "    <tr>\n",
              "      <th>LW</th>\n",
              "      <td>39.5</td>\n",
              "      <td>18.0</td>\n",
              "      <td>22.0</td>\n",
              "      <td>19.0</td>\n",
              "    </tr>\n",
              "    <tr>\n",
              "      <th>RW</th>\n",
              "      <td>34.0</td>\n",
              "      <td>16.0</td>\n",
              "      <td>17.0</td>\n",
              "      <td>24.5</td>\n",
              "    </tr>\n",
              "  </tbody>\n",
              "</table>\n",
              "</div>"
            ],
            "text/plain": [
              "                          GamesPlayed  Goals  Assists  Hits\n",
              "GeneralPosition Position                                   \n",
              "Defense         LD               28.0    8.5      7.0  18.5\n",
              "                RD               19.0    6.0     10.5  15.5\n",
              "Forward         C                34.5   12.0      7.0  24.5\n",
              "                LW               39.5   18.0     22.0  19.0\n",
              "                RW               34.0   16.0     17.0  24.5"
            ]
          },
          "metadata": {
            "tags": []
          },
          "execution_count": 9
        }
      ]
    },
    {
      "cell_type": "markdown",
      "metadata": {
        "id": "_B9wa_sc04dY"
      },
      "source": [
        "# Peer Programming: Comprehension Questions"
      ]
    },
    {
      "cell_type": "markdown",
      "metadata": {
        "id": "a-Miz9f8099N"
      },
      "source": [
        "Please use the dataset available here: https://raw.githubusercontent.com/bilalhsyed/sparkdata/master/StudentsPerformance.csv"
      ]
    },
    {
      "cell_type": "markdown",
      "metadata": {
        "id": "41yjXd4m98tY"
      },
      "source": [
        "Using this dataset, please complete the following tasks:\n",
        "\n",
        "**NOTE:** Use formatted print statements to display your answers."
      ]
    },
    {
      "cell_type": "markdown",
      "metadata": {
        "id": "zFfrcD2v6Xvp"
      },
      "source": [
        "## Task 1"
      ]
    },
    {
      "cell_type": "code",
      "metadata": {
        "id": "L_8iNhz06tNC",
        "colab": {
          "base_uri": "https://localhost:8080/",
          "height": 417
        },
        "outputId": "ede0a30d-7538-4aa8-c53d-a912fe470ad3"
      },
      "source": [
        "## TO-DO: Import the relevant libraries\n",
        "import pandas as pd\n",
        "import numpy as np\n",
        "\n",
        "## TO-DO: Read the .csv file\n",
        "student_data = pd.read_csv(\"https://raw.githubusercontent.com/bilalhsyed/sparkdata/master/StudentsPerformance.csv\")\n",
        "\n",
        "## TO-DO: Display the contents of the file to see what it looks like\n",
        "student_data\n"
      ],
      "execution_count": 11,
      "outputs": [
        {
          "output_type": "execute_result",
          "data": {
            "text/html": [
              "<div>\n",
              "<style scoped>\n",
              "    .dataframe tbody tr th:only-of-type {\n",
              "        vertical-align: middle;\n",
              "    }\n",
              "\n",
              "    .dataframe tbody tr th {\n",
              "        vertical-align: top;\n",
              "    }\n",
              "\n",
              "    .dataframe thead th {\n",
              "        text-align: right;\n",
              "    }\n",
              "</style>\n",
              "<table border=\"1\" class=\"dataframe\">\n",
              "  <thead>\n",
              "    <tr style=\"text-align: right;\">\n",
              "      <th></th>\n",
              "      <th>gender</th>\n",
              "      <th>race/ethnicity</th>\n",
              "      <th>parental level of education</th>\n",
              "      <th>lunch</th>\n",
              "      <th>test preparation course</th>\n",
              "      <th>math score</th>\n",
              "      <th>reading score</th>\n",
              "      <th>writing score</th>\n",
              "    </tr>\n",
              "  </thead>\n",
              "  <tbody>\n",
              "    <tr>\n",
              "      <th>0</th>\n",
              "      <td>female</td>\n",
              "      <td>group B</td>\n",
              "      <td>bachelor's degree</td>\n",
              "      <td>standard</td>\n",
              "      <td>none</td>\n",
              "      <td>72</td>\n",
              "      <td>72</td>\n",
              "      <td>74</td>\n",
              "    </tr>\n",
              "    <tr>\n",
              "      <th>1</th>\n",
              "      <td>female</td>\n",
              "      <td>group C</td>\n",
              "      <td>some college</td>\n",
              "      <td>standard</td>\n",
              "      <td>completed</td>\n",
              "      <td>69</td>\n",
              "      <td>90</td>\n",
              "      <td>88</td>\n",
              "    </tr>\n",
              "    <tr>\n",
              "      <th>2</th>\n",
              "      <td>female</td>\n",
              "      <td>group B</td>\n",
              "      <td>master's degree</td>\n",
              "      <td>standard</td>\n",
              "      <td>none</td>\n",
              "      <td>90</td>\n",
              "      <td>95</td>\n",
              "      <td>93</td>\n",
              "    </tr>\n",
              "    <tr>\n",
              "      <th>3</th>\n",
              "      <td>male</td>\n",
              "      <td>group A</td>\n",
              "      <td>associate's degree</td>\n",
              "      <td>free/reduced</td>\n",
              "      <td>none</td>\n",
              "      <td>47</td>\n",
              "      <td>57</td>\n",
              "      <td>44</td>\n",
              "    </tr>\n",
              "    <tr>\n",
              "      <th>4</th>\n",
              "      <td>male</td>\n",
              "      <td>group C</td>\n",
              "      <td>some college</td>\n",
              "      <td>standard</td>\n",
              "      <td>none</td>\n",
              "      <td>76</td>\n",
              "      <td>78</td>\n",
              "      <td>75</td>\n",
              "    </tr>\n",
              "    <tr>\n",
              "      <th>...</th>\n",
              "      <td>...</td>\n",
              "      <td>...</td>\n",
              "      <td>...</td>\n",
              "      <td>...</td>\n",
              "      <td>...</td>\n",
              "      <td>...</td>\n",
              "      <td>...</td>\n",
              "      <td>...</td>\n",
              "    </tr>\n",
              "    <tr>\n",
              "      <th>995</th>\n",
              "      <td>female</td>\n",
              "      <td>group E</td>\n",
              "      <td>master's degree</td>\n",
              "      <td>standard</td>\n",
              "      <td>completed</td>\n",
              "      <td>88</td>\n",
              "      <td>99</td>\n",
              "      <td>95</td>\n",
              "    </tr>\n",
              "    <tr>\n",
              "      <th>996</th>\n",
              "      <td>male</td>\n",
              "      <td>group C</td>\n",
              "      <td>high school</td>\n",
              "      <td>free/reduced</td>\n",
              "      <td>none</td>\n",
              "      <td>62</td>\n",
              "      <td>55</td>\n",
              "      <td>55</td>\n",
              "    </tr>\n",
              "    <tr>\n",
              "      <th>997</th>\n",
              "      <td>female</td>\n",
              "      <td>group C</td>\n",
              "      <td>high school</td>\n",
              "      <td>free/reduced</td>\n",
              "      <td>completed</td>\n",
              "      <td>59</td>\n",
              "      <td>71</td>\n",
              "      <td>65</td>\n",
              "    </tr>\n",
              "    <tr>\n",
              "      <th>998</th>\n",
              "      <td>female</td>\n",
              "      <td>group D</td>\n",
              "      <td>some college</td>\n",
              "      <td>standard</td>\n",
              "      <td>completed</td>\n",
              "      <td>68</td>\n",
              "      <td>78</td>\n",
              "      <td>77</td>\n",
              "    </tr>\n",
              "    <tr>\n",
              "      <th>999</th>\n",
              "      <td>female</td>\n",
              "      <td>group D</td>\n",
              "      <td>some college</td>\n",
              "      <td>free/reduced</td>\n",
              "      <td>none</td>\n",
              "      <td>77</td>\n",
              "      <td>86</td>\n",
              "      <td>86</td>\n",
              "    </tr>\n",
              "  </tbody>\n",
              "</table>\n",
              "<p>1000 rows × 8 columns</p>\n",
              "</div>"
            ],
            "text/plain": [
              "     gender race/ethnicity  ... reading score writing score\n",
              "0    female        group B  ...            72            74\n",
              "1    female        group C  ...            90            88\n",
              "2    female        group B  ...            95            93\n",
              "3      male        group A  ...            57            44\n",
              "4      male        group C  ...            78            75\n",
              "..      ...            ...  ...           ...           ...\n",
              "995  female        group E  ...            99            95\n",
              "996    male        group C  ...            55            55\n",
              "997  female        group C  ...            71            65\n",
              "998  female        group D  ...            78            77\n",
              "999  female        group D  ...            86            86\n",
              "\n",
              "[1000 rows x 8 columns]"
            ]
          },
          "metadata": {
            "tags": []
          },
          "execution_count": 11
        }
      ]
    },
    {
      "cell_type": "markdown",
      "metadata": {
        "id": "xGLOirZH7JrS"
      },
      "source": [
        "## Task 2"
      ]
    },
    {
      "cell_type": "code",
      "metadata": {
        "id": "wx8RHAKL7K0o",
        "colab": {
          "base_uri": "https://localhost:8080/",
          "height": 417
        },
        "outputId": "19d156b8-d22d-4895-e93f-d2264fd6585d"
      },
      "source": [
        "## TO-DO: Select the 3 test scores (math score, reading score, writing score) of students that are female and have a standard lunch\n",
        "female_students = student_data[(student_data[\"gender\"]==\"female\")&(student_data[\"lunch\"]==\"standard\")]\n",
        "female_students =female_students.loc[:,[\"math score\",\"reading score\",\"writing score\"]]\n",
        "female_students\n",
        "\n",
        "## TO-DO: How many students satisfy the above requirements?\n",
        "\n",
        "\n",
        "## TO-DO: What is the mean math score for these students?\n",
        "\n",
        "\n",
        "## TO-DO: What is the median reading score for these students?\n",
        "\n",
        "\n",
        "## TO-DO: What is the min/max writing score for these students?\n"
      ],
      "execution_count": 29,
      "outputs": [
        {
          "output_type": "execute_result",
          "data": {
            "text/html": [
              "<div>\n",
              "<style scoped>\n",
              "    .dataframe tbody tr th:only-of-type {\n",
              "        vertical-align: middle;\n",
              "    }\n",
              "\n",
              "    .dataframe tbody tr th {\n",
              "        vertical-align: top;\n",
              "    }\n",
              "\n",
              "    .dataframe thead th {\n",
              "        text-align: right;\n",
              "    }\n",
              "</style>\n",
              "<table border=\"1\" class=\"dataframe\">\n",
              "  <thead>\n",
              "    <tr style=\"text-align: right;\">\n",
              "      <th></th>\n",
              "      <th>math score</th>\n",
              "      <th>reading score</th>\n",
              "      <th>writing score</th>\n",
              "    </tr>\n",
              "  </thead>\n",
              "  <tbody>\n",
              "    <tr>\n",
              "      <th>0</th>\n",
              "      <td>72</td>\n",
              "      <td>72</td>\n",
              "      <td>74</td>\n",
              "    </tr>\n",
              "    <tr>\n",
              "      <th>1</th>\n",
              "      <td>69</td>\n",
              "      <td>90</td>\n",
              "      <td>88</td>\n",
              "    </tr>\n",
              "    <tr>\n",
              "      <th>2</th>\n",
              "      <td>90</td>\n",
              "      <td>95</td>\n",
              "      <td>93</td>\n",
              "    </tr>\n",
              "    <tr>\n",
              "      <th>5</th>\n",
              "      <td>71</td>\n",
              "      <td>83</td>\n",
              "      <td>78</td>\n",
              "    </tr>\n",
              "    <tr>\n",
              "      <th>6</th>\n",
              "      <td>88</td>\n",
              "      <td>95</td>\n",
              "      <td>92</td>\n",
              "    </tr>\n",
              "    <tr>\n",
              "      <th>...</th>\n",
              "      <td>...</td>\n",
              "      <td>...</td>\n",
              "      <td>...</td>\n",
              "    </tr>\n",
              "    <tr>\n",
              "      <th>984</th>\n",
              "      <td>74</td>\n",
              "      <td>75</td>\n",
              "      <td>82</td>\n",
              "    </tr>\n",
              "    <tr>\n",
              "      <th>986</th>\n",
              "      <td>40</td>\n",
              "      <td>59</td>\n",
              "      <td>51</td>\n",
              "    </tr>\n",
              "    <tr>\n",
              "      <th>991</th>\n",
              "      <td>65</td>\n",
              "      <td>82</td>\n",
              "      <td>78</td>\n",
              "    </tr>\n",
              "    <tr>\n",
              "      <th>995</th>\n",
              "      <td>88</td>\n",
              "      <td>99</td>\n",
              "      <td>95</td>\n",
              "    </tr>\n",
              "    <tr>\n",
              "      <th>998</th>\n",
              "      <td>68</td>\n",
              "      <td>78</td>\n",
              "      <td>77</td>\n",
              "    </tr>\n",
              "  </tbody>\n",
              "</table>\n",
              "<p>329 rows × 3 columns</p>\n",
              "</div>"
            ],
            "text/plain": [
              "     math score  reading score  writing score\n",
              "0            72             72             74\n",
              "1            69             90             88\n",
              "2            90             95             93\n",
              "5            71             83             78\n",
              "6            88             95             92\n",
              "..          ...            ...            ...\n",
              "984          74             75             82\n",
              "986          40             59             51\n",
              "991          65             82             78\n",
              "995          88             99             95\n",
              "998          68             78             77\n",
              "\n",
              "[329 rows x 3 columns]"
            ]
          },
          "metadata": {
            "tags": []
          },
          "execution_count": 29
        }
      ]
    },
    {
      "cell_type": "markdown",
      "metadata": {
        "id": "Qdq5D-gp8ADD"
      },
      "source": [
        "## Task 3"
      ]
    },
    {
      "cell_type": "code",
      "metadata": {
        "id": "W5jCd-El8BhT"
      },
      "source": [
        "## TO-DO: Select the students who are in Group B, didn't complete the test preparation course, and scored 70+ in atleast 1 of the tests\n",
        "\n",
        "\n",
        "## TO-DO: How many students satisfy the above requirements?\n",
        "\n",
        "\n",
        "## TO-DO: How many of these students are male?\n",
        "\n",
        "\n",
        "## TO-DO: Perform an aggregate statistical test of your choosing (besides the ones from Task 2) on the selected students and report your results\n"
      ],
      "execution_count": null,
      "outputs": []
    },
    {
      "cell_type": "markdown",
      "metadata": {
        "id": "aLzcrRr--Mu8"
      },
      "source": [
        "## Task 4"
      ]
    },
    {
      "cell_type": "code",
      "metadata": {
        "id": "Xq4pIH7S-OBD"
      },
      "source": [
        "## TO-DO: What is the median math score for female students in Group C with parents that have completed a bachelor's degree? Use .groupby()\n",
        "\n",
        "\n",
        "## TO-DO: What is the mean reading score for students in Group A with a standard lunch? Use .groupby()\n",
        "\n",
        "\n",
        "## TO-DO: What is the minimum writing score for male students that completed the test preparation course with parents that have completed high school? Use .groupby()\n"
      ],
      "execution_count": null,
      "outputs": []
    },
    {
      "cell_type": "markdown",
      "metadata": {
        "id": "-xtDa8J31BhJ"
      },
      "source": [
        "# Data Scavenger Hunt"
      ]
    },
    {
      "cell_type": "markdown",
      "metadata": {
        "id": "ODvt6ATq1E2q"
      },
      "source": [
        ""
      ]
    },
    {
      "cell_type": "code",
      "metadata": {
        "id": "lN3r4ZoriK5P"
      },
      "source": [
        "# Import libraries\n",
        "import pandas as pd\n",
        "import numpy as np\n",
        "\n",
        "\n"
      ],
      "execution_count": 1,
      "outputs": []
    },
    {
      "cell_type": "markdown",
      "metadata": {
        "id": "3J9O7D_RF_vP"
      },
      "source": [
        "# Peer Programming: Cleaning Your Dataset"
      ]
    },
    {
      "cell_type": "code",
      "metadata": {
        "colab": {
          "base_uri": "https://localhost:8080/",
          "height": 417
        },
        "id": "xS96u8exjAkN",
        "outputId": "c7d68b68-3543-4351-cc1e-e349f3cc11bb"
      },
      "source": [
        "# Create a list of missing values and save as a variable\n",
        "missing_values = ['n/a', 'na', 'NaN', 'NA', '--']\n",
        "\n",
        "charactersList = pd.read_csv(\"https://raw.githubusercontent.com/nguyenjenny/spark_shared_repo/main/datasets/characters.csv\", na_values=missing_values)\n",
        "charactersList\n"
      ],
      "execution_count": 2,
      "outputs": [
        {
          "output_type": "execute_result",
          "data": {
            "text/html": [
              "<div>\n",
              "<style scoped>\n",
              "    .dataframe tbody tr th:only-of-type {\n",
              "        vertical-align: middle;\n",
              "    }\n",
              "\n",
              "    .dataframe tbody tr th {\n",
              "        vertical-align: top;\n",
              "    }\n",
              "\n",
              "    .dataframe thead th {\n",
              "        text-align: right;\n",
              "    }\n",
              "</style>\n",
              "<table border=\"1\" class=\"dataframe\">\n",
              "  <thead>\n",
              "    <tr style=\"text-align: right;\">\n",
              "      <th></th>\n",
              "      <th>Name</th>\n",
              "      <th>Height</th>\n",
              "      <th>Mass</th>\n",
              "      <th>Hair Color</th>\n",
              "      <th>Skin Color</th>\n",
              "      <th>Eye Color</th>\n",
              "      <th>Birth Year</th>\n",
              "      <th>BBY/ABY</th>\n",
              "      <th>Gender</th>\n",
              "      <th>Homeworld</th>\n",
              "      <th>Species</th>\n",
              "    </tr>\n",
              "  </thead>\n",
              "  <tbody>\n",
              "    <tr>\n",
              "      <th>0</th>\n",
              "      <td>Ackbar</td>\n",
              "      <td>180.0</td>\n",
              "      <td>83.0</td>\n",
              "      <td>None</td>\n",
              "      <td>Brown Mottle</td>\n",
              "      <td>Orange</td>\n",
              "      <td>41.0</td>\n",
              "      <td>NaN</td>\n",
              "      <td>Male</td>\n",
              "      <td>Mon Cala</td>\n",
              "      <td>Mon Calamari</td>\n",
              "    </tr>\n",
              "    <tr>\n",
              "      <th>1</th>\n",
              "      <td>Adi Gallia</td>\n",
              "      <td>184.0</td>\n",
              "      <td>50.0</td>\n",
              "      <td>None</td>\n",
              "      <td>Dark</td>\n",
              "      <td>Blue</td>\n",
              "      <td>80.0</td>\n",
              "      <td>NaN</td>\n",
              "      <td>Female</td>\n",
              "      <td>Coruscant</td>\n",
              "      <td>Tholothian</td>\n",
              "    </tr>\n",
              "    <tr>\n",
              "      <th>2</th>\n",
              "      <td>Anakin Skywalker</td>\n",
              "      <td>188.0</td>\n",
              "      <td>84.0</td>\n",
              "      <td>Blond</td>\n",
              "      <td>Fair</td>\n",
              "      <td>Blue</td>\n",
              "      <td>41.9</td>\n",
              "      <td>NaN</td>\n",
              "      <td>Male</td>\n",
              "      <td>Tatooine</td>\n",
              "      <td>Human</td>\n",
              "    </tr>\n",
              "    <tr>\n",
              "      <th>3</th>\n",
              "      <td>Arvel Crynyd</td>\n",
              "      <td>NaN</td>\n",
              "      <td>NaN</td>\n",
              "      <td>Brown</td>\n",
              "      <td>Fair</td>\n",
              "      <td>Brown</td>\n",
              "      <td>NaN</td>\n",
              "      <td>NaN</td>\n",
              "      <td>Male</td>\n",
              "      <td>NaN</td>\n",
              "      <td>Human</td>\n",
              "    </tr>\n",
              "    <tr>\n",
              "      <th>4</th>\n",
              "      <td>Ayla Secura</td>\n",
              "      <td>178.0</td>\n",
              "      <td>55.0</td>\n",
              "      <td>None</td>\n",
              "      <td>Blue</td>\n",
              "      <td>Hazel</td>\n",
              "      <td>48.0</td>\n",
              "      <td>NaN</td>\n",
              "      <td>Female</td>\n",
              "      <td>Ryloth</td>\n",
              "      <td>Twi'lek</td>\n",
              "    </tr>\n",
              "    <tr>\n",
              "      <th>...</th>\n",
              "      <td>...</td>\n",
              "      <td>...</td>\n",
              "      <td>...</td>\n",
              "      <td>...</td>\n",
              "      <td>...</td>\n",
              "      <td>...</td>\n",
              "      <td>...</td>\n",
              "      <td>...</td>\n",
              "      <td>...</td>\n",
              "      <td>...</td>\n",
              "      <td>...</td>\n",
              "    </tr>\n",
              "    <tr>\n",
              "      <th>82</th>\n",
              "      <td>Wicket Systri Warrick</td>\n",
              "      <td>88.0</td>\n",
              "      <td>20.0</td>\n",
              "      <td>Brown</td>\n",
              "      <td>Brown</td>\n",
              "      <td>Brown</td>\n",
              "      <td>8.0</td>\n",
              "      <td>BBY</td>\n",
              "      <td>Male</td>\n",
              "      <td>Endor</td>\n",
              "      <td>Ewok</td>\n",
              "    </tr>\n",
              "    <tr>\n",
              "      <th>83</th>\n",
              "      <td>Wilhuff Tarkin</td>\n",
              "      <td>180.0</td>\n",
              "      <td>NaN</td>\n",
              "      <td>Auburn, Grey</td>\n",
              "      <td>Fair</td>\n",
              "      <td>Blue</td>\n",
              "      <td>64.0</td>\n",
              "      <td>BBY</td>\n",
              "      <td>Male</td>\n",
              "      <td>Eriadu</td>\n",
              "      <td>Human</td>\n",
              "    </tr>\n",
              "    <tr>\n",
              "      <th>84</th>\n",
              "      <td>Yarael Poof</td>\n",
              "      <td>264.0</td>\n",
              "      <td>NaN</td>\n",
              "      <td>None</td>\n",
              "      <td>White</td>\n",
              "      <td>Yellow</td>\n",
              "      <td>NaN</td>\n",
              "      <td>NaN</td>\n",
              "      <td>Male</td>\n",
              "      <td>Quermia</td>\n",
              "      <td>Quermian</td>\n",
              "    </tr>\n",
              "    <tr>\n",
              "      <th>85</th>\n",
              "      <td>Yoda</td>\n",
              "      <td>66.0</td>\n",
              "      <td>17.0</td>\n",
              "      <td>White</td>\n",
              "      <td>Green</td>\n",
              "      <td>Brown</td>\n",
              "      <td>896.0</td>\n",
              "      <td>BBY</td>\n",
              "      <td>Male</td>\n",
              "      <td>NaN</td>\n",
              "      <td>NaN</td>\n",
              "    </tr>\n",
              "    <tr>\n",
              "      <th>86</th>\n",
              "      <td>Zam Wesell</td>\n",
              "      <td>168.0</td>\n",
              "      <td>55.0</td>\n",
              "      <td>Blonde</td>\n",
              "      <td>Fair, Green, Yellow</td>\n",
              "      <td>Yellow</td>\n",
              "      <td>NaN</td>\n",
              "      <td>NaN</td>\n",
              "      <td>Female</td>\n",
              "      <td>Zolan</td>\n",
              "      <td>Clawdite</td>\n",
              "    </tr>\n",
              "  </tbody>\n",
              "</table>\n",
              "<p>87 rows × 11 columns</p>\n",
              "</div>"
            ],
            "text/plain": [
              "                     Name  Height  Mass  ...  Gender  Homeworld       Species\n",
              "0                  Ackbar   180.0  83.0  ...    Male   Mon Cala  Mon Calamari\n",
              "1              Adi Gallia   184.0  50.0  ...  Female  Coruscant    Tholothian\n",
              "2        Anakin Skywalker   188.0  84.0  ...    Male   Tatooine         Human\n",
              "3            Arvel Crynyd     NaN   NaN  ...    Male        NaN         Human\n",
              "4             Ayla Secura   178.0  55.0  ...  Female     Ryloth       Twi'lek\n",
              "..                    ...     ...   ...  ...     ...        ...           ...\n",
              "82  Wicket Systri Warrick    88.0  20.0  ...    Male      Endor          Ewok\n",
              "83         Wilhuff Tarkin   180.0   NaN  ...    Male     Eriadu         Human\n",
              "84            Yarael Poof   264.0   NaN  ...    Male    Quermia      Quermian\n",
              "85                   Yoda    66.0  17.0  ...    Male        NaN           NaN\n",
              "86             Zam Wesell   168.0  55.0  ...  Female      Zolan      Clawdite\n",
              "\n",
              "[87 rows x 11 columns]"
            ]
          },
          "metadata": {
            "tags": []
          },
          "execution_count": 2
        }
      ]
    },
    {
      "cell_type": "markdown",
      "metadata": {
        "id": "KYZnIuhvGEbT"
      },
      "source": [
        ""
      ]
    }
  ]
}