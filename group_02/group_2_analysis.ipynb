{
  "nbformat": 4,
  "nbformat_minor": 0,
  "metadata": {
    "orig_nbformat": 4,
    "colab": {
      "name": "group_2_analysis.ipynb",
      "provenance": [],
      "collapsed_sections": [],
      "toc_visible": true
    },
    "language_info": {
      "name": "python"
    },
    "kernelspec": {
      "name": "python3",
      "display_name": "Python 3"
    }
  },
  "cells": [
    {
      "cell_type": "markdown",
      "metadata": {
        "id": "qcQpMvBKJaNL"
      },
      "source": [
        "# The NarWolves: DC vs Marvel Data Analysis"
      ]
    },
    {
      "cell_type": "markdown",
      "metadata": {
        "id": "QHX1AbroJaNM"
      },
      "source": [
        "## Loading libraries and importing DC vs. Marvel data\n",
        "\n",
        "The dataset was obtained from [Kaggle](https://www.kaggle.com/hetulmehta/marvel-vs-dc-imdb-dataset). The dataset first cleaned and processed in this [notebook](https://github.com/nguyenjenny/spark_shared_repo/blob/main/group_02/CleanData.ipynb)."
      ]
    },
    {
      "cell_type": "code",
      "metadata": {
        "id": "05xQAWtOJaNN",
        "colab": {
          "base_uri": "https://localhost:8080/",
          "height": 1000
        },
        "outputId": "1641054e-5713-4747-b02a-1da232672b18"
      },
      "source": [
        "# Import libraries\n",
        "import numpy as np # For math- and matrix-based functions\n",
        "import pandas as pd # For DataFrame functionality\n",
        "import seaborn as sns # For plotting/ data visualization\n",
        "from sklearn.model_selection import train_test_split # For the train_test_split_function\n",
        "import statsmodels.formula.api as smf # Stats models for  \n",
        "\n",
        "# Figure size settings\n",
        "import matplotlib.pyplot as plt\n",
        "plt.rcParams['figure.figsize'] = (16,7)\n",
        "\n",
        "# Get path of data (where it is located on GitHub)\n",
        "path = \"https://raw.githubusercontent.com/nguyenjenny/spark_shared_repo/main/group_02/Marvel_DC_imdb_cleaned.csv\"\n",
        "\n",
        "# Load the data into a DataFrame\n",
        "hero = pd.read_csv(path)\n",
        "\n",
        "# Show DataFrame\n",
        "hero"
      ],
      "execution_count": 1,
      "outputs": [
        {
          "output_type": "stream",
          "text": [
            "/usr/local/lib/python3.7/dist-packages/statsmodels/tools/_testing.py:19: FutureWarning: pandas.util.testing is deprecated. Use the functions in the public API at pandas.testing instead.\n",
            "  import pandas.util.testing as tm\n"
          ],
          "name": "stderr"
        },
        {
          "output_type": "execute_result",
          "data": {
            "text/html": [
              "<div>\n",
              "<style scoped>\n",
              "    .dataframe tbody tr th:only-of-type {\n",
              "        vertical-align: middle;\n",
              "    }\n",
              "\n",
              "    .dataframe tbody tr th {\n",
              "        vertical-align: top;\n",
              "    }\n",
              "\n",
              "    .dataframe thead th {\n",
              "        text-align: right;\n",
              "    }\n",
              "</style>\n",
              "<table border=\"1\" class=\"dataframe\">\n",
              "  <thead>\n",
              "    <tr style=\"text-align: right;\">\n",
              "      <th></th>\n",
              "      <th>Name</th>\n",
              "      <th>Year</th>\n",
              "      <th>Genre</th>\n",
              "      <th>RunTime</th>\n",
              "      <th>Rating</th>\n",
              "      <th>Director</th>\n",
              "      <th>Actor</th>\n",
              "      <th>Description</th>\n",
              "      <th>IMDB_Score</th>\n",
              "      <th>Metascore</th>\n",
              "      <th>Votes</th>\n",
              "      <th>USA_Gross</th>\n",
              "      <th>Category</th>\n",
              "      <th>Year_Start</th>\n",
              "      <th>Year_End</th>\n",
              "      <th>Type</th>\n",
              "    </tr>\n",
              "  </thead>\n",
              "  <tbody>\n",
              "    <tr>\n",
              "      <th>0</th>\n",
              "      <td>Avengers: Endgame</td>\n",
              "      <td>(2019)</td>\n",
              "      <td>Action,Adventure,Drama</td>\n",
              "      <td>181.0</td>\n",
              "      <td>PG-13</td>\n",
              "      <td>AnthonyRusso,JoeRusso</td>\n",
              "      <td>RobertDowneyJr.,ChrisEvans,MarkRuffalo,ChrisHe...</td>\n",
              "      <td>After the devastating events of Avengers: Infi...</td>\n",
              "      <td>8.4</td>\n",
              "      <td>78.0</td>\n",
              "      <td>880911.0</td>\n",
              "      <td>858.37</td>\n",
              "      <td>Marvel</td>\n",
              "      <td>2019.0</td>\n",
              "      <td>NaN</td>\n",
              "      <td>Movie</td>\n",
              "    </tr>\n",
              "    <tr>\n",
              "      <th>1</th>\n",
              "      <td>Guardians of the Galaxy</td>\n",
              "      <td>(2014)</td>\n",
              "      <td>Action,Adventure,Comedy</td>\n",
              "      <td>121.0</td>\n",
              "      <td>PG-13</td>\n",
              "      <td>JamesGunn</td>\n",
              "      <td>ChrisPratt,VinDiesel,BradleyCooper,ZoeSaldana</td>\n",
              "      <td>A group of intergalactic criminals must pull t...</td>\n",
              "      <td>8.0</td>\n",
              "      <td>76.0</td>\n",
              "      <td>1066222.0</td>\n",
              "      <td>333.18</td>\n",
              "      <td>Marvel</td>\n",
              "      <td>2014.0</td>\n",
              "      <td>NaN</td>\n",
              "      <td>Movie</td>\n",
              "    </tr>\n",
              "    <tr>\n",
              "      <th>2</th>\n",
              "      <td>Spider-Man: Far from Home</td>\n",
              "      <td>(2019)</td>\n",
              "      <td>Action,Adventure,Sci-Fi</td>\n",
              "      <td>129.0</td>\n",
              "      <td>PG-13</td>\n",
              "      <td>JonWatts</td>\n",
              "      <td>TomHolland,SamuelL.Jackson,JakeGyllenhaal,Mari...</td>\n",
              "      <td>Following the events of Avengers: Endgame (201...</td>\n",
              "      <td>7.5</td>\n",
              "      <td>69.0</td>\n",
              "      <td>348047.0</td>\n",
              "      <td>390.53</td>\n",
              "      <td>Marvel</td>\n",
              "      <td>2019.0</td>\n",
              "      <td>NaN</td>\n",
              "      <td>Movie</td>\n",
              "    </tr>\n",
              "    <tr>\n",
              "      <th>3</th>\n",
              "      <td>Thor: Ragnarok</td>\n",
              "      <td>(2017)</td>\n",
              "      <td>Action,Adventure,Comedy</td>\n",
              "      <td>130.0</td>\n",
              "      <td>PG-13</td>\n",
              "      <td>TaikaWaititi</td>\n",
              "      <td>ChrisHemsworth,TomHiddleston,CateBlanchett,Mar...</td>\n",
              "      <td>Imprisoned on the planet Sakaar, Thor must rac...</td>\n",
              "      <td>7.9</td>\n",
              "      <td>74.0</td>\n",
              "      <td>615860.0</td>\n",
              "      <td>315.06</td>\n",
              "      <td>Marvel</td>\n",
              "      <td>2017.0</td>\n",
              "      <td>NaN</td>\n",
              "      <td>Movie</td>\n",
              "    </tr>\n",
              "    <tr>\n",
              "      <th>4</th>\n",
              "      <td>Avengers: Infinity War</td>\n",
              "      <td>(2018)</td>\n",
              "      <td>Action,Adventure,Sci-Fi</td>\n",
              "      <td>149.0</td>\n",
              "      <td>PG-13</td>\n",
              "      <td>AnthonyRusso,JoeRusso</td>\n",
              "      <td>RobertDowneyJr.,ChrisHemsworth,MarkRuffalo,Chr...</td>\n",
              "      <td>The Avengers and their allies must be willing ...</td>\n",
              "      <td>8.4</td>\n",
              "      <td>68.0</td>\n",
              "      <td>881638.0</td>\n",
              "      <td>678.82</td>\n",
              "      <td>Marvel</td>\n",
              "      <td>2018.0</td>\n",
              "      <td>NaN</td>\n",
              "      <td>Movie</td>\n",
              "    </tr>\n",
              "    <tr>\n",
              "      <th>...</th>\n",
              "      <td>...</td>\n",
              "      <td>...</td>\n",
              "      <td>...</td>\n",
              "      <td>...</td>\n",
              "      <td>...</td>\n",
              "      <td>...</td>\n",
              "      <td>...</td>\n",
              "      <td>...</td>\n",
              "      <td>...</td>\n",
              "      <td>...</td>\n",
              "      <td>...</td>\n",
              "      <td>...</td>\n",
              "      <td>...</td>\n",
              "      <td>...</td>\n",
              "      <td>...</td>\n",
              "      <td>...</td>\n",
              "    </tr>\n",
              "    <tr>\n",
              "      <th>1198</th>\n",
              "      <td>DC's Legends of Tomorrow</td>\n",
              "      <td>(2016– )</td>\n",
              "      <td>Action,Adventure,Drama</td>\n",
              "      <td>42.0</td>\n",
              "      <td>TV-14</td>\n",
              "      <td>GregorySmith</td>\n",
              "      <td>BrandonRouth,CaityLotz,MaisieRichardson-Seller...</td>\n",
              "      <td>Worlds lived, worlds died. Nothing will ever b...</td>\n",
              "      <td>8.5</td>\n",
              "      <td>NaN</td>\n",
              "      <td>2050.0</td>\n",
              "      <td>NaN</td>\n",
              "      <td>DC</td>\n",
              "      <td>2016.0</td>\n",
              "      <td>NaN</td>\n",
              "      <td>TV Show</td>\n",
              "    </tr>\n",
              "    <tr>\n",
              "      <th>1199</th>\n",
              "      <td>Supergirl</td>\n",
              "      <td>(2015–2021)</td>\n",
              "      <td>Action,Adventure,Drama</td>\n",
              "      <td>42.0</td>\n",
              "      <td>TV-PG</td>\n",
              "      <td>CarlSeaton</td>\n",
              "      <td>MelissaBenoist,MehcadBrooks,ChylerLeigh,KatieM...</td>\n",
              "      <td>In the wake of Lex Luthor's return, the show f...</td>\n",
              "      <td>8.3</td>\n",
              "      <td>NaN</td>\n",
              "      <td>1259.0</td>\n",
              "      <td>NaN</td>\n",
              "      <td>DC</td>\n",
              "      <td>2015.0</td>\n",
              "      <td>2021.0</td>\n",
              "      <td>TV Show</td>\n",
              "    </tr>\n",
              "    <tr>\n",
              "      <th>1200</th>\n",
              "      <td>Supergirl</td>\n",
              "      <td>(2015–2021)</td>\n",
              "      <td>Action,Adventure,Drama</td>\n",
              "      <td>42.0</td>\n",
              "      <td>TV-PG</td>\n",
              "      <td>AlexisOstrander</td>\n",
              "      <td>MelissaBenoist,MehcadBrooks,ChylerLeigh,KatieM...</td>\n",
              "      <td>Kara comes face to face with Red Daughter and ...</td>\n",
              "      <td>8.1</td>\n",
              "      <td>NaN</td>\n",
              "      <td>1053.0</td>\n",
              "      <td>NaN</td>\n",
              "      <td>DC</td>\n",
              "      <td>2015.0</td>\n",
              "      <td>2021.0</td>\n",
              "      <td>TV Show</td>\n",
              "    </tr>\n",
              "    <tr>\n",
              "      <th>1201</th>\n",
              "      <td>Supergirl</td>\n",
              "      <td>(2015–2021)</td>\n",
              "      <td>Action,Adventure,Drama</td>\n",
              "      <td>42.0</td>\n",
              "      <td>TV-PG</td>\n",
              "      <td>ShannonKohli</td>\n",
              "      <td>MelissaBenoist,MehcadBrooks,ChylerLeigh,KatieM...</td>\n",
              "      <td>Kara and Lena head to Kaznia to hunt down Lex....</td>\n",
              "      <td>7.4</td>\n",
              "      <td>NaN</td>\n",
              "      <td>1036.0</td>\n",
              "      <td>NaN</td>\n",
              "      <td>DC</td>\n",
              "      <td>2015.0</td>\n",
              "      <td>2021.0</td>\n",
              "      <td>TV Show</td>\n",
              "    </tr>\n",
              "    <tr>\n",
              "      <th>1202</th>\n",
              "      <td>Supergirl</td>\n",
              "      <td>(2015–2021)</td>\n",
              "      <td>Action,Adventure,Drama</td>\n",
              "      <td>42.0</td>\n",
              "      <td>TV-PG</td>\n",
              "      <td>BenHernandezBray</td>\n",
              "      <td>MelissaBenoist,MehcadBrooks,ChylerLeigh,KatieM...</td>\n",
              "      <td>Supergirl must deal with the destructive after...</td>\n",
              "      <td>7.5</td>\n",
              "      <td>NaN</td>\n",
              "      <td>1037.0</td>\n",
              "      <td>NaN</td>\n",
              "      <td>DC</td>\n",
              "      <td>2015.0</td>\n",
              "      <td>2021.0</td>\n",
              "      <td>TV Show</td>\n",
              "    </tr>\n",
              "  </tbody>\n",
              "</table>\n",
              "<p>1203 rows × 16 columns</p>\n",
              "</div>"
            ],
            "text/plain": [
              "                           Name         Year  ... Year_End     Type\n",
              "0             Avengers: Endgame       (2019)  ...      NaN    Movie\n",
              "1       Guardians of the Galaxy       (2014)  ...      NaN    Movie\n",
              "2     Spider-Man: Far from Home       (2019)  ...      NaN    Movie\n",
              "3                Thor: Ragnarok       (2017)  ...      NaN    Movie\n",
              "4        Avengers: Infinity War       (2018)  ...      NaN    Movie\n",
              "...                         ...          ...  ...      ...      ...\n",
              "1198   DC's Legends of Tomorrow     (2016– )  ...      NaN  TV Show\n",
              "1199                  Supergirl  (2015–2021)  ...   2021.0  TV Show\n",
              "1200                  Supergirl  (2015–2021)  ...   2021.0  TV Show\n",
              "1201                  Supergirl  (2015–2021)  ...   2021.0  TV Show\n",
              "1202                  Supergirl  (2015–2021)  ...   2021.0  TV Show\n",
              "\n",
              "[1203 rows x 16 columns]"
            ]
          },
          "metadata": {
            "tags": []
          },
          "execution_count": 1
        }
      ]
    },
    {
      "cell_type": "markdown",
      "metadata": {
        "id": "vcwPxGjyh5qy"
      },
      "source": [
        "# Analyzing data"
      ]
    },
    {
      "cell_type": "markdown",
      "metadata": {
        "id": "ElRamdVbJaNY"
      },
      "source": [
        "## Getting to Know our Data: Aggregates and Basic Stats"
      ]
    },
    {
      "cell_type": "markdown",
      "metadata": {
        "id": "5pmLir6lJaNc"
      },
      "source": [
        "### Basic statistics\n",
        "\n",
        "We can use the `.describe()` function to get basic information about our numerical data."
      ]
    },
    {
      "cell_type": "code",
      "metadata": {
        "colab": {
          "base_uri": "https://localhost:8080/",
          "height": 300
        },
        "id": "6NrxJ88qJaNf",
        "outputId": "3486334a-66f9-495d-f585-aa58c97add26"
      },
      "source": [
        "# Use the `.describe()` to get information on the hero DataFrae\n",
        "\n",
        "hero.describe()"
      ],
      "execution_count": 2,
      "outputs": [
        {
          "output_type": "execute_result",
          "data": {
            "text/html": [
              "<div>\n",
              "<style scoped>\n",
              "    .dataframe tbody tr th:only-of-type {\n",
              "        vertical-align: middle;\n",
              "    }\n",
              "\n",
              "    .dataframe tbody tr th {\n",
              "        vertical-align: top;\n",
              "    }\n",
              "\n",
              "    .dataframe thead th {\n",
              "        text-align: right;\n",
              "    }\n",
              "</style>\n",
              "<table border=\"1\" class=\"dataframe\">\n",
              "  <thead>\n",
              "    <tr style=\"text-align: right;\">\n",
              "      <th></th>\n",
              "      <th>RunTime</th>\n",
              "      <th>IMDB_Score</th>\n",
              "      <th>Metascore</th>\n",
              "      <th>Votes</th>\n",
              "      <th>USA_Gross</th>\n",
              "      <th>Year_Start</th>\n",
              "      <th>Year_End</th>\n",
              "    </tr>\n",
              "  </thead>\n",
              "  <tbody>\n",
              "    <tr>\n",
              "      <th>count</th>\n",
              "      <td>1187.000000</td>\n",
              "      <td>1203.000000</td>\n",
              "      <td>63.000000</td>\n",
              "      <td>1.203000e+03</td>\n",
              "      <td>64.000000</td>\n",
              "      <td>1203.000000</td>\n",
              "      <td>967.000000</td>\n",
              "    </tr>\n",
              "    <tr>\n",
              "      <th>mean</th>\n",
              "      <td>40.534962</td>\n",
              "      <td>7.992851</td>\n",
              "      <td>61.539683</td>\n",
              "      <td>2.863801e+04</td>\n",
              "      <td>230.832500</td>\n",
              "      <td>2006.534497</td>\n",
              "      <td>2010.095140</td>\n",
              "    </tr>\n",
              "    <tr>\n",
              "      <th>std</th>\n",
              "      <td>23.542099</td>\n",
              "      <td>0.836888</td>\n",
              "      <td>14.506756</td>\n",
              "      <td>1.511395e+05</td>\n",
              "      <td>186.083285</td>\n",
              "      <td>7.929563</td>\n",
              "      <td>8.250055</td>\n",
              "    </tr>\n",
              "    <tr>\n",
              "      <th>min</th>\n",
              "      <td>10.000000</td>\n",
              "      <td>3.400000</td>\n",
              "      <td>27.000000</td>\n",
              "      <td>5.000000e+00</td>\n",
              "      <td>0.530000</td>\n",
              "      <td>1978.000000</td>\n",
              "      <td>1995.000000</td>\n",
              "    </tr>\n",
              "    <tr>\n",
              "      <th>25%</th>\n",
              "      <td>22.000000</td>\n",
              "      <td>7.600000</td>\n",
              "      <td>53.500000</td>\n",
              "      <td>4.260000e+02</td>\n",
              "      <td>97.220000</td>\n",
              "      <td>2001.000000</td>\n",
              "      <td>2004.000000</td>\n",
              "    </tr>\n",
              "    <tr>\n",
              "      <th>50%</th>\n",
              "      <td>42.000000</td>\n",
              "      <td>8.100000</td>\n",
              "      <td>64.000000</td>\n",
              "      <td>1.005000e+03</td>\n",
              "      <td>192.055000</td>\n",
              "      <td>2004.000000</td>\n",
              "      <td>2011.000000</td>\n",
              "    </tr>\n",
              "    <tr>\n",
              "      <th>75%</th>\n",
              "      <td>43.000000</td>\n",
              "      <td>8.600000</td>\n",
              "      <td>71.000000</td>\n",
              "      <td>2.137000e+03</td>\n",
              "      <td>333.435000</td>\n",
              "      <td>2014.000000</td>\n",
              "      <td>2019.000000</td>\n",
              "    </tr>\n",
              "    <tr>\n",
              "      <th>max</th>\n",
              "      <td>181.000000</td>\n",
              "      <td>9.600000</td>\n",
              "      <td>88.000000</td>\n",
              "      <td>2.361064e+06</td>\n",
              "      <td>858.370000</td>\n",
              "      <td>2021.000000</td>\n",
              "      <td>2021.000000</td>\n",
              "    </tr>\n",
              "  </tbody>\n",
              "</table>\n",
              "</div>"
            ],
            "text/plain": [
              "           RunTime   IMDB_Score  ...   Year_Start     Year_End\n",
              "count  1187.000000  1203.000000  ...  1203.000000   967.000000\n",
              "mean     40.534962     7.992851  ...  2006.534497  2010.095140\n",
              "std      23.542099     0.836888  ...     7.929563     8.250055\n",
              "min      10.000000     3.400000  ...  1978.000000  1995.000000\n",
              "25%      22.000000     7.600000  ...  2001.000000  2004.000000\n",
              "50%      42.000000     8.100000  ...  2004.000000  2011.000000\n",
              "75%      43.000000     8.600000  ...  2014.000000  2019.000000\n",
              "max     181.000000     9.600000  ...  2021.000000  2021.000000\n",
              "\n",
              "[8 rows x 7 columns]"
            ]
          },
          "metadata": {
            "tags": []
          },
          "execution_count": 2
        }
      ]
    },
    {
      "cell_type": "markdown",
      "metadata": {
        "id": "J94tCTBYJaNq"
      },
      "source": [
        "### Mean IMDB_Score\n",
        "\n",
        "We can use the `.mean()` function to get information about the average `\"IMDB_Score\"`\n",
        "\n",
        "First, we need to select the column of the DataFrame that we want. \n"
      ]
    },
    {
      "cell_type": "markdown",
      "metadata": {
        "id": "UwQDZh8CJaNs"
      },
      "source": [
        "We can use `.iloc[:, \"column_name\" ]` or we can use the short form of just `[\"column\"]`"
      ]
    },
    {
      "cell_type": "code",
      "metadata": {
        "id": "XMCJLdboJaNt",
        "colab": {
          "base_uri": "https://localhost:8080/"
        },
        "outputId": "82601e87-90bf-4f53-bc8b-0766e68f6f8e"
      },
      "source": [
        "# Use loc to select the `\"IMBD_Score\"`\n",
        "hero.loc[:, \"IMDB_Score\"]"
      ],
      "execution_count": 3,
      "outputs": [
        {
          "output_type": "execute_result",
          "data": {
            "text/plain": [
              "0       8.4\n",
              "1       8.0\n",
              "2       7.5\n",
              "3       7.9\n",
              "4       8.4\n",
              "       ... \n",
              "1198    8.5\n",
              "1199    8.3\n",
              "1200    8.1\n",
              "1201    7.4\n",
              "1202    7.5\n",
              "Name: IMDB_Score, Length: 1203, dtype: float64"
            ]
          },
          "metadata": {
            "tags": []
          },
          "execution_count": 3
        }
      ]
    },
    {
      "cell_type": "code",
      "metadata": {
        "id": "NRExYqMyJaNu",
        "colab": {
          "base_uri": "https://localhost:8080/"
        },
        "outputId": "f2d0d687-9c76-4b94-b19d-c3d89b350952"
      },
      "source": [
        "# Use the short hand version [\"column\"] to get the \"IMBD_Score\"\n",
        "\n",
        "hero['IMDB_Score'].mean()\n"
      ],
      "execution_count": 4,
      "outputs": [
        {
          "output_type": "execute_result",
          "data": {
            "text/plain": [
              "7.992851205320039"
            ]
          },
          "metadata": {
            "tags": []
          },
          "execution_count": 4
        }
      ]
    },
    {
      "cell_type": "markdown",
      "metadata": {
        "id": "fWc4jU5tJaNu"
      },
      "source": [
        "The mean IMDB score for both Marvel and DC movies is **7.99**. "
      ]
    },
    {
      "cell_type": "markdown",
      "metadata": {
        "id": "l6VqidXfJaNu"
      },
      "source": [
        "### Lowest and Highest IMDB_Score\n",
        "\n",
        "We can use the `.min()` function to get information about the lowest `\"IMDB_Score\"` and `.max()` to get the highest `\"IMDB_Score\"` for comic/superhero movies. \n",
        "\n"
      ]
    },
    {
      "cell_type": "code",
      "metadata": {
        "id": "vv6qJW9_JaNu",
        "colab": {
          "base_uri": "https://localhost:8080/"
        },
        "outputId": "06c725de-df8f-4b61-fb26-26b4cad6bb07"
      },
      "source": [
        "# Get min/lowest IMBD_Rating\n",
        "hero[\"IMDB_Score\"].min()"
      ],
      "execution_count": 5,
      "outputs": [
        {
          "output_type": "execute_result",
          "data": {
            "text/plain": [
              "3.4"
            ]
          },
          "metadata": {
            "tags": []
          },
          "execution_count": 5
        }
      ]
    },
    {
      "cell_type": "code",
      "metadata": {
        "id": "U7oX23qxJaNw",
        "colab": {
          "base_uri": "https://localhost:8080/"
        },
        "outputId": "826c92b7-30ed-4583-dc7a-5b80e946188f"
      },
      "source": [
        "# Get max/highest IMBD_Rating\n",
        "hero[\"IMDB_Score\"].max()\n"
      ],
      "execution_count": 6,
      "outputs": [
        {
          "output_type": "execute_result",
          "data": {
            "text/plain": [
              "9.6"
            ]
          },
          "metadata": {
            "tags": []
          },
          "execution_count": 6
        }
      ]
    },
    {
      "cell_type": "markdown",
      "metadata": {
        "id": "lSpjDgzKJaNw"
      },
      "source": [
        "The IMDB scores for both Marvel and DC movies range from **3.4** to **9.6**. "
      ]
    },
    {
      "cell_type": "markdown",
      "metadata": {
        "id": "1983vQSHJaNx"
      },
      "source": [
        "### Standard Deviation of IMDB_Scores\n",
        "\n",
        "Standard deviation represents the spread or variability of the data.\n",
        "\n",
        "![std.png](data:image/png;base64,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)\n",
        "\n",
        "↑ stdev = ↑ variability \n",
        "\n",
        "We can use the `.std()` function to get the standard deviation of the `\"IMDB_Score\"`.\n"
      ]
    },
    {
      "cell_type": "code",
      "metadata": {
        "id": "EV11grJuJaNx",
        "colab": {
          "base_uri": "https://localhost:8080/"
        },
        "outputId": "eb43da44-0048-41d5-cc64-59c4d9b4c320"
      },
      "source": [
        "hero[\"IMDB_Score\"].std()"
      ],
      "execution_count": 7,
      "outputs": [
        {
          "output_type": "execute_result",
          "data": {
            "text/plain": [
              "0.836887964144891"
            ]
          },
          "metadata": {
            "tags": []
          },
          "execution_count": 7
        }
      ]
    },
    {
      "cell_type": "code",
      "metadata": {
        "colab": {
          "base_uri": "https://localhost:8080/"
        },
        "id": "cuCj00f3n7ah",
        "outputId": "acd23bb1-4c97-4e22-cea8-34103909136f"
      },
      "source": [
        "std = hero[\"IMDB_Score\"].std()\n",
        "mean = hero[\"IMDB_Score\"].mean()\n",
        "\n",
        "print(f'Most scores are around {mean-std} to {mean+std}')"
      ],
      "execution_count": 8,
      "outputs": [
        {
          "output_type": "stream",
          "text": [
            "Most scores are around 7.155963241175148 to 8.82973916946493\n"
          ],
          "name": "stdout"
        }
      ]
    },
    {
      "cell_type": "markdown",
      "metadata": {
        "id": "h-uix29ZJaNx"
      },
      "source": [
        "The standard deviation of the IMDB scores for both Marvel and DC movies is **0.836**. "
      ]
    },
    {
      "cell_type": "markdown",
      "metadata": {
        "id": "w1HTOA8yJaNz"
      },
      "source": [
        "### Mean Run Time of Movies and TV Series"
      ]
    },
    {
      "cell_type": "code",
      "metadata": {
        "id": "ijWs2vLPJaN2",
        "colab": {
          "base_uri": "https://localhost:8080/"
        },
        "outputId": "594c9ed1-6490-44b2-c24b-c9258b1e514e"
      },
      "source": [
        "# Calculate mean run time of the movies and tv series in this data using the `\"RunTime\"` column \n",
        "\n",
        "hero['RunTime'].mean()"
      ],
      "execution_count": 9,
      "outputs": [
        {
          "output_type": "execute_result",
          "data": {
            "text/plain": [
              "40.534962089300755"
            ]
          },
          "metadata": {
            "tags": []
          },
          "execution_count": 9
        }
      ]
    },
    {
      "cell_type": "markdown",
      "metadata": {
        "id": "f24WUx3OJaN5"
      },
      "source": [
        "The mean run time is **40.5**. "
      ]
    },
    {
      "cell_type": "markdown",
      "metadata": {
        "id": "ayO1jZqVJaN7"
      },
      "source": [
        "### Finding the highest grossing films (movies & TV shows) in the US using  `.sort_values()`\n",
        "\n",
        "We can sort our data set by a column by using the function called `.sort_values()`.\n",
        "\n",
        "We simply pass the name of the column we want to sort by as a parameter.\n",
        "\n",
        "- We can also set the parameter `ascending=True` or `ascending=False` if we want to sort by increasing or descreasing values\n",
        "    - `ascending=True`: Values are sorted from lowest to largest\n",
        "    - `ascending=False`: Values are sorted from largest to lowest\n",
        "\n",
        "The format for `.sort_values()` looks like this:\n",
        "\n",
        "```\n",
        "    hero.sort_values(\"column_name\", ascending=False)\n",
        "```"
      ]
    },
    {
      "cell_type": "code",
      "metadata": {
        "id": "FRA63UoZJaN9",
        "colab": {
          "base_uri": "https://localhost:8080/",
          "height": 438
        },
        "outputId": "90d286e8-5b9a-403e-846c-69dcae4be95f"
      },
      "source": [
        "# Sort the hero DataFrame by `\"USA_Gross\"` and make `ascending=False`\n",
        "hero.query('Type == \"Movie\" & Category == \"DC\"').sort_values(\"USA_Gross\", ascending=False).iloc[[0, 1, -2, -1]]\n"
      ],
      "execution_count": 10,
      "outputs": [
        {
          "output_type": "execute_result",
          "data": {
            "text/html": [
              "<div>\n",
              "<style scoped>\n",
              "    .dataframe tbody tr th:only-of-type {\n",
              "        vertical-align: middle;\n",
              "    }\n",
              "\n",
              "    .dataframe tbody tr th {\n",
              "        vertical-align: top;\n",
              "    }\n",
              "\n",
              "    .dataframe thead th {\n",
              "        text-align: right;\n",
              "    }\n",
              "</style>\n",
              "<table border=\"1\" class=\"dataframe\">\n",
              "  <thead>\n",
              "    <tr style=\"text-align: right;\">\n",
              "      <th></th>\n",
              "      <th>Name</th>\n",
              "      <th>Year</th>\n",
              "      <th>Genre</th>\n",
              "      <th>RunTime</th>\n",
              "      <th>Rating</th>\n",
              "      <th>Director</th>\n",
              "      <th>Actor</th>\n",
              "      <th>Description</th>\n",
              "      <th>IMDB_Score</th>\n",
              "      <th>Metascore</th>\n",
              "      <th>Votes</th>\n",
              "      <th>USA_Gross</th>\n",
              "      <th>Category</th>\n",
              "      <th>Year_Start</th>\n",
              "      <th>Year_End</th>\n",
              "      <th>Type</th>\n",
              "    </tr>\n",
              "  </thead>\n",
              "  <tbody>\n",
              "    <tr>\n",
              "      <th>237</th>\n",
              "      <td>The Dark Knight</td>\n",
              "      <td>(2008)</td>\n",
              "      <td>Action,Crime,Drama</td>\n",
              "      <td>152.0</td>\n",
              "      <td>PG-13</td>\n",
              "      <td>ChristopherNolan</td>\n",
              "      <td>ChristianBale,HeathLedger,AaronEckhart,Michael...</td>\n",
              "      <td>When the menace known as the Joker wreaks havo...</td>\n",
              "      <td>9.0</td>\n",
              "      <td>84.0</td>\n",
              "      <td>2361064.0</td>\n",
              "      <td>534.86</td>\n",
              "      <td>DC</td>\n",
              "      <td>2008.0</td>\n",
              "      <td>NaN</td>\n",
              "      <td>Movie</td>\n",
              "    </tr>\n",
              "    <tr>\n",
              "      <th>240</th>\n",
              "      <td>The Dark Knight Rises</td>\n",
              "      <td>(2012)</td>\n",
              "      <td>Action,Adventure</td>\n",
              "      <td>164.0</td>\n",
              "      <td>PG-13</td>\n",
              "      <td>ChristopherNolan</td>\n",
              "      <td>ChristianBale,TomHardy,AnneHathaway,GaryOldman</td>\n",
              "      <td>Eight years after the Joker's reign of anarchy...</td>\n",
              "      <td>8.4</td>\n",
              "      <td>78.0</td>\n",
              "      <td>1547852.0</td>\n",
              "      <td>448.14</td>\n",
              "      <td>DC</td>\n",
              "      <td>2012.0</td>\n",
              "      <td>NaN</td>\n",
              "      <td>Movie</td>\n",
              "    </tr>\n",
              "    <tr>\n",
              "      <th>260</th>\n",
              "      <td>Clerks</td>\n",
              "      <td>(1994)</td>\n",
              "      <td>Comedy</td>\n",
              "      <td>92.0</td>\n",
              "      <td>R</td>\n",
              "      <td>KevinSmith</td>\n",
              "      <td>BrianO'Halloran,JeffAnderson,MarilynGhigliotti...</td>\n",
              "      <td>A day in the lives of two convenience clerks n...</td>\n",
              "      <td>7.7</td>\n",
              "      <td>70.0</td>\n",
              "      <td>213527.0</td>\n",
              "      <td>3.15</td>\n",
              "      <td>DC</td>\n",
              "      <td>1994.0</td>\n",
              "      <td>NaN</td>\n",
              "      <td>Movie</td>\n",
              "    </tr>\n",
              "    <tr>\n",
              "      <th>268</th>\n",
              "      <td>Being Flynn</td>\n",
              "      <td>(2012)</td>\n",
              "      <td>Drama</td>\n",
              "      <td>102.0</td>\n",
              "      <td>R</td>\n",
              "      <td>PaulWeitz</td>\n",
              "      <td>PaulDano,RobertDeNiro,JulianneMoore,OliviaThirlby</td>\n",
              "      <td>Working in a Boston homeless shelter, Nick Fly...</td>\n",
              "      <td>6.4</td>\n",
              "      <td>53.0</td>\n",
              "      <td>16695.0</td>\n",
              "      <td>0.53</td>\n",
              "      <td>DC</td>\n",
              "      <td>2012.0</td>\n",
              "      <td>NaN</td>\n",
              "      <td>Movie</td>\n",
              "    </tr>\n",
              "  </tbody>\n",
              "</table>\n",
              "</div>"
            ],
            "text/plain": [
              "                      Name    Year  ... Year_End   Type\n",
              "237        The Dark Knight  (2008)  ...      NaN  Movie\n",
              "240  The Dark Knight Rises  (2012)  ...      NaN  Movie\n",
              "260                 Clerks  (1994)  ...      NaN  Movie\n",
              "268            Being Flynn  (2012)  ...      NaN  Movie\n",
              "\n",
              "[4 rows x 16 columns]"
            ]
          },
          "metadata": {
            "tags": []
          },
          "execution_count": 10
        }
      ]
    },
    {
      "cell_type": "code",
      "metadata": {
        "colab": {
          "base_uri": "https://localhost:8080/",
          "height": 421
        },
        "id": "a3IOKw6PqeVF",
        "outputId": "7e46beb0-94c7-4b23-9d79-e21a0c1267e7"
      },
      "source": [
        "# Sort the hero DataFrame by `\"USA_Gross\"` and make `ascending=False`\n",
        "hero.query('Type == \"Movie\" & Category == \"Marvel\"').sort_values(\"USA_Gross\", ascending=False).iloc[[0, 1, -2, -1]]"
      ],
      "execution_count": 11,
      "outputs": [
        {
          "output_type": "execute_result",
          "data": {
            "text/html": [
              "<div>\n",
              "<style scoped>\n",
              "    .dataframe tbody tr th:only-of-type {\n",
              "        vertical-align: middle;\n",
              "    }\n",
              "\n",
              "    .dataframe tbody tr th {\n",
              "        vertical-align: top;\n",
              "    }\n",
              "\n",
              "    .dataframe thead th {\n",
              "        text-align: right;\n",
              "    }\n",
              "</style>\n",
              "<table border=\"1\" class=\"dataframe\">\n",
              "  <thead>\n",
              "    <tr style=\"text-align: right;\">\n",
              "      <th></th>\n",
              "      <th>Name</th>\n",
              "      <th>Year</th>\n",
              "      <th>Genre</th>\n",
              "      <th>RunTime</th>\n",
              "      <th>Rating</th>\n",
              "      <th>Director</th>\n",
              "      <th>Actor</th>\n",
              "      <th>Description</th>\n",
              "      <th>IMDB_Score</th>\n",
              "      <th>Metascore</th>\n",
              "      <th>Votes</th>\n",
              "      <th>USA_Gross</th>\n",
              "      <th>Category</th>\n",
              "      <th>Year_Start</th>\n",
              "      <th>Year_End</th>\n",
              "      <th>Type</th>\n",
              "    </tr>\n",
              "  </thead>\n",
              "  <tbody>\n",
              "    <tr>\n",
              "      <th>0</th>\n",
              "      <td>Avengers: Endgame</td>\n",
              "      <td>(2019)</td>\n",
              "      <td>Action,Adventure,Drama</td>\n",
              "      <td>181.0</td>\n",
              "      <td>PG-13</td>\n",
              "      <td>AnthonyRusso,JoeRusso</td>\n",
              "      <td>RobertDowneyJr.,ChrisEvans,MarkRuffalo,ChrisHe...</td>\n",
              "      <td>After the devastating events of Avengers: Infi...</td>\n",
              "      <td>8.4</td>\n",
              "      <td>78.0</td>\n",
              "      <td>880911.0</td>\n",
              "      <td>858.37</td>\n",
              "      <td>Marvel</td>\n",
              "      <td>2019.0</td>\n",
              "      <td>NaN</td>\n",
              "      <td>Movie</td>\n",
              "    </tr>\n",
              "    <tr>\n",
              "      <th>5</th>\n",
              "      <td>Black Panther</td>\n",
              "      <td>(2018)</td>\n",
              "      <td>Action,Adventure,Sci-Fi</td>\n",
              "      <td>134.0</td>\n",
              "      <td>PG-13</td>\n",
              "      <td>RyanCoogler</td>\n",
              "      <td>ChadwickBoseman,MichaelB.Jordan,LupitaNyong'o,...</td>\n",
              "      <td>T'Challa, heir to the hidden but advanced king...</td>\n",
              "      <td>7.3</td>\n",
              "      <td>88.0</td>\n",
              "      <td>652032.0</td>\n",
              "      <td>700.06</td>\n",
              "      <td>Marvel</td>\n",
              "      <td>2018.0</td>\n",
              "      <td>NaN</td>\n",
              "      <td>Movie</td>\n",
              "    </tr>\n",
              "    <tr>\n",
              "      <th>15</th>\n",
              "      <td>Brightburn</td>\n",
              "      <td>(2019)</td>\n",
              "      <td>Drama,Horror,Mystery</td>\n",
              "      <td>90.0</td>\n",
              "      <td>R</td>\n",
              "      <td>DavidYarovesky</td>\n",
              "      <td>ElizabethBanks,DavidDenman,JacksonA.Dunn,Abrah...</td>\n",
              "      <td>What if a child from another world crash-lande...</td>\n",
              "      <td>6.1</td>\n",
              "      <td>44.0</td>\n",
              "      <td>84999.0</td>\n",
              "      <td>17.30</td>\n",
              "      <td>Marvel</td>\n",
              "      <td>2019.0</td>\n",
              "      <td>NaN</td>\n",
              "      <td>Movie</td>\n",
              "    </tr>\n",
              "    <tr>\n",
              "      <th>28</th>\n",
              "      <td>Punisher: War Zone</td>\n",
              "      <td>(2008)</td>\n",
              "      <td>Action,Crime,Drama</td>\n",
              "      <td>103.0</td>\n",
              "      <td>R</td>\n",
              "      <td>LexiAlexander</td>\n",
              "      <td>RayStevenson,DominicWest,JulieBenz,DougHutchison</td>\n",
              "      <td>Frank Castle, known as the Punisher, ruthlessl...</td>\n",
              "      <td>5.9</td>\n",
              "      <td>30.0</td>\n",
              "      <td>60678.0</td>\n",
              "      <td>7.95</td>\n",
              "      <td>Marvel</td>\n",
              "      <td>2008.0</td>\n",
              "      <td>NaN</td>\n",
              "      <td>Movie</td>\n",
              "    </tr>\n",
              "  </tbody>\n",
              "</table>\n",
              "</div>"
            ],
            "text/plain": [
              "                  Name    Year  ... Year_End   Type\n",
              "0    Avengers: Endgame  (2019)  ...      NaN  Movie\n",
              "5        Black Panther  (2018)  ...      NaN  Movie\n",
              "15          Brightburn  (2019)  ...      NaN  Movie\n",
              "28  Punisher: War Zone  (2008)  ...      NaN  Movie\n",
              "\n",
              "[4 rows x 16 columns]"
            ]
          },
          "metadata": {
            "tags": []
          },
          "execution_count": 11
        }
      ]
    },
    {
      "cell_type": "markdown",
      "metadata": {
        "id": "WooOz0h1JaN-"
      },
      "source": [
        "The highest grossing film in the US was **Avengers: Infinity War**. It made **$858 million** in the US alone. "
      ]
    },
    {
      "cell_type": "markdown",
      "metadata": {
        "id": "Pnyr6qaCJaN-"
      },
      "source": [
        "### Finding the highest rated films (movies & TV shows) using `.sort_values()`\n",
        "\n"
      ]
    },
    {
      "cell_type": "code",
      "metadata": {
        "id": "HrrX4gu-JaN-",
        "colab": {
          "base_uri": "https://localhost:8080/",
          "height": 421
        },
        "outputId": "50d2bdc3-e164-473e-c6dd-88f0a938b4f1"
      },
      "source": [
        "# Sort the hero DataFrame by `\"IMDB_Score\"` and make `ascending=False`\n",
        "hero.sort_values(\"IMDB_Score\", ascending=False).iloc[[0, 1, -2, -1]]\n",
        "\n"
      ],
      "execution_count": 12,
      "outputs": [
        {
          "output_type": "execute_result",
          "data": {
            "text/html": [
              "<div>\n",
              "<style scoped>\n",
              "    .dataframe tbody tr th:only-of-type {\n",
              "        vertical-align: middle;\n",
              "    }\n",
              "\n",
              "    .dataframe tbody tr th {\n",
              "        vertical-align: top;\n",
              "    }\n",
              "\n",
              "    .dataframe thead th {\n",
              "        text-align: right;\n",
              "    }\n",
              "</style>\n",
              "<table border=\"1\" class=\"dataframe\">\n",
              "  <thead>\n",
              "    <tr style=\"text-align: right;\">\n",
              "      <th></th>\n",
              "      <th>Name</th>\n",
              "      <th>Year</th>\n",
              "      <th>Genre</th>\n",
              "      <th>RunTime</th>\n",
              "      <th>Rating</th>\n",
              "      <th>Director</th>\n",
              "      <th>Actor</th>\n",
              "      <th>Description</th>\n",
              "      <th>IMDB_Score</th>\n",
              "      <th>Metascore</th>\n",
              "      <th>Votes</th>\n",
              "      <th>USA_Gross</th>\n",
              "      <th>Category</th>\n",
              "      <th>Year_Start</th>\n",
              "      <th>Year_End</th>\n",
              "      <th>Type</th>\n",
              "    </tr>\n",
              "  </thead>\n",
              "  <tbody>\n",
              "    <tr>\n",
              "      <th>917</th>\n",
              "      <td>The Flash</td>\n",
              "      <td>(2014– )</td>\n",
              "      <td>Action,Adventure,Drama</td>\n",
              "      <td>44.0</td>\n",
              "      <td>TV-PG</td>\n",
              "      <td>DermottDowns</td>\n",
              "      <td>GrantGustin,CandicePatton,DaniellePanabaker,Ri...</td>\n",
              "      <td>With the Particle Accelerator back online, Bar...</td>\n",
              "      <td>9.6</td>\n",
              "      <td>NaN</td>\n",
              "      <td>11823.0</td>\n",
              "      <td>NaN</td>\n",
              "      <td>DC</td>\n",
              "      <td>2014.0</td>\n",
              "      <td>NaN</td>\n",
              "      <td>TV Show</td>\n",
              "    </tr>\n",
              "    <tr>\n",
              "      <th>229</th>\n",
              "      <td>Agents of S.H.I.E.L.D.</td>\n",
              "      <td>(2013–2020)</td>\n",
              "      <td>Action,Adventure,Drama</td>\n",
              "      <td>43.0</td>\n",
              "      <td>TV-14</td>\n",
              "      <td>ElizabethHenstridge</td>\n",
              "      <td>ClarkGregg,Ming-NaWen,ChloeBennet,ElizabethHen...</td>\n",
              "      <td>A time storm ravages the Zephyr, propelling it...</td>\n",
              "      <td>9.6</td>\n",
              "      <td>NaN</td>\n",
              "      <td>2700.0</td>\n",
              "      <td>NaN</td>\n",
              "      <td>Marvel</td>\n",
              "      <td>2013.0</td>\n",
              "      <td>2020.0</td>\n",
              "      <td>TV Show</td>\n",
              "    </tr>\n",
              "    <tr>\n",
              "      <th>250</th>\n",
              "      <td>Batman &amp; Robin</td>\n",
              "      <td>(1997)</td>\n",
              "      <td>Action,Sci-Fi</td>\n",
              "      <td>125.0</td>\n",
              "      <td>PG-13</td>\n",
              "      <td>JoelSchumacher</td>\n",
              "      <td>ArnoldSchwarzenegger,GeorgeClooney,ChrisO'Donn...</td>\n",
              "      <td>Batman and Robin try to keep their relationshi...</td>\n",
              "      <td>3.8</td>\n",
              "      <td>28.0</td>\n",
              "      <td>237323.0</td>\n",
              "      <td>107.33</td>\n",
              "      <td>DC</td>\n",
              "      <td>1997.0</td>\n",
              "      <td>NaN</td>\n",
              "      <td>Movie</td>\n",
              "    </tr>\n",
              "    <tr>\n",
              "      <th>264</th>\n",
              "      <td>Catwoman</td>\n",
              "      <td>(2004)</td>\n",
              "      <td>Action,Crime,Fantasy</td>\n",
              "      <td>104.0</td>\n",
              "      <td>PG-13</td>\n",
              "      <td>Pitof</td>\n",
              "      <td>HalleBerry,SharonStone,BenjaminBratt,LambertWi...</td>\n",
              "      <td>A shy woman, endowed with the speed, reflexes,...</td>\n",
              "      <td>3.4</td>\n",
              "      <td>27.0</td>\n",
              "      <td>112736.0</td>\n",
              "      <td>40.20</td>\n",
              "      <td>DC</td>\n",
              "      <td>2004.0</td>\n",
              "      <td>NaN</td>\n",
              "      <td>Movie</td>\n",
              "    </tr>\n",
              "  </tbody>\n",
              "</table>\n",
              "</div>"
            ],
            "text/plain": [
              "                       Name         Year  ... Year_End     Type\n",
              "917               The Flash     (2014– )  ...      NaN  TV Show\n",
              "229  Agents of S.H.I.E.L.D.  (2013–2020)  ...   2020.0  TV Show\n",
              "250          Batman & Robin       (1997)  ...      NaN    Movie\n",
              "264                Catwoman       (2004)  ...      NaN    Movie\n",
              "\n",
              "[4 rows x 16 columns]"
            ]
          },
          "metadata": {
            "tags": []
          },
          "execution_count": 12
        }
      ]
    },
    {
      "cell_type": "markdown",
      "metadata": {
        "id": "qsX5keyyJaN_"
      },
      "source": [
        "The highest rated film according to the IMDB was **an episode of the Flash**. It was rated **9.6 by 11823 people**. The lowest rated film was a movie called **Catwoman with a rating of 3.4**. "
      ]
    },
    {
      "cell_type": "code",
      "metadata": {
        "id": "TCY6wqRAfZJH"
      },
      "source": [
        ""
      ],
      "execution_count": 12,
      "outputs": []
    },
    {
      "cell_type": "markdown",
      "metadata": {
        "id": "Yy999ECXfZc5"
      },
      "source": [
        "#### Lowest and Highest Rated DC Movie:\n",
        "\n",
        "Highest rated DC film is the **Dark Knight** with at IMDB Rating of **9.0**.\n",
        "\n",
        "Second Highest rated DC film is the **Dark Knight Rises** with at IMDB Rating of **8.4**.\n",
        "\n",
        "Lowest rated DC film is the **Catwoman** with at IMDB Rating of **3.4**.\n",
        "\n",
        "Second Lowest rated DC film is the **Batman & Robin** with at IMDB Rating of **3.8**."
      ]
    },
    {
      "cell_type": "code",
      "metadata": {
        "colab": {
          "base_uri": "https://localhost:8080/",
          "height": 421
        },
        "id": "nhPrhXSkfLa3",
        "outputId": "d8df0b0e-08f9-46c3-ad28-79e4255a6231"
      },
      "source": [
        "# Sort the hero DataFrame by `\"IMDB_Score\"` and make `ascending=False`\n",
        "hero.query('Type == \"Movie\" & Category == \"DC\"').sort_values(\"IMDB_Score\", ascending=False).iloc[[0, 1, -2, -1]]\n"
      ],
      "execution_count": 13,
      "outputs": [
        {
          "output_type": "execute_result",
          "data": {
            "text/html": [
              "<div>\n",
              "<style scoped>\n",
              "    .dataframe tbody tr th:only-of-type {\n",
              "        vertical-align: middle;\n",
              "    }\n",
              "\n",
              "    .dataframe tbody tr th {\n",
              "        vertical-align: top;\n",
              "    }\n",
              "\n",
              "    .dataframe thead th {\n",
              "        text-align: right;\n",
              "    }\n",
              "</style>\n",
              "<table border=\"1\" class=\"dataframe\">\n",
              "  <thead>\n",
              "    <tr style=\"text-align: right;\">\n",
              "      <th></th>\n",
              "      <th>Name</th>\n",
              "      <th>Year</th>\n",
              "      <th>Genre</th>\n",
              "      <th>RunTime</th>\n",
              "      <th>Rating</th>\n",
              "      <th>Director</th>\n",
              "      <th>Actor</th>\n",
              "      <th>Description</th>\n",
              "      <th>IMDB_Score</th>\n",
              "      <th>Metascore</th>\n",
              "      <th>Votes</th>\n",
              "      <th>USA_Gross</th>\n",
              "      <th>Category</th>\n",
              "      <th>Year_Start</th>\n",
              "      <th>Year_End</th>\n",
              "      <th>Type</th>\n",
              "    </tr>\n",
              "  </thead>\n",
              "  <tbody>\n",
              "    <tr>\n",
              "      <th>237</th>\n",
              "      <td>The Dark Knight</td>\n",
              "      <td>(2008)</td>\n",
              "      <td>Action,Crime,Drama</td>\n",
              "      <td>152.0</td>\n",
              "      <td>PG-13</td>\n",
              "      <td>ChristopherNolan</td>\n",
              "      <td>ChristianBale,HeathLedger,AaronEckhart,Michael...</td>\n",
              "      <td>When the menace known as the Joker wreaks havo...</td>\n",
              "      <td>9.0</td>\n",
              "      <td>84.0</td>\n",
              "      <td>2361064.0</td>\n",
              "      <td>534.86</td>\n",
              "      <td>DC</td>\n",
              "      <td>2008.0</td>\n",
              "      <td>NaN</td>\n",
              "      <td>Movie</td>\n",
              "    </tr>\n",
              "    <tr>\n",
              "      <th>240</th>\n",
              "      <td>The Dark Knight Rises</td>\n",
              "      <td>(2012)</td>\n",
              "      <td>Action,Adventure</td>\n",
              "      <td>164.0</td>\n",
              "      <td>PG-13</td>\n",
              "      <td>ChristopherNolan</td>\n",
              "      <td>ChristianBale,TomHardy,AnneHathaway,GaryOldman</td>\n",
              "      <td>Eight years after the Joker's reign of anarchy...</td>\n",
              "      <td>8.4</td>\n",
              "      <td>78.0</td>\n",
              "      <td>1547852.0</td>\n",
              "      <td>448.14</td>\n",
              "      <td>DC</td>\n",
              "      <td>2012.0</td>\n",
              "      <td>NaN</td>\n",
              "      <td>Movie</td>\n",
              "    </tr>\n",
              "    <tr>\n",
              "      <th>250</th>\n",
              "      <td>Batman &amp; Robin</td>\n",
              "      <td>(1997)</td>\n",
              "      <td>Action,Sci-Fi</td>\n",
              "      <td>125.0</td>\n",
              "      <td>PG-13</td>\n",
              "      <td>JoelSchumacher</td>\n",
              "      <td>ArnoldSchwarzenegger,GeorgeClooney,ChrisO'Donn...</td>\n",
              "      <td>Batman and Robin try to keep their relationshi...</td>\n",
              "      <td>3.8</td>\n",
              "      <td>28.0</td>\n",
              "      <td>237323.0</td>\n",
              "      <td>107.33</td>\n",
              "      <td>DC</td>\n",
              "      <td>1997.0</td>\n",
              "      <td>NaN</td>\n",
              "      <td>Movie</td>\n",
              "    </tr>\n",
              "    <tr>\n",
              "      <th>264</th>\n",
              "      <td>Catwoman</td>\n",
              "      <td>(2004)</td>\n",
              "      <td>Action,Crime,Fantasy</td>\n",
              "      <td>104.0</td>\n",
              "      <td>PG-13</td>\n",
              "      <td>Pitof</td>\n",
              "      <td>HalleBerry,SharonStone,BenjaminBratt,LambertWi...</td>\n",
              "      <td>A shy woman, endowed with the speed, reflexes,...</td>\n",
              "      <td>3.4</td>\n",
              "      <td>27.0</td>\n",
              "      <td>112736.0</td>\n",
              "      <td>40.20</td>\n",
              "      <td>DC</td>\n",
              "      <td>2004.0</td>\n",
              "      <td>NaN</td>\n",
              "      <td>Movie</td>\n",
              "    </tr>\n",
              "  </tbody>\n",
              "</table>\n",
              "</div>"
            ],
            "text/plain": [
              "                      Name    Year  ... Year_End   Type\n",
              "237        The Dark Knight  (2008)  ...      NaN  Movie\n",
              "240  The Dark Knight Rises  (2012)  ...      NaN  Movie\n",
              "250         Batman & Robin  (1997)  ...      NaN  Movie\n",
              "264               Catwoman  (2004)  ...      NaN  Movie\n",
              "\n",
              "[4 rows x 16 columns]"
            ]
          },
          "metadata": {
            "tags": []
          },
          "execution_count": 13
        }
      ]
    },
    {
      "cell_type": "markdown",
      "metadata": {
        "id": "eI0gtNS8f5G5"
      },
      "source": [
        "####  Lowest and Highest Rated Marvel Movie:\n",
        "\n",
        "Highest rated Marvel film is the **Avengers: Endgame** with at IMDB Rating of **8.4**.\n",
        "\n",
        "Second highest rated Marvel film is the **Avengers: Infinity War** with at IMDB Rating of **8.4**.\n",
        "\n",
        "Lowest rated Marvel film is the **Fantastic Four: Rise of Silver Surfer** with at IMDB Rating of **5.6**.\n",
        "\n",
        "Second lowest rated Marvel film is the **Punisher: War Zone** with at IMDB Rating of **5.9**."
      ]
    },
    {
      "cell_type": "code",
      "metadata": {
        "colab": {
          "base_uri": "https://localhost:8080/",
          "height": 421
        },
        "id": "wUxl-Yhrf-yC",
        "outputId": "a55dab2d-d1fc-413c-ff0a-50d7baffa832"
      },
      "source": [
        "# Sort the hero DataFrame by `\"IMDB_Score\"` and make `ascending=False`\n",
        "hero.query('Type == \"Movie\" & Category == \"Marvel\"').sort_values(\"IMDB_Score\", ascending=False).iloc[[0, 1, -2, -1]]"
      ],
      "execution_count": 14,
      "outputs": [
        {
          "output_type": "execute_result",
          "data": {
            "text/html": [
              "<div>\n",
              "<style scoped>\n",
              "    .dataframe tbody tr th:only-of-type {\n",
              "        vertical-align: middle;\n",
              "    }\n",
              "\n",
              "    .dataframe tbody tr th {\n",
              "        vertical-align: top;\n",
              "    }\n",
              "\n",
              "    .dataframe thead th {\n",
              "        text-align: right;\n",
              "    }\n",
              "</style>\n",
              "<table border=\"1\" class=\"dataframe\">\n",
              "  <thead>\n",
              "    <tr style=\"text-align: right;\">\n",
              "      <th></th>\n",
              "      <th>Name</th>\n",
              "      <th>Year</th>\n",
              "      <th>Genre</th>\n",
              "      <th>RunTime</th>\n",
              "      <th>Rating</th>\n",
              "      <th>Director</th>\n",
              "      <th>Actor</th>\n",
              "      <th>Description</th>\n",
              "      <th>IMDB_Score</th>\n",
              "      <th>Metascore</th>\n",
              "      <th>Votes</th>\n",
              "      <th>USA_Gross</th>\n",
              "      <th>Category</th>\n",
              "      <th>Year_Start</th>\n",
              "      <th>Year_End</th>\n",
              "      <th>Type</th>\n",
              "    </tr>\n",
              "  </thead>\n",
              "  <tbody>\n",
              "    <tr>\n",
              "      <th>0</th>\n",
              "      <td>Avengers: Endgame</td>\n",
              "      <td>(2019)</td>\n",
              "      <td>Action,Adventure,Drama</td>\n",
              "      <td>181.0</td>\n",
              "      <td>PG-13</td>\n",
              "      <td>AnthonyRusso,JoeRusso</td>\n",
              "      <td>RobertDowneyJr.,ChrisEvans,MarkRuffalo,ChrisHe...</td>\n",
              "      <td>After the devastating events of Avengers: Infi...</td>\n",
              "      <td>8.4</td>\n",
              "      <td>78.0</td>\n",
              "      <td>880911.0</td>\n",
              "      <td>858.37</td>\n",
              "      <td>Marvel</td>\n",
              "      <td>2019.0</td>\n",
              "      <td>NaN</td>\n",
              "      <td>Movie</td>\n",
              "    </tr>\n",
              "    <tr>\n",
              "      <th>4</th>\n",
              "      <td>Avengers: Infinity War</td>\n",
              "      <td>(2018)</td>\n",
              "      <td>Action,Adventure,Sci-Fi</td>\n",
              "      <td>149.0</td>\n",
              "      <td>PG-13</td>\n",
              "      <td>AnthonyRusso,JoeRusso</td>\n",
              "      <td>RobertDowneyJr.,ChrisHemsworth,MarkRuffalo,Chr...</td>\n",
              "      <td>The Avengers and their allies must be willing ...</td>\n",
              "      <td>8.4</td>\n",
              "      <td>68.0</td>\n",
              "      <td>881638.0</td>\n",
              "      <td>678.82</td>\n",
              "      <td>Marvel</td>\n",
              "      <td>2018.0</td>\n",
              "      <td>NaN</td>\n",
              "      <td>Movie</td>\n",
              "    </tr>\n",
              "    <tr>\n",
              "      <th>28</th>\n",
              "      <td>Punisher: War Zone</td>\n",
              "      <td>(2008)</td>\n",
              "      <td>Action,Crime,Drama</td>\n",
              "      <td>103.0</td>\n",
              "      <td>R</td>\n",
              "      <td>LexiAlexander</td>\n",
              "      <td>RayStevenson,DominicWest,JulieBenz,DougHutchison</td>\n",
              "      <td>Frank Castle, known as the Punisher, ruthlessl...</td>\n",
              "      <td>5.9</td>\n",
              "      <td>30.0</td>\n",
              "      <td>60678.0</td>\n",
              "      <td>7.95</td>\n",
              "      <td>Marvel</td>\n",
              "      <td>2008.0</td>\n",
              "      <td>NaN</td>\n",
              "      <td>Movie</td>\n",
              "    </tr>\n",
              "    <tr>\n",
              "      <th>27</th>\n",
              "      <td>Fantastic 4: Rise of the Silver Surfer</td>\n",
              "      <td>(2007)</td>\n",
              "      <td>Action,Adventure,Fantasy</td>\n",
              "      <td>92.0</td>\n",
              "      <td>PG</td>\n",
              "      <td>TimStory</td>\n",
              "      <td>IoanGruffudd,JessicaAlba,ChrisEvans,MichaelChi...</td>\n",
              "      <td>The Fantastic Four learn that they aren't the ...</td>\n",
              "      <td>5.6</td>\n",
              "      <td>45.0</td>\n",
              "      <td>253509.0</td>\n",
              "      <td>131.92</td>\n",
              "      <td>Marvel</td>\n",
              "      <td>2007.0</td>\n",
              "      <td>NaN</td>\n",
              "      <td>Movie</td>\n",
              "    </tr>\n",
              "  </tbody>\n",
              "</table>\n",
              "</div>"
            ],
            "text/plain": [
              "                                      Name    Year  ... Year_End   Type\n",
              "0                        Avengers: Endgame  (2019)  ...      NaN  Movie\n",
              "4                   Avengers: Infinity War  (2018)  ...      NaN  Movie\n",
              "28                      Punisher: War Zone  (2008)  ...      NaN  Movie\n",
              "27  Fantastic 4: Rise of the Silver Surfer  (2007)  ...      NaN  Movie\n",
              "\n",
              "[4 rows x 16 columns]"
            ]
          },
          "metadata": {
            "tags": []
          },
          "execution_count": 14
        }
      ]
    },
    {
      "cell_type": "code",
      "metadata": {
        "id": "hf8XuDWof_rZ"
      },
      "source": [
        ""
      ],
      "execution_count": 14,
      "outputs": []
    },
    {
      "cell_type": "markdown",
      "metadata": {
        "id": "8nn939yuJaOA"
      },
      "source": [
        "## Comparing DC vs Marvel cinematic universes\n",
        "\n",
        "The battle of the cinematic universes begins! Who will reign supreme?"
      ]
    },
    {
      "cell_type": "markdown",
      "metadata": {
        "id": "UK-2pmUoJaOB"
      },
      "source": [
        "### Figuring out the number of Marvel and DC films using `.value_counts()`\n",
        "\n",
        "The first order of business is figuring out how many of our datapoints are from either Marvel or DC? Are there more Marvel or DC films? \n",
        "\n",
        "To do this we need to use `.value_counts()` function. It is important to note that this function can only be applied on a single column of a DataFrame\n",
        "\n",
        "For example:\n",
        "\n",
        "```\n",
        "    hero[\"column_name\"].value_counts()\n",
        "```"
      ]
    },
    {
      "cell_type": "code",
      "metadata": {
        "id": "iiniWuWuJaOF",
        "colab": {
          "base_uri": "https://localhost:8080/"
        },
        "outputId": "6aa36974-7117-4a90-c658-54c6a9b7a59a"
      },
      "source": [
        "# Figure out how many datapoints are from Marvel or the DC cinematic universe.  Use the column name \"Category\"\n",
        "hero[\"Category\"].value_counts()\n",
        "\n"
      ],
      "execution_count": 15,
      "outputs": [
        {
          "output_type": "execute_result",
          "data": {
            "text/plain": [
              "DC        968\n",
              "Marvel    235\n",
              "Name: Category, dtype: int64"
            ]
          },
          "metadata": {
            "tags": []
          },
          "execution_count": 15
        }
      ]
    },
    {
      "cell_type": "markdown",
      "metadata": {
        "id": "f470flGrJaOI"
      },
      "source": [
        "Our dataset has **116** films from the DC universe and **276** films from the Marvel universe.|"
      ]
    },
    {
      "cell_type": "code",
      "metadata": {
        "colab": {
          "base_uri": "https://localhost:8080/",
          "height": 292
        },
        "id": "pmKPeSFTvW-K",
        "outputId": "8ec7eda5-b7e2-468f-c7b7-da00e764eb46"
      },
      "source": [
        "hero.groupby([\"Category\", \"Type\"]).describe()"
      ],
      "execution_count": 16,
      "outputs": [
        {
          "output_type": "execute_result",
          "data": {
            "text/html": [
              "<div>\n",
              "<style scoped>\n",
              "    .dataframe tbody tr th:only-of-type {\n",
              "        vertical-align: middle;\n",
              "    }\n",
              "\n",
              "    .dataframe tbody tr th {\n",
              "        vertical-align: top;\n",
              "    }\n",
              "\n",
              "    .dataframe thead tr th {\n",
              "        text-align: left;\n",
              "    }\n",
              "\n",
              "    .dataframe thead tr:last-of-type th {\n",
              "        text-align: right;\n",
              "    }\n",
              "</style>\n",
              "<table border=\"1\" class=\"dataframe\">\n",
              "  <thead>\n",
              "    <tr>\n",
              "      <th></th>\n",
              "      <th></th>\n",
              "      <th colspan=\"8\" halign=\"left\">RunTime</th>\n",
              "      <th colspan=\"8\" halign=\"left\">IMDB_Score</th>\n",
              "      <th colspan=\"8\" halign=\"left\">Metascore</th>\n",
              "      <th colspan=\"8\" halign=\"left\">Votes</th>\n",
              "      <th colspan=\"8\" halign=\"left\">USA_Gross</th>\n",
              "      <th colspan=\"8\" halign=\"left\">Year_Start</th>\n",
              "      <th colspan=\"8\" halign=\"left\">Year_End</th>\n",
              "    </tr>\n",
              "    <tr>\n",
              "      <th></th>\n",
              "      <th></th>\n",
              "      <th>count</th>\n",
              "      <th>mean</th>\n",
              "      <th>std</th>\n",
              "      <th>min</th>\n",
              "      <th>25%</th>\n",
              "      <th>50%</th>\n",
              "      <th>75%</th>\n",
              "      <th>max</th>\n",
              "      <th>count</th>\n",
              "      <th>mean</th>\n",
              "      <th>std</th>\n",
              "      <th>min</th>\n",
              "      <th>25%</th>\n",
              "      <th>50%</th>\n",
              "      <th>75%</th>\n",
              "      <th>max</th>\n",
              "      <th>count</th>\n",
              "      <th>mean</th>\n",
              "      <th>std</th>\n",
              "      <th>min</th>\n",
              "      <th>25%</th>\n",
              "      <th>50%</th>\n",
              "      <th>75%</th>\n",
              "      <th>max</th>\n",
              "      <th>count</th>\n",
              "      <th>mean</th>\n",
              "      <th>std</th>\n",
              "      <th>min</th>\n",
              "      <th>25%</th>\n",
              "      <th>50%</th>\n",
              "      <th>75%</th>\n",
              "      <th>max</th>\n",
              "      <th>count</th>\n",
              "      <th>mean</th>\n",
              "      <th>std</th>\n",
              "      <th>min</th>\n",
              "      <th>25%</th>\n",
              "      <th>50%</th>\n",
              "      <th>75%</th>\n",
              "      <th>max</th>\n",
              "      <th>count</th>\n",
              "      <th>mean</th>\n",
              "      <th>std</th>\n",
              "      <th>min</th>\n",
              "      <th>25%</th>\n",
              "      <th>50%</th>\n",
              "      <th>75%</th>\n",
              "      <th>max</th>\n",
              "      <th>count</th>\n",
              "      <th>mean</th>\n",
              "      <th>std</th>\n",
              "      <th>min</th>\n",
              "      <th>25%</th>\n",
              "      <th>50%</th>\n",
              "      <th>75%</th>\n",
              "      <th>max</th>\n",
              "    </tr>\n",
              "    <tr>\n",
              "      <th>Category</th>\n",
              "      <th>Type</th>\n",
              "      <th></th>\n",
              "      <th></th>\n",
              "      <th></th>\n",
              "      <th></th>\n",
              "      <th></th>\n",
              "      <th></th>\n",
              "      <th></th>\n",
              "      <th></th>\n",
              "      <th></th>\n",
              "      <th></th>\n",
              "      <th></th>\n",
              "      <th></th>\n",
              "      <th></th>\n",
              "      <th></th>\n",
              "      <th></th>\n",
              "      <th></th>\n",
              "      <th></th>\n",
              "      <th></th>\n",
              "      <th></th>\n",
              "      <th></th>\n",
              "      <th></th>\n",
              "      <th></th>\n",
              "      <th></th>\n",
              "      <th></th>\n",
              "      <th></th>\n",
              "      <th></th>\n",
              "      <th></th>\n",
              "      <th></th>\n",
              "      <th></th>\n",
              "      <th></th>\n",
              "      <th></th>\n",
              "      <th></th>\n",
              "      <th></th>\n",
              "      <th></th>\n",
              "      <th></th>\n",
              "      <th></th>\n",
              "      <th></th>\n",
              "      <th></th>\n",
              "      <th></th>\n",
              "      <th></th>\n",
              "      <th></th>\n",
              "      <th></th>\n",
              "      <th></th>\n",
              "      <th></th>\n",
              "      <th></th>\n",
              "      <th></th>\n",
              "      <th></th>\n",
              "      <th></th>\n",
              "      <th></th>\n",
              "      <th></th>\n",
              "      <th></th>\n",
              "      <th></th>\n",
              "      <th></th>\n",
              "      <th></th>\n",
              "      <th></th>\n",
              "      <th></th>\n",
              "    </tr>\n",
              "  </thead>\n",
              "  <tbody>\n",
              "    <tr>\n",
              "      <th rowspan=\"2\" valign=\"top\">DC</th>\n",
              "      <th>Movie</th>\n",
              "      <td>35.0</td>\n",
              "      <td>125.171429</td>\n",
              "      <td>21.633968</td>\n",
              "      <td>86.0</td>\n",
              "      <td>109.0</td>\n",
              "      <td>125.0</td>\n",
              "      <td>142.0</td>\n",
              "      <td>164.0</td>\n",
              "      <td>35.0</td>\n",
              "      <td>6.514286</td>\n",
              "      <td>1.371162</td>\n",
              "      <td>3.4</td>\n",
              "      <td>5.55</td>\n",
              "      <td>6.8</td>\n",
              "      <td>7.55</td>\n",
              "      <td>9.0</td>\n",
              "      <td>34.0</td>\n",
              "      <td>58.294118</td>\n",
              "      <td>16.001003</td>\n",
              "      <td>27.0</td>\n",
              "      <td>44.0</td>\n",
              "      <td>59.5</td>\n",
              "      <td>70.0</td>\n",
              "      <td>85.0</td>\n",
              "      <td>35.0</td>\n",
              "      <td>440323.971429</td>\n",
              "      <td>511389.148698</td>\n",
              "      <td>9209.0</td>\n",
              "      <td>106241.5</td>\n",
              "      <td>270460.0</td>\n",
              "      <td>636030.5</td>\n",
              "      <td>2361064.0</td>\n",
              "      <td>35.0</td>\n",
              "      <td>157.236286</td>\n",
              "      <td>132.844751</td>\n",
              "      <td>0.53</td>\n",
              "      <td>53.88</td>\n",
              "      <td>116.60</td>\n",
              "      <td>229.02</td>\n",
              "      <td>534.86</td>\n",
              "      <td>35.0</td>\n",
              "      <td>2003.371429</td>\n",
              "      <td>11.324325</td>\n",
              "      <td>1978.0</td>\n",
              "      <td>1996.0</td>\n",
              "      <td>2005.0</td>\n",
              "      <td>2011.5</td>\n",
              "      <td>2020.0</td>\n",
              "      <td>0.0</td>\n",
              "      <td>NaN</td>\n",
              "      <td>NaN</td>\n",
              "      <td>NaN</td>\n",
              "      <td>NaN</td>\n",
              "      <td>NaN</td>\n",
              "      <td>NaN</td>\n",
              "      <td>NaN</td>\n",
              "    </tr>\n",
              "    <tr>\n",
              "      <th>TV Show</th>\n",
              "      <td>917.0</td>\n",
              "      <td>33.872410</td>\n",
              "      <td>11.445050</td>\n",
              "      <td>10.0</td>\n",
              "      <td>22.0</td>\n",
              "      <td>41.0</td>\n",
              "      <td>43.0</td>\n",
              "      <td>84.0</td>\n",
              "      <td>933.0</td>\n",
              "      <td>8.131297</td>\n",
              "      <td>0.600756</td>\n",
              "      <td>5.7</td>\n",
              "      <td>7.70</td>\n",
              "      <td>8.1</td>\n",
              "      <td>8.60</td>\n",
              "      <td>9.6</td>\n",
              "      <td>0.0</td>\n",
              "      <td>NaN</td>\n",
              "      <td>NaN</td>\n",
              "      <td>NaN</td>\n",
              "      <td>NaN</td>\n",
              "      <td>NaN</td>\n",
              "      <td>NaN</td>\n",
              "      <td>NaN</td>\n",
              "      <td>933.0</td>\n",
              "      <td>1284.227224</td>\n",
              "      <td>1400.918810</td>\n",
              "      <td>5.0</td>\n",
              "      <td>433.0</td>\n",
              "      <td>878.0</td>\n",
              "      <td>1658.0</td>\n",
              "      <td>11823.0</td>\n",
              "      <td>0.0</td>\n",
              "      <td>NaN</td>\n",
              "      <td>NaN</td>\n",
              "      <td>NaN</td>\n",
              "      <td>NaN</td>\n",
              "      <td>NaN</td>\n",
              "      <td>NaN</td>\n",
              "      <td>NaN</td>\n",
              "      <td>933.0</td>\n",
              "      <td>2005.654877</td>\n",
              "      <td>7.746581</td>\n",
              "      <td>1979.0</td>\n",
              "      <td>2001.0</td>\n",
              "      <td>2004.0</td>\n",
              "      <td>2014.0</td>\n",
              "      <td>2019.0</td>\n",
              "      <td>776.0</td>\n",
              "      <td>2009.159794</td>\n",
              "      <td>8.136749</td>\n",
              "      <td>1995.0</td>\n",
              "      <td>2004.0</td>\n",
              "      <td>2011.0</td>\n",
              "      <td>2019.0</td>\n",
              "      <td>2021.0</td>\n",
              "    </tr>\n",
              "    <tr>\n",
              "      <th rowspan=\"2\" valign=\"top\">Marvel</th>\n",
              "      <th>Movie</th>\n",
              "      <td>29.0</td>\n",
              "      <td>126.103448</td>\n",
              "      <td>17.958971</td>\n",
              "      <td>90.0</td>\n",
              "      <td>115.0</td>\n",
              "      <td>125.0</td>\n",
              "      <td>136.0</td>\n",
              "      <td>181.0</td>\n",
              "      <td>29.0</td>\n",
              "      <td>7.210345</td>\n",
              "      <td>0.693513</td>\n",
              "      <td>5.6</td>\n",
              "      <td>6.90</td>\n",
              "      <td>7.3</td>\n",
              "      <td>7.70</td>\n",
              "      <td>8.4</td>\n",
              "      <td>29.0</td>\n",
              "      <td>65.344828</td>\n",
              "      <td>11.681108</td>\n",
              "      <td>30.0</td>\n",
              "      <td>61.0</td>\n",
              "      <td>67.0</td>\n",
              "      <td>72.0</td>\n",
              "      <td>88.0</td>\n",
              "      <td>29.0</td>\n",
              "      <td>595566.034483</td>\n",
              "      <td>297108.286599</td>\n",
              "      <td>60678.0</td>\n",
              "      <td>444258.0</td>\n",
              "      <td>615860.0</td>\n",
              "      <td>764898.0</td>\n",
              "      <td>1283515.0</td>\n",
              "      <td>29.0</td>\n",
              "      <td>319.655517</td>\n",
              "      <td>203.812513</td>\n",
              "      <td>7.95</td>\n",
              "      <td>181.03</td>\n",
              "      <td>315.06</td>\n",
              "      <td>408.08</td>\n",
              "      <td>858.37</td>\n",
              "      <td>29.0</td>\n",
              "      <td>2014.344828</td>\n",
              "      <td>4.090720</td>\n",
              "      <td>2007.0</td>\n",
              "      <td>2011.0</td>\n",
              "      <td>2015.0</td>\n",
              "      <td>2018.0</td>\n",
              "      <td>2019.0</td>\n",
              "      <td>0.0</td>\n",
              "      <td>NaN</td>\n",
              "      <td>NaN</td>\n",
              "      <td>NaN</td>\n",
              "      <td>NaN</td>\n",
              "      <td>NaN</td>\n",
              "      <td>NaN</td>\n",
              "      <td>NaN</td>\n",
              "    </tr>\n",
              "    <tr>\n",
              "      <th>TV Show</th>\n",
              "      <td>206.0</td>\n",
              "      <td>43.766990</td>\n",
              "      <td>5.620874</td>\n",
              "      <td>22.0</td>\n",
              "      <td>42.0</td>\n",
              "      <td>43.0</td>\n",
              "      <td>43.0</td>\n",
              "      <td>66.0</td>\n",
              "      <td>206.0</td>\n",
              "      <td>7.727184</td>\n",
              "      <td>1.212552</td>\n",
              "      <td>4.0</td>\n",
              "      <td>6.50</td>\n",
              "      <td>8.2</td>\n",
              "      <td>8.60</td>\n",
              "      <td>9.6</td>\n",
              "      <td>0.0</td>\n",
              "      <td>NaN</td>\n",
              "      <td>NaN</td>\n",
              "      <td>NaN</td>\n",
              "      <td>NaN</td>\n",
              "      <td>NaN</td>\n",
              "      <td>NaN</td>\n",
              "      <td>NaN</td>\n",
              "      <td>206.0</td>\n",
              "      <td>2769.868932</td>\n",
              "      <td>4179.838125</td>\n",
              "      <td>17.0</td>\n",
              "      <td>32.5</td>\n",
              "      <td>1939.0</td>\n",
              "      <td>2741.5</td>\n",
              "      <td>21001.0</td>\n",
              "      <td>0.0</td>\n",
              "      <td>NaN</td>\n",
              "      <td>NaN</td>\n",
              "      <td>NaN</td>\n",
              "      <td>NaN</td>\n",
              "      <td>NaN</td>\n",
              "      <td>NaN</td>\n",
              "      <td>NaN</td>\n",
              "      <td>206.0</td>\n",
              "      <td>2009.956311</td>\n",
              "      <td>6.831993</td>\n",
              "      <td>2000.0</td>\n",
              "      <td>2001.0</td>\n",
              "      <td>2013.0</td>\n",
              "      <td>2013.0</td>\n",
              "      <td>2021.0</td>\n",
              "      <td>191.0</td>\n",
              "      <td>2013.895288</td>\n",
              "      <td>7.609518</td>\n",
              "      <td>2003.0</td>\n",
              "      <td>2004.0</td>\n",
              "      <td>2019.0</td>\n",
              "      <td>2020.0</td>\n",
              "      <td>2020.0</td>\n",
              "    </tr>\n",
              "  </tbody>\n",
              "</table>\n",
              "</div>"
            ],
            "text/plain": [
              "                 RunTime                         ... Year_End                \n",
              "                   count        mean        std  ...      50%     75%     max\n",
              "Category Type                                    ...                         \n",
              "DC       Movie      35.0  125.171429  21.633968  ...      NaN     NaN     NaN\n",
              "         TV Show   917.0   33.872410  11.445050  ...   2011.0  2019.0  2021.0\n",
              "Marvel   Movie      29.0  126.103448  17.958971  ...      NaN     NaN     NaN\n",
              "         TV Show   206.0   43.766990   5.620874  ...   2019.0  2020.0  2020.0\n",
              "\n",
              "[4 rows x 56 columns]"
            ]
          },
          "metadata": {
            "tags": []
          },
          "execution_count": 16
        }
      ]
    },
    {
      "cell_type": "markdown",
      "metadata": {
        "id": "8cx_JeQiJaOK"
      },
      "source": [
        "### Figuring out if Marvel or DC films are more highly rated using `.groupby()`\n",
        "\n",
        "Which movies are more highly rate on IMDB? DC or Marvel?\n",
        "\n",
        "To answer this question, we need to use the `.groupby()` method. We can select one our multiple columns to group the data by, and then we can aggregate that data to find out information about mean, min, max, standard deviation, sum, etc.\n",
        "\n",
        "The format that `.groupby()` uses is as follows:\n",
        "\n",
        "```\n",
        "hero.groupby(\"column_name\").aggregate_function()\n",
        "```\n",
        "\n",
        "Where `\"column_name\"` is the name of the column and `.aggregate_function()` is the a specific aggregate function like `.mean()`, `.sum()`, `.max()`, `min()`."
      ]
    },
    {
      "cell_type": "code",
      "metadata": {
        "id": "ExYroWOQJaOK",
        "colab": {
          "base_uri": "https://localhost:8080/",
          "height": 143
        },
        "outputId": "f20150eb-e947-46b3-cf49-3c38d83cce21"
      },
      "source": [
        "# Figure out if DC or Marvel films have a greater average IMDB_Score, Metascore, Votes, USA_Gross.\n",
        "# Remember the column that tells us is the film is DC or Marvel is called `\"Category\"``\n",
        "\n",
        "hero.groupby(\"Category\").mean()"
      ],
      "execution_count": 17,
      "outputs": [
        {
          "output_type": "execute_result",
          "data": {
            "text/html": [
              "<div>\n",
              "<style scoped>\n",
              "    .dataframe tbody tr th:only-of-type {\n",
              "        vertical-align: middle;\n",
              "    }\n",
              "\n",
              "    .dataframe tbody tr th {\n",
              "        vertical-align: top;\n",
              "    }\n",
              "\n",
              "    .dataframe thead th {\n",
              "        text-align: right;\n",
              "    }\n",
              "</style>\n",
              "<table border=\"1\" class=\"dataframe\">\n",
              "  <thead>\n",
              "    <tr style=\"text-align: right;\">\n",
              "      <th></th>\n",
              "      <th>RunTime</th>\n",
              "      <th>IMDB_Score</th>\n",
              "      <th>Metascore</th>\n",
              "      <th>Votes</th>\n",
              "      <th>USA_Gross</th>\n",
              "      <th>Year_Start</th>\n",
              "      <th>Year_End</th>\n",
              "    </tr>\n",
              "    <tr>\n",
              "      <th>Category</th>\n",
              "      <th></th>\n",
              "      <th></th>\n",
              "      <th></th>\n",
              "      <th></th>\n",
              "      <th></th>\n",
              "      <th></th>\n",
              "      <th></th>\n",
              "    </tr>\n",
              "  </thead>\n",
              "  <tbody>\n",
              "    <tr>\n",
              "      <th>DC</th>\n",
              "      <td>37.228992</td>\n",
              "      <td>8.072831</td>\n",
              "      <td>58.294118</td>\n",
              "      <td>17158.598140</td>\n",
              "      <td>157.236286</td>\n",
              "      <td>2005.572314</td>\n",
              "      <td>2009.159794</td>\n",
              "    </tr>\n",
              "    <tr>\n",
              "      <th>Marvel</th>\n",
              "      <td>53.927660</td>\n",
              "      <td>7.663404</td>\n",
              "      <td>65.344828</td>\n",
              "      <td>75923.438298</td>\n",
              "      <td>319.655517</td>\n",
              "      <td>2010.497872</td>\n",
              "      <td>2013.895288</td>\n",
              "    </tr>\n",
              "  </tbody>\n",
              "</table>\n",
              "</div>"
            ],
            "text/plain": [
              "            RunTime  IMDB_Score  ...   Year_Start     Year_End\n",
              "Category                         ...                          \n",
              "DC        37.228992    8.072831  ...  2005.572314  2009.159794\n",
              "Marvel    53.927660    7.663404  ...  2010.497872  2013.895288\n",
              "\n",
              "[2 rows x 7 columns]"
            ]
          },
          "metadata": {
            "tags": []
          },
          "execution_count": 17
        }
      ]
    },
    {
      "cell_type": "code",
      "metadata": {
        "id": "7BKTJ0lzJaOL",
        "colab": {
          "base_uri": "https://localhost:8080/",
          "height": 143
        },
        "outputId": "d1aba8a0-959c-4617-a777-9c39fcd7a8e6"
      },
      "source": [
        "hero.groupby(\"Category\").mean()"
      ],
      "execution_count": 18,
      "outputs": [
        {
          "output_type": "execute_result",
          "data": {
            "text/html": [
              "<div>\n",
              "<style scoped>\n",
              "    .dataframe tbody tr th:only-of-type {\n",
              "        vertical-align: middle;\n",
              "    }\n",
              "\n",
              "    .dataframe tbody tr th {\n",
              "        vertical-align: top;\n",
              "    }\n",
              "\n",
              "    .dataframe thead th {\n",
              "        text-align: right;\n",
              "    }\n",
              "</style>\n",
              "<table border=\"1\" class=\"dataframe\">\n",
              "  <thead>\n",
              "    <tr style=\"text-align: right;\">\n",
              "      <th></th>\n",
              "      <th>RunTime</th>\n",
              "      <th>IMDB_Score</th>\n",
              "      <th>Metascore</th>\n",
              "      <th>Votes</th>\n",
              "      <th>USA_Gross</th>\n",
              "      <th>Year_Start</th>\n",
              "      <th>Year_End</th>\n",
              "    </tr>\n",
              "    <tr>\n",
              "      <th>Category</th>\n",
              "      <th></th>\n",
              "      <th></th>\n",
              "      <th></th>\n",
              "      <th></th>\n",
              "      <th></th>\n",
              "      <th></th>\n",
              "      <th></th>\n",
              "    </tr>\n",
              "  </thead>\n",
              "  <tbody>\n",
              "    <tr>\n",
              "      <th>DC</th>\n",
              "      <td>37.228992</td>\n",
              "      <td>8.072831</td>\n",
              "      <td>58.294118</td>\n",
              "      <td>17158.598140</td>\n",
              "      <td>157.236286</td>\n",
              "      <td>2005.572314</td>\n",
              "      <td>2009.159794</td>\n",
              "    </tr>\n",
              "    <tr>\n",
              "      <th>Marvel</th>\n",
              "      <td>53.927660</td>\n",
              "      <td>7.663404</td>\n",
              "      <td>65.344828</td>\n",
              "      <td>75923.438298</td>\n",
              "      <td>319.655517</td>\n",
              "      <td>2010.497872</td>\n",
              "      <td>2013.895288</td>\n",
              "    </tr>\n",
              "  </tbody>\n",
              "</table>\n",
              "</div>"
            ],
            "text/plain": [
              "            RunTime  IMDB_Score  ...   Year_Start     Year_End\n",
              "Category                         ...                          \n",
              "DC        37.228992    8.072831  ...  2005.572314  2009.159794\n",
              "Marvel    53.927660    7.663404  ...  2010.497872  2013.895288\n",
              "\n",
              "[2 rows x 7 columns]"
            ]
          },
          "metadata": {
            "tags": []
          },
          "execution_count": 18
        }
      ]
    },
    {
      "cell_type": "markdown",
      "metadata": {
        "id": "0OnMnNzHJaOM"
      },
      "source": [
        "**DC** has a higher mean IMDB Score than **Marvel**.  And, **Marvel** has a higher mean Metacritic score than **DC**. In general, **Marvel** films tend to gross more in the US than **DC** films. "
      ]
    },
    {
      "cell_type": "markdown",
      "metadata": {
        "id": "mmzPXk2hJaOM"
      },
      "source": [
        "### Grouping by both `\"Category\"` (i.e., DC vs Marvel) and `\"Type\"` (i.e., Movie vs Series)\n",
        "\n",
        "Our dataset also includes information if the film is a stand-alone movie (only one iteration of it) or if it is a series (multiple episodes).\n",
        "\n",
        "To get a break down of our data by both `\"Category\"` and `\"Type\"`, we need to pass two columns into `.groupby()`\n",
        "\n",
        "The format should be as follows: \n",
        "\n",
        "```\n",
        "hero.groupby([\"column_name_1\", \"column_name_2\"]).aggregate_function()\n",
        "```\n"
      ]
    },
    {
      "cell_type": "code",
      "metadata": {
        "id": "FtlwYL2OJaON",
        "colab": {
          "base_uri": "https://localhost:8080/",
          "height": 206
        },
        "outputId": "8b9ef8f0-f6a5-4169-f641-798e88ad047e"
      },
      "source": [
        "# Calculate the mean for the numerical data by grouping by \"Category\" and \"Type\"\n",
        "hero.groupby([\"Type\", \"Category\"]).mean()"
      ],
      "execution_count": 19,
      "outputs": [
        {
          "output_type": "execute_result",
          "data": {
            "text/html": [
              "<div>\n",
              "<style scoped>\n",
              "    .dataframe tbody tr th:only-of-type {\n",
              "        vertical-align: middle;\n",
              "    }\n",
              "\n",
              "    .dataframe tbody tr th {\n",
              "        vertical-align: top;\n",
              "    }\n",
              "\n",
              "    .dataframe thead th {\n",
              "        text-align: right;\n",
              "    }\n",
              "</style>\n",
              "<table border=\"1\" class=\"dataframe\">\n",
              "  <thead>\n",
              "    <tr style=\"text-align: right;\">\n",
              "      <th></th>\n",
              "      <th></th>\n",
              "      <th>RunTime</th>\n",
              "      <th>IMDB_Score</th>\n",
              "      <th>Metascore</th>\n",
              "      <th>Votes</th>\n",
              "      <th>USA_Gross</th>\n",
              "      <th>Year_Start</th>\n",
              "      <th>Year_End</th>\n",
              "    </tr>\n",
              "    <tr>\n",
              "      <th>Type</th>\n",
              "      <th>Category</th>\n",
              "      <th></th>\n",
              "      <th></th>\n",
              "      <th></th>\n",
              "      <th></th>\n",
              "      <th></th>\n",
              "      <th></th>\n",
              "      <th></th>\n",
              "    </tr>\n",
              "  </thead>\n",
              "  <tbody>\n",
              "    <tr>\n",
              "      <th rowspan=\"2\" valign=\"top\">Movie</th>\n",
              "      <th>DC</th>\n",
              "      <td>125.171429</td>\n",
              "      <td>6.514286</td>\n",
              "      <td>58.294118</td>\n",
              "      <td>440323.971429</td>\n",
              "      <td>157.236286</td>\n",
              "      <td>2003.371429</td>\n",
              "      <td>NaN</td>\n",
              "    </tr>\n",
              "    <tr>\n",
              "      <th>Marvel</th>\n",
              "      <td>126.103448</td>\n",
              "      <td>7.210345</td>\n",
              "      <td>65.344828</td>\n",
              "      <td>595566.034483</td>\n",
              "      <td>319.655517</td>\n",
              "      <td>2014.344828</td>\n",
              "      <td>NaN</td>\n",
              "    </tr>\n",
              "    <tr>\n",
              "      <th rowspan=\"2\" valign=\"top\">TV Show</th>\n",
              "      <th>DC</th>\n",
              "      <td>33.872410</td>\n",
              "      <td>8.131297</td>\n",
              "      <td>NaN</td>\n",
              "      <td>1284.227224</td>\n",
              "      <td>NaN</td>\n",
              "      <td>2005.654877</td>\n",
              "      <td>2009.159794</td>\n",
              "    </tr>\n",
              "    <tr>\n",
              "      <th>Marvel</th>\n",
              "      <td>43.766990</td>\n",
              "      <td>7.727184</td>\n",
              "      <td>NaN</td>\n",
              "      <td>2769.868932</td>\n",
              "      <td>NaN</td>\n",
              "      <td>2009.956311</td>\n",
              "      <td>2013.895288</td>\n",
              "    </tr>\n",
              "  </tbody>\n",
              "</table>\n",
              "</div>"
            ],
            "text/plain": [
              "                     RunTime  IMDB_Score  ...   Year_Start     Year_End\n",
              "Type    Category                          ...                          \n",
              "Movie   DC        125.171429    6.514286  ...  2003.371429          NaN\n",
              "        Marvel    126.103448    7.210345  ...  2014.344828          NaN\n",
              "TV Show DC         33.872410    8.131297  ...  2005.654877  2009.159794\n",
              "        Marvel     43.766990    7.727184  ...  2009.956311  2013.895288\n",
              "\n",
              "[4 rows x 7 columns]"
            ]
          },
          "metadata": {
            "tags": []
          },
          "execution_count": 19
        }
      ]
    },
    {
      "cell_type": "markdown",
      "metadata": {
        "id": "bc6hCmZvJaOO"
      },
      "source": [
        "When comparing **movies**, Marvel had a higher IMDB score than DC.  \n",
        "\n",
        "When comparing **TV Series**, DC had a higher IMDB rating than Marvel."
      ]
    },
    {
      "cell_type": "markdown",
      "metadata": {
        "id": "wtdfK2adJaOO"
      },
      "source": [
        "### Looking films made after 2005 using `.query()` \n",
        "\n",
        "\n",
        "Everyone knows that there was a resurgence in superhero movies in the mid to late 2000s, what if we only look at data after 2005 using\n",
        "\n",
        "`.query()` to apply some sort of condition onto the data.  Usually the format is you set some sort of condition based on a column of your DataFrame.\n",
        "\n",
        "\n",
        "Some examples of queries include the following:\n",
        "\n",
        "\n",
        "- Only include films that were before the year 1995: `hero.query(\"Year_Start < 1995\")`\n",
        "- Only include films that were directed by Tim Burton: `hero.query(\"Director == 'TimBurton'\")`\n",
        "- Only include films that have a IMDB score of greater or equal to 8 **and** were made after 2010: `hero.query(\"IMDB_Score >= 8 & Year_Start > 2010\")`\n",
        "- Only include films that have a age rating of \"R\" **or** \"M\": `hero.query(\"Rating == 'R' | Rating == 'M'\")`\n",
        "\n",
        "\n"
      ]
    },
    {
      "cell_type": "code",
      "metadata": {
        "id": "CbQhqgn7JaOO",
        "colab": {
          "base_uri": "https://localhost:8080/",
          "height": 1000
        },
        "outputId": "fde7db4b-1355-4d3c-ffe9-2ba7a68f8fa5"
      },
      "source": [
        "# Query that hero data for films where the Year_Start is > 2005\n",
        "\n",
        "hero_2005 = hero.query(\"Year_Start > 2005 & Votes > 1000 \") # Replace the year \n",
        "hero_2005"
      ],
      "execution_count": 20,
      "outputs": [
        {
          "output_type": "execute_result",
          "data": {
            "text/html": [
              "<div>\n",
              "<style scoped>\n",
              "    .dataframe tbody tr th:only-of-type {\n",
              "        vertical-align: middle;\n",
              "    }\n",
              "\n",
              "    .dataframe tbody tr th {\n",
              "        vertical-align: top;\n",
              "    }\n",
              "\n",
              "    .dataframe thead th {\n",
              "        text-align: right;\n",
              "    }\n",
              "</style>\n",
              "<table border=\"1\" class=\"dataframe\">\n",
              "  <thead>\n",
              "    <tr style=\"text-align: right;\">\n",
              "      <th></th>\n",
              "      <th>Name</th>\n",
              "      <th>Year</th>\n",
              "      <th>Genre</th>\n",
              "      <th>RunTime</th>\n",
              "      <th>Rating</th>\n",
              "      <th>Director</th>\n",
              "      <th>Actor</th>\n",
              "      <th>Description</th>\n",
              "      <th>IMDB_Score</th>\n",
              "      <th>Metascore</th>\n",
              "      <th>Votes</th>\n",
              "      <th>USA_Gross</th>\n",
              "      <th>Category</th>\n",
              "      <th>Year_Start</th>\n",
              "      <th>Year_End</th>\n",
              "      <th>Type</th>\n",
              "    </tr>\n",
              "  </thead>\n",
              "  <tbody>\n",
              "    <tr>\n",
              "      <th>0</th>\n",
              "      <td>Avengers: Endgame</td>\n",
              "      <td>(2019)</td>\n",
              "      <td>Action,Adventure,Drama</td>\n",
              "      <td>181.0</td>\n",
              "      <td>PG-13</td>\n",
              "      <td>AnthonyRusso,JoeRusso</td>\n",
              "      <td>RobertDowneyJr.,ChrisEvans,MarkRuffalo,ChrisHe...</td>\n",
              "      <td>After the devastating events of Avengers: Infi...</td>\n",
              "      <td>8.4</td>\n",
              "      <td>78.0</td>\n",
              "      <td>880911.0</td>\n",
              "      <td>858.37</td>\n",
              "      <td>Marvel</td>\n",
              "      <td>2019.0</td>\n",
              "      <td>NaN</td>\n",
              "      <td>Movie</td>\n",
              "    </tr>\n",
              "    <tr>\n",
              "      <th>1</th>\n",
              "      <td>Guardians of the Galaxy</td>\n",
              "      <td>(2014)</td>\n",
              "      <td>Action,Adventure,Comedy</td>\n",
              "      <td>121.0</td>\n",
              "      <td>PG-13</td>\n",
              "      <td>JamesGunn</td>\n",
              "      <td>ChrisPratt,VinDiesel,BradleyCooper,ZoeSaldana</td>\n",
              "      <td>A group of intergalactic criminals must pull t...</td>\n",
              "      <td>8.0</td>\n",
              "      <td>76.0</td>\n",
              "      <td>1066222.0</td>\n",
              "      <td>333.18</td>\n",
              "      <td>Marvel</td>\n",
              "      <td>2014.0</td>\n",
              "      <td>NaN</td>\n",
              "      <td>Movie</td>\n",
              "    </tr>\n",
              "    <tr>\n",
              "      <th>2</th>\n",
              "      <td>Spider-Man: Far from Home</td>\n",
              "      <td>(2019)</td>\n",
              "      <td>Action,Adventure,Sci-Fi</td>\n",
              "      <td>129.0</td>\n",
              "      <td>PG-13</td>\n",
              "      <td>JonWatts</td>\n",
              "      <td>TomHolland,SamuelL.Jackson,JakeGyllenhaal,Mari...</td>\n",
              "      <td>Following the events of Avengers: Endgame (201...</td>\n",
              "      <td>7.5</td>\n",
              "      <td>69.0</td>\n",
              "      <td>348047.0</td>\n",
              "      <td>390.53</td>\n",
              "      <td>Marvel</td>\n",
              "      <td>2019.0</td>\n",
              "      <td>NaN</td>\n",
              "      <td>Movie</td>\n",
              "    </tr>\n",
              "    <tr>\n",
              "      <th>3</th>\n",
              "      <td>Thor: Ragnarok</td>\n",
              "      <td>(2017)</td>\n",
              "      <td>Action,Adventure,Comedy</td>\n",
              "      <td>130.0</td>\n",
              "      <td>PG-13</td>\n",
              "      <td>TaikaWaititi</td>\n",
              "      <td>ChrisHemsworth,TomHiddleston,CateBlanchett,Mar...</td>\n",
              "      <td>Imprisoned on the planet Sakaar, Thor must rac...</td>\n",
              "      <td>7.9</td>\n",
              "      <td>74.0</td>\n",
              "      <td>615860.0</td>\n",
              "      <td>315.06</td>\n",
              "      <td>Marvel</td>\n",
              "      <td>2017.0</td>\n",
              "      <td>NaN</td>\n",
              "      <td>Movie</td>\n",
              "    </tr>\n",
              "    <tr>\n",
              "      <th>4</th>\n",
              "      <td>Avengers: Infinity War</td>\n",
              "      <td>(2018)</td>\n",
              "      <td>Action,Adventure,Sci-Fi</td>\n",
              "      <td>149.0</td>\n",
              "      <td>PG-13</td>\n",
              "      <td>AnthonyRusso,JoeRusso</td>\n",
              "      <td>RobertDowneyJr.,ChrisHemsworth,MarkRuffalo,Chr...</td>\n",
              "      <td>The Avengers and their allies must be willing ...</td>\n",
              "      <td>8.4</td>\n",
              "      <td>68.0</td>\n",
              "      <td>881638.0</td>\n",
              "      <td>678.82</td>\n",
              "      <td>Marvel</td>\n",
              "      <td>2018.0</td>\n",
              "      <td>NaN</td>\n",
              "      <td>Movie</td>\n",
              "    </tr>\n",
              "    <tr>\n",
              "      <th>...</th>\n",
              "      <td>...</td>\n",
              "      <td>...</td>\n",
              "      <td>...</td>\n",
              "      <td>...</td>\n",
              "      <td>...</td>\n",
              "      <td>...</td>\n",
              "      <td>...</td>\n",
              "      <td>...</td>\n",
              "      <td>...</td>\n",
              "      <td>...</td>\n",
              "      <td>...</td>\n",
              "      <td>...</td>\n",
              "      <td>...</td>\n",
              "      <td>...</td>\n",
              "      <td>...</td>\n",
              "      <td>...</td>\n",
              "    </tr>\n",
              "    <tr>\n",
              "      <th>1198</th>\n",
              "      <td>DC's Legends of Tomorrow</td>\n",
              "      <td>(2016– )</td>\n",
              "      <td>Action,Adventure,Drama</td>\n",
              "      <td>42.0</td>\n",
              "      <td>TV-14</td>\n",
              "      <td>GregorySmith</td>\n",
              "      <td>BrandonRouth,CaityLotz,MaisieRichardson-Seller...</td>\n",
              "      <td>Worlds lived, worlds died. Nothing will ever b...</td>\n",
              "      <td>8.5</td>\n",
              "      <td>NaN</td>\n",
              "      <td>2050.0</td>\n",
              "      <td>NaN</td>\n",
              "      <td>DC</td>\n",
              "      <td>2016.0</td>\n",
              "      <td>NaN</td>\n",
              "      <td>TV Show</td>\n",
              "    </tr>\n",
              "    <tr>\n",
              "      <th>1199</th>\n",
              "      <td>Supergirl</td>\n",
              "      <td>(2015–2021)</td>\n",
              "      <td>Action,Adventure,Drama</td>\n",
              "      <td>42.0</td>\n",
              "      <td>TV-PG</td>\n",
              "      <td>CarlSeaton</td>\n",
              "      <td>MelissaBenoist,MehcadBrooks,ChylerLeigh,KatieM...</td>\n",
              "      <td>In the wake of Lex Luthor's return, the show f...</td>\n",
              "      <td>8.3</td>\n",
              "      <td>NaN</td>\n",
              "      <td>1259.0</td>\n",
              "      <td>NaN</td>\n",
              "      <td>DC</td>\n",
              "      <td>2015.0</td>\n",
              "      <td>2021.0</td>\n",
              "      <td>TV Show</td>\n",
              "    </tr>\n",
              "    <tr>\n",
              "      <th>1200</th>\n",
              "      <td>Supergirl</td>\n",
              "      <td>(2015–2021)</td>\n",
              "      <td>Action,Adventure,Drama</td>\n",
              "      <td>42.0</td>\n",
              "      <td>TV-PG</td>\n",
              "      <td>AlexisOstrander</td>\n",
              "      <td>MelissaBenoist,MehcadBrooks,ChylerLeigh,KatieM...</td>\n",
              "      <td>Kara comes face to face with Red Daughter and ...</td>\n",
              "      <td>8.1</td>\n",
              "      <td>NaN</td>\n",
              "      <td>1053.0</td>\n",
              "      <td>NaN</td>\n",
              "      <td>DC</td>\n",
              "      <td>2015.0</td>\n",
              "      <td>2021.0</td>\n",
              "      <td>TV Show</td>\n",
              "    </tr>\n",
              "    <tr>\n",
              "      <th>1201</th>\n",
              "      <td>Supergirl</td>\n",
              "      <td>(2015–2021)</td>\n",
              "      <td>Action,Adventure,Drama</td>\n",
              "      <td>42.0</td>\n",
              "      <td>TV-PG</td>\n",
              "      <td>ShannonKohli</td>\n",
              "      <td>MelissaBenoist,MehcadBrooks,ChylerLeigh,KatieM...</td>\n",
              "      <td>Kara and Lena head to Kaznia to hunt down Lex....</td>\n",
              "      <td>7.4</td>\n",
              "      <td>NaN</td>\n",
              "      <td>1036.0</td>\n",
              "      <td>NaN</td>\n",
              "      <td>DC</td>\n",
              "      <td>2015.0</td>\n",
              "      <td>2021.0</td>\n",
              "      <td>TV Show</td>\n",
              "    </tr>\n",
              "    <tr>\n",
              "      <th>1202</th>\n",
              "      <td>Supergirl</td>\n",
              "      <td>(2015–2021)</td>\n",
              "      <td>Action,Adventure,Drama</td>\n",
              "      <td>42.0</td>\n",
              "      <td>TV-PG</td>\n",
              "      <td>BenHernandezBray</td>\n",
              "      <td>MelissaBenoist,MehcadBrooks,ChylerLeigh,KatieM...</td>\n",
              "      <td>Supergirl must deal with the destructive after...</td>\n",
              "      <td>7.5</td>\n",
              "      <td>NaN</td>\n",
              "      <td>1037.0</td>\n",
              "      <td>NaN</td>\n",
              "      <td>DC</td>\n",
              "      <td>2015.0</td>\n",
              "      <td>2021.0</td>\n",
              "      <td>TV Show</td>\n",
              "    </tr>\n",
              "  </tbody>\n",
              "</table>\n",
              "<p>472 rows × 16 columns</p>\n",
              "</div>"
            ],
            "text/plain": [
              "                           Name         Year  ... Year_End     Type\n",
              "0             Avengers: Endgame       (2019)  ...      NaN    Movie\n",
              "1       Guardians of the Galaxy       (2014)  ...      NaN    Movie\n",
              "2     Spider-Man: Far from Home       (2019)  ...      NaN    Movie\n",
              "3                Thor: Ragnarok       (2017)  ...      NaN    Movie\n",
              "4        Avengers: Infinity War       (2018)  ...      NaN    Movie\n",
              "...                         ...          ...  ...      ...      ...\n",
              "1198   DC's Legends of Tomorrow     (2016– )  ...      NaN  TV Show\n",
              "1199                  Supergirl  (2015–2021)  ...   2021.0  TV Show\n",
              "1200                  Supergirl  (2015–2021)  ...   2021.0  TV Show\n",
              "1201                  Supergirl  (2015–2021)  ...   2021.0  TV Show\n",
              "1202                  Supergirl  (2015–2021)  ...   2021.0  TV Show\n",
              "\n",
              "[472 rows x 16 columns]"
            ]
          },
          "metadata": {
            "tags": []
          },
          "execution_count": 20
        }
      ]
    },
    {
      "cell_type": "code",
      "metadata": {
        "id": "RYFIsWnAJaOO",
        "colab": {
          "base_uri": "https://localhost:8080/",
          "height": 206
        },
        "outputId": "d2d58008-285b-4d87-a756-8551ab31b466"
      },
      "source": [
        "# Calculate the mean for the data only including 2005 and beyond by grouping by \"Category\" and \"Type\"\n",
        "hero_2005.groupby([\"Type\", \"Category\"]).mean()\n"
      ],
      "execution_count": 21,
      "outputs": [
        {
          "output_type": "execute_result",
          "data": {
            "text/html": [
              "<div>\n",
              "<style scoped>\n",
              "    .dataframe tbody tr th:only-of-type {\n",
              "        vertical-align: middle;\n",
              "    }\n",
              "\n",
              "    .dataframe tbody tr th {\n",
              "        vertical-align: top;\n",
              "    }\n",
              "\n",
              "    .dataframe thead th {\n",
              "        text-align: right;\n",
              "    }\n",
              "</style>\n",
              "<table border=\"1\" class=\"dataframe\">\n",
              "  <thead>\n",
              "    <tr style=\"text-align: right;\">\n",
              "      <th></th>\n",
              "      <th></th>\n",
              "      <th>RunTime</th>\n",
              "      <th>IMDB_Score</th>\n",
              "      <th>Metascore</th>\n",
              "      <th>Votes</th>\n",
              "      <th>USA_Gross</th>\n",
              "      <th>Year_Start</th>\n",
              "      <th>Year_End</th>\n",
              "    </tr>\n",
              "    <tr>\n",
              "      <th>Type</th>\n",
              "      <th>Category</th>\n",
              "      <th></th>\n",
              "      <th></th>\n",
              "      <th></th>\n",
              "      <th></th>\n",
              "      <th></th>\n",
              "      <th></th>\n",
              "      <th></th>\n",
              "    </tr>\n",
              "  </thead>\n",
              "  <tbody>\n",
              "    <tr>\n",
              "      <th rowspan=\"2\" valign=\"top\">Movie</th>\n",
              "      <th>DC</th>\n",
              "      <td>135.687500</td>\n",
              "      <td>6.806250</td>\n",
              "      <td>58.375000</td>\n",
              "      <td>610405.750000</td>\n",
              "      <td>232.279375</td>\n",
              "      <td>2012.687500</td>\n",
              "      <td>NaN</td>\n",
              "    </tr>\n",
              "    <tr>\n",
              "      <th>Marvel</th>\n",
              "      <td>126.103448</td>\n",
              "      <td>7.210345</td>\n",
              "      <td>65.344828</td>\n",
              "      <td>595566.034483</td>\n",
              "      <td>319.655517</td>\n",
              "      <td>2014.344828</td>\n",
              "      <td>NaN</td>\n",
              "    </tr>\n",
              "    <tr>\n",
              "      <th rowspan=\"2\" valign=\"top\">TV Show</th>\n",
              "      <th>DC</th>\n",
              "      <td>43.731959</td>\n",
              "      <td>8.152921</td>\n",
              "      <td>NaN</td>\n",
              "      <td>2754.027491</td>\n",
              "      <td>NaN</td>\n",
              "      <td>2014.893471</td>\n",
              "      <td>2019.623810</td>\n",
              "    </tr>\n",
              "    <tr>\n",
              "      <th>Marvel</th>\n",
              "      <td>44.919118</td>\n",
              "      <td>8.508824</td>\n",
              "      <td>NaN</td>\n",
              "      <td>4177.713235</td>\n",
              "      <td>NaN</td>\n",
              "      <td>2014.595588</td>\n",
              "      <td>2019.652893</td>\n",
              "    </tr>\n",
              "  </tbody>\n",
              "</table>\n",
              "</div>"
            ],
            "text/plain": [
              "                     RunTime  IMDB_Score  ...   Year_Start     Year_End\n",
              "Type    Category                          ...                          \n",
              "Movie   DC        135.687500    6.806250  ...  2012.687500          NaN\n",
              "        Marvel    126.103448    7.210345  ...  2014.344828          NaN\n",
              "TV Show DC         43.731959    8.152921  ...  2014.893471  2019.623810\n",
              "        Marvel     44.919118    8.508824  ...  2014.595588  2019.652893\n",
              "\n",
              "[4 rows x 7 columns]"
            ]
          },
          "metadata": {
            "tags": []
          },
          "execution_count": 21
        }
      ]
    },
    {
      "cell_type": "markdown",
      "metadata": {
        "id": "uXB8RMhktGIf"
      },
      "source": [
        "When we subset/query our data to only include movies and series after 2015 and films that were rated by more than 1000, our results change slightly.  \n",
        "\n",
        "\n",
        "For both movies and TV series, Marvel seems to score higher on both IMBD and Metacritic, have more votes, and gross more in the US."
      ]
    },
    {
      "cell_type": "markdown",
      "metadata": {
        "id": "ZAGLMnRsJaOP"
      },
      "source": [
        "# Graphing data\n"
      ]
    },
    {
      "cell_type": "markdown",
      "metadata": {
        "id": "DMaNaUuFp1tB"
      },
      "source": [
        "## Why is visualizing data important?\n",
        "\n",
        "In data sciences, one of the most effective ways to get insights on data is to visualize it. Data can be visualized using a variety of plots, which make the data easy to understand and to convey general trends and key elements in the data."
      ]
    },
    {
      "cell_type": "markdown",
      "metadata": {
        "id": "mOHYEcHrp38d"
      },
      "source": [
        "## Seaborn\n",
        "\n",
        "In python, there are a variety of plotting libraries. `matplotlib`, is the core plotting and visualization library that comes pre-packaged with python. It is extremely flexable, but is known for “tries to make easy things easy and hard things possible”.\n",
        "\n",
        "`seaborn`, which is built on top of `matplotlib`, is the library that we will be learning this week. It works well with pandas DataFrames and makes a well-defined set of complex graphs easy to do. \n",
        "\n",
        "### Import Seaborn \n",
        "To import `seaborn` we use the import command. `seaborn` is typically shorten to `sns`. \n",
        "\n",
        "```\n",
        "  import seaborn as sns\n",
        "```\n",
        "\n"
      ]
    },
    {
      "cell_type": "code",
      "metadata": {
        "id": "KpIriC9fqlxO"
      },
      "source": [
        "# Import seaborn as its shortened form, sns\n",
        "import seaborn as sns\n",
        "\n",
        "# Set seaborn to the dark  grid stylle(dark background)\n",
        "sns.set_style(\"darkgrid\") # The default is usually \"lightgrid\""
      ],
      "execution_count": 22,
      "outputs": []
    },
    {
      "cell_type": "markdown",
      "metadata": {
        "id": "Mp0UAAiOqzoO"
      },
      "source": [
        "### Common Seaborn Parameters\n",
        "\n",
        "`seaborn` is built to be compatible with DataFrames. So we need to pass the DataFrame as a parameter as well as the column names that we hope to plot.\n",
        "\n",
        "Below are common `seaborn`  parameters:\n",
        "\n",
        "*   `data` - name of the DataFrame\n",
        "*   `x` - column name corresponding to the x-axis\n",
        "*   `y` - column name corresponding to the y-axis\n",
        "*   `hue` - column name corresponding to the colour of the plot shapes\n",
        "*   `estimator` - function to estimate data (e.g., `np.mean`, `np.std`, `np.max`, `np.min`)\n"
      ]
    },
    {
      "cell_type": "markdown",
      "metadata": {
        "id": "ZmwP_5zrrJGm"
      },
      "source": [
        "## Bar charts: Plotting aggregate data using `sns.barplot()`\n",
        "\n",
        "Bar plots are used for univariate or categorical data. They can be used to visualize the count of values of each category or to visualize some sort of aggregate value (e.g., mean, standard deviation, min, max) of catergorical data.\n",
        "\n",
        "`sns.barplot()` is the name of the function that creates bar plots. We can access the [documentation](https://seaborn.pydata.org/generated/seaborn.barplot.html) on the website. \n",
        "\n",
        "For example:\n",
        "\n",
        "```\n",
        "sns.barplot(\n",
        "    data=hero,\n",
        "    x='x_axis_column_name',\n",
        "    y='y_axis_column_name',\n",
        "    hue='color_column_name',\n",
        "    estimator=np.mean,\n",
        ")\n",
        "```\n",
        "\n"
      ]
    },
    {
      "cell_type": "markdown",
      "metadata": {
        "id": "Y0Wru0EBt1sO"
      },
      "source": [
        "### Barplot of Category, Type and mean IMBD_Score\n",
        "\n",
        "- The x-axis is `\"Type\"` which tells us if it is a series or movie\n",
        "- The y-axis is `\"IMDB_Score\"`\n",
        "- The colour/hue should be `\"Category\"`, which tells if the film is DC or Marvel\n"
      ]
    },
    {
      "cell_type": "code",
      "metadata": {
        "colab": {
          "base_uri": "https://localhost:8080/",
          "height": 297
        },
        "id": "Mqz7n9hctzEO",
        "outputId": "9a95ae81-b7ee-4fd4-9a3d-e0057385e99d"
      },
      "source": [
        "# Plot bar graph of Mean IMBD_score\n",
        "\n",
        "sns.barplot(\n",
        "    data=hero,\n",
        "    x='Type',\n",
        "    y='IMDB_Score',\n",
        "    hue='Category',\n",
        "    estimator=np.mean,\n",
        ")"
      ],
      "execution_count": 23,
      "outputs": [
        {
          "output_type": "execute_result",
          "data": {
            "text/plain": [
              "<matplotlib.axes._subplots.AxesSubplot at 0x7f4b6f63bbd0>"
            ]
          },
          "metadata": {
            "tags": []
          },
          "execution_count": 23
        },
        {
          "output_type": "display_data",
          "data": {
            "image/png": "[encoded data removed]",
            "text/plain": [
              "<Figure size 432x288 with 1 Axes>"
            ]
          },
          "metadata": {
            "tags": []
          }
        }
      ]
    },
    {
      "cell_type": "markdown",
      "metadata": {
        "id": "GJ5fIeVbWmiF"
      },
      "source": [
        "\n",
        "\n",
        "Interpretation: This graph tells us Marvel movies are better than DC movies. DC TV shows are better than Marvel TV shows "
      ]
    },
    {
      "cell_type": "markdown",
      "metadata": {
        "id": "CH22cQNwwoho"
      },
      "source": [
        "### Barplot of Category, Type and mean RunTime\n",
        "\n",
        "- The x-axis is `\"Type\"` which tells us if it is a series or movie\n",
        "- The y-axis is `\"RunTime\"`\n",
        "- The colour/hue should be `\"Category\"`, which tells if the film is DC or Marvel"
      ]
    },
    {
      "cell_type": "code",
      "metadata": {
        "id": "c64Vm07cwIVJ",
        "colab": {
          "base_uri": "https://localhost:8080/",
          "height": 297
        },
        "outputId": "58e9cb32-cdfb-426a-af9b-2863e200ba91"
      },
      "source": [
        "# Plot bar graph of mean RunTime\n",
        "\n",
        "sns.barplot(\n",
        "    data=hero,\n",
        "    x='Type',\n",
        "    y='RunTime',\n",
        "    hue='Category',\n",
        "    estimator=np.mean,\n",
        ")"
      ],
      "execution_count": 24,
      "outputs": [
        {
          "output_type": "execute_result",
          "data": {
            "text/plain": [
              "<matplotlib.axes._subplots.AxesSubplot at 0x7f4b6ed0df50>"
            ]
          },
          "metadata": {
            "tags": []
          },
          "execution_count": 24
        },
        {
          "output_type": "display_data",
          "data": {
            "image/png": "[encoded data removed]",
            "text/plain": [
              "<Figure size 432x288 with 1 Axes>"
            ]
          },
          "metadata": {
            "tags": []
          }
        }
      ]
    },
    {
      "cell_type": "markdown",
      "metadata": {
        "id": "hZtH7A5BWxOy"
      },
      "source": [
        "\n",
        "Interpretation: The first finding is that movies have a longer run time than TV shows. For Movies, Marvel and DC movies have the same run time. For TV shows, Marvel TV shows are longer than DC tv shows. "
      ]
    },
    {
      "cell_type": "markdown",
      "metadata": {
        "id": "Y9qa1A_0w-Nc"
      },
      "source": [
        "### Barplot of Cateogry, Type and mean Metascore\n",
        "\n",
        "- The x-axis is `\"Type\"` which tells us if it is a series or movie\n",
        "- The y-axis is `\"Metascore\"`\n",
        "- The colour/hue should be `\"Category\"`, which tells if the film is DC or Marvel"
      ]
    },
    {
      "cell_type": "code",
      "metadata": {
        "id": "bxeQvcYNxOES",
        "colab": {
          "base_uri": "https://localhost:8080/",
          "height": 297
        },
        "outputId": "c4840e1a-3b1a-4564-9620-be1f8ba6fcd3"
      },
      "source": [
        "# Plot bar graph of mean Metascore\n",
        "\n",
        "sns.barplot(\n",
        "    data=hero,\n",
        "    x='Type',\n",
        "    y='Metascore',\n",
        "    hue='Category',\n",
        "    estimator=np.mean,\n",
        ")"
      ],
      "execution_count": 25,
      "outputs": [
        {
          "output_type": "execute_result",
          "data": {
            "text/plain": [
              "<matplotlib.axes._subplots.AxesSubplot at 0x7f4b6e8398d0>"
            ]
          },
          "metadata": {
            "tags": []
          },
          "execution_count": 25
        },
        {
          "output_type": "display_data",
          "data": {
            "image/png": "[encoded data removed]",
            "text/plain": [
              "<Figure size 432x288 with 1 Axes>"
            ]
          },
          "metadata": {
            "tags": []
          }
        }
      ]
    },
    {
      "cell_type": "markdown",
      "metadata": {
        "id": "00bGgHlpWzAa"
      },
      "source": [
        "Interpretation: Marvel is way higher than DC in the movie rankings (Metacritic). The site does not collect TV show ratings."
      ]
    },
    {
      "cell_type": "markdown",
      "metadata": {
        "id": "kpnF1fTbwMyZ"
      },
      "source": [
        "### Barplot of Category and  total Votes\n",
        "\n",
        "- The x-axis is `\"Category\"`, which tells if the film is DC or Marvel\n",
        "- The y-axis is `\"Votes\"`\n",
        "- The colour/hue should be `\"Type\"` which tells us if it is a series or movie\n",
        "- Make sure the esitmator is `np.sum`"
      ]
    },
    {
      "cell_type": "code",
      "metadata": {
        "id": "691XMqetxq_K",
        "colab": {
          "base_uri": "https://localhost:8080/",
          "height": 308
        },
        "outputId": "b0a56af8-74bb-41a8-f415-412398eaa8ad"
      },
      "source": [
        "# Plot bar graph of total Votes\n",
        "sns.barplot(\n",
        "    data=hero,\n",
        "    x='Type',\n",
        "    y='Votes',\n",
        "    hue='Category',\n",
        "    estimator=np.sum,\n",
        ")"
      ],
      "execution_count": 26,
      "outputs": [
        {
          "output_type": "execute_result",
          "data": {
            "text/plain": [
              "<matplotlib.axes._subplots.AxesSubplot at 0x7f4b6e7a75d0>"
            ]
          },
          "metadata": {
            "tags": []
          },
          "execution_count": 26
        },
        {
          "output_type": "display_data",
          "data": {
            "image/png": "[encoded data removed]",
            "text/plain": [
              "<Figure size 432x288 with 1 Axes>"
            ]
          },
          "metadata": {
            "tags": []
          }
        }
      ]
    },
    {
      "cell_type": "markdown",
      "metadata": {
        "id": "s5tSts-ejd2L"
      },
      "source": [
        "Interpretion: Marvel movies get more votes than TV shows(because they are fun). Marvel has more total votes than DC when it comes to movies. DC has a littlemore votes than TV shows when it comes to TV showa. "
      ]
    },
    {
      "cell_type": "markdown",
      "metadata": {
        "id": "xVT-yDyiynKT"
      },
      "source": [
        "### Barplot of Category and  mean USA_Gross\n",
        "\n",
        "- The x-axis is `\"Category\"`, which tells if the film is DC or Marvel\n",
        "- The y-axis is `\"USA_Gross\"`"
      ]
    },
    {
      "cell_type": "code",
      "metadata": {
        "id": "J-_u7bogy05y",
        "colab": {
          "base_uri": "https://localhost:8080/",
          "height": 297
        },
        "outputId": "6ed92eb2-09af-45ad-f884-3c015630e0ec"
      },
      "source": [
        "# Plot bar graph of mean USA_Gross\n",
        "sns.barplot(\n",
        "    data=hero,\n",
        "    x='Category',\n",
        "    y='USA_Gross',\n",
        "    estimator=np.mean,\n",
        ")"
      ],
      "execution_count": 27,
      "outputs": [
        {
          "output_type": "execute_result",
          "data": {
            "text/plain": [
              "<matplotlib.axes._subplots.AxesSubplot at 0x7f4b6e81efd0>"
            ]
          },
          "metadata": {
            "tags": []
          },
          "execution_count": 27
        },
        {
          "output_type": "display_data",
          "data": {
            "image/png": "[encoded data removed]",
            "text/plain": [
              "<Figure size 432x288 with 1 Axes>"
            ]
          },
          "metadata": {
            "tags": []
          }
        }
      ]
    },
    {
      "cell_type": "markdown",
      "metadata": {
        "id": "mu9mjX7JW0NF"
      },
      "source": [
        "Interpretation: Marvel movies make more than DC movies"
      ]
    },
    {
      "cell_type": "markdown",
      "metadata": {
        "id": "Z2WWH0ju2O0g"
      },
      "source": [
        "### Barplot of Genre, Type and  mean RunTime\n",
        "\n",
        "- The x-axis is `\"Genre\"` which tells us if it is a series or movie\n",
        "- The y-axis is `\"RunTime\"`\n",
        "- The colour/hue should be `\"Category\"`, which tells if the film is DC or Marvel"
      ]
    },
    {
      "cell_type": "code",
      "metadata": {
        "id": "N2s8eYNfzJiq",
        "colab": {
          "base_uri": "https://localhost:8080/",
          "height": 298
        },
        "outputId": "5a787562-0e1d-4522-a434-7b4a30e0c039"
      },
      "source": [
        "sns.barplot(\n",
        "    data=hero,\n",
        "    x='Genre',\n",
        "    y='RunTime',\n",
        "    hue='Category',\n",
        "    estimator=np.mean,\n",
        ")"
      ],
      "execution_count": 28,
      "outputs": [
        {
          "output_type": "execute_result",
          "data": {
            "text/plain": [
              "<matplotlib.axes._subplots.AxesSubplot at 0x7f4b6e6b0ad0>"
            ]
          },
          "metadata": {
            "tags": []
          },
          "execution_count": 28
        },
        {
          "output_type": "display_data",
          "data": {
            "image/png": "[encoded data removed]",
            "text/plain": [
              "<Figure size 432x288 with 1 Axes>"
            ]
          },
          "metadata": {
            "tags": []
          }
        }
      ]
    },
    {
      "cell_type": "markdown",
      "metadata": {
        "id": "zFE_zsa1W1K3"
      },
      "source": [
        "Interpretation:"
      ]
    },
    {
      "cell_type": "markdown",
      "metadata": {
        "id": "YlW7Wrf22pCy"
      },
      "source": [
        "### Barplot of Rating and  mean IMBD_Score\n",
        "\n",
        "- The x-axis is `\"Rating\"`, which tells if the film is DC or Marvel\n",
        "- The y-axis is `\"IMDB_Score\"`\n",
        "- The colour/hue should be `\"Category\"` which tells us if it is a series or movie"
      ]
    },
    {
      "cell_type": "code",
      "metadata": {
        "id": "Z3g9nv_T26G3",
        "colab": {
          "base_uri": "https://localhost:8080/",
          "height": 297
        },
        "outputId": "d6b1bf0a-3ab8-4891-b22e-5739a9d91499"
      },
      "source": [
        "sns.barplot(\n",
        "    data=hero,\n",
        "    x='Rating',\n",
        "    y='IMDB_Score',\n",
        "    hue='Category',\n",
        "    estimator=np.mean,\n",
        ")"
      ],
      "execution_count": 29,
      "outputs": [
        {
          "output_type": "execute_result",
          "data": {
            "text/plain": [
              "<matplotlib.axes._subplots.AxesSubplot at 0x7f4b6e4dc290>"
            ]
          },
          "metadata": {
            "tags": []
          },
          "execution_count": 29
        },
        {
          "output_type": "display_data",
          "data": {
            "image/png": "[encoded data removed]",
            "text/plain": [
              "<Figure size 432x288 with 1 Axes>"
            ]
          },
          "metadata": {
            "tags": []
          }
        }
      ]
    },
    {
      "cell_type": "markdown",
      "metadata": {
        "id": "Qoiy0q5gW2Cj"
      },
      "source": [
        "Interpretation: It shows us the different IMDB Scores for different age Ratings it compares Marvel and DC. for PG-13, Marvel Scores higher then DC, but for R, Rated movies DC Scores higher, for example, JOKER is an R Rated movie from DC in general Marvel movies tend to be more family friendly. "
      ]
    },
    {
      "cell_type": "markdown",
      "metadata": {
        "id": "HwMV2OHg3IBS"
      },
      "source": [
        "## Scatter plots: Comparing two continuous variables using `sns.scatterplot()`\n",
        "\n",
        "Scatter plots are used for **bivariate data (continous, continuous)**. There are ideal for understanding the relationship between two continuous variables, and help to visualize the degree of correlation between two variables. \n",
        "\n",
        "`sns.scatterplot()` is the name of the function that creates scatter plots. More documentation about it can be found at [here](https://seaborn.pydata.org/generated/seaborn.scatterplot.html). \n",
        "\n",
        "For example:\n",
        "\n",
        "```\n",
        "sns.scatterplot(\n",
        "    data=hero,\n",
        "    x='x_axis_column_name',\n",
        "    y='y_axis_column_name',\n",
        "    hue='color_column_name',\n",
        "    size='size_column_name',\n",
        ")\n",
        "```"
      ]
    },
    {
      "cell_type": "markdown",
      "metadata": {
        "id": "WheRnx3q3_mu"
      },
      "source": [
        "### Relationship between Year_Start and IMDB_Score\n",
        "\n",
        "- The x-axis is `\"Year_Start\"`, which tells if the film is DC or Marvel\n",
        "- The y-axis is `\"IMDB_Score\"`\n",
        "- The colour/hue should be `\"Category\"` which tells us if it is a series or movie"
      ]
    },
    {
      "cell_type": "code",
      "metadata": {
        "id": "c0Bc2baC4Fku",
        "colab": {
          "base_uri": "https://localhost:8080/",
          "height": 298
        },
        "outputId": "ced0a650-d491-46a1-9f8a-40d3f21c4536"
      },
      "source": [
        "sns.scatterplot(\n",
        "    data=hero,\n",
        "    x='Year_Start',\n",
        "    y='IMDB_Score',\n",
        "    hue='Category'\n",
        ")\n"
      ],
      "execution_count": 30,
      "outputs": [
        {
          "output_type": "execute_result",
          "data": {
            "text/plain": [
              "<matplotlib.axes._subplots.AxesSubplot at 0x7f4b6e41c690>"
            ]
          },
          "metadata": {
            "tags": []
          },
          "execution_count": 30
        },
        {
          "output_type": "display_data",
          "data": {
            "image/png": "[encoded data removed]",
            "text/plain": [
              "<Figure size 432x288 with 1 Axes>"
            ]
          },
          "metadata": {
            "tags": []
          }
        }
      ]
    },
    {
      "cell_type": "markdown",
      "metadata": {
        "id": "J9QPKrwfW6JE"
      },
      "source": [
        "Interpretation: they're everywhere (DC films are way older than Marvel films) in the early 2000's, marvel released tonnes of low rated films. in 2010 & beyond, we get more high rated films! "
      ]
    },
    {
      "cell_type": "markdown",
      "metadata": {
        "id": "gPMQggZXRO4U"
      },
      "source": [
        "### Relationship between IMBD and Metacritic Score\n",
        "\n",
        "- The x-axis is `\"IMBD_Score\"`, which tells if the film is DC or Marvel\n",
        "- The y-axis is `\"Metascore\"`\n",
        "- The colour/hue should be `\"Category\"` which tells us if it is a series or movie"
      ]
    },
    {
      "cell_type": "code",
      "metadata": {
        "id": "9hmPF4PS4Sg9",
        "colab": {
          "base_uri": "https://localhost:8080/",
          "height": 299
        },
        "outputId": "0e2ccf03-1045-4527-ec1e-863e82ed3a80"
      },
      "source": [
        "sns.scatterplot(\n",
        "    data=hero,\n",
        "    x='IMDB_Score',\n",
        "    y='Metascore',\n",
        "    hue='Category',\n",
        ")"
      ],
      "execution_count": 31,
      "outputs": [
        {
          "output_type": "execute_result",
          "data": {
            "text/plain": [
              "<matplotlib.axes._subplots.AxesSubplot at 0x7f4b6e304f90>"
            ]
          },
          "metadata": {
            "tags": []
          },
          "execution_count": 31
        },
        {
          "output_type": "display_data",
          "data": {
            "image/png": "[encoded data removed]",
            "text/plain": [
              "<Figure size 432x288 with 1 Axes>"
            ]
          },
          "metadata": {
            "tags": []
          }
        }
      ]
    },
    {
      "cell_type": "markdown",
      "metadata": {
        "id": "uusqpqsnXA-z"
      },
      "source": [
        "\n",
        "Interpretation:IMDB & metacritic scores are positively correlated. If a film is high on Metacrtitic, you score high on IMDB & vice versa!"
      ]
    },
    {
      "cell_type": "markdown",
      "metadata": {
        "id": "aDzAPLSqSBfQ"
      },
      "source": [
        "### Relationship between IMBD Score and USA_Gross\n",
        "\n",
        "- The x-axis is `\"IMDB_Score\"`, which tells if the film is DC or Marvel\n",
        "- The y-axis is `\"USA_Gross\"`\n",
        "- The colour/hue should be `\"Category\"` which tells us if it is a series or movie\n",
        "- The size should be the `\"RunTime\"` "
      ]
    },
    {
      "cell_type": "code",
      "metadata": {
        "id": "_T3GZINESatk",
        "colab": {
          "base_uri": "https://localhost:8080/",
          "height": 298
        },
        "outputId": "df2a7eb4-2160-46ce-dc1e-ccfbae116c27"
      },
      "source": [
        "sns.scatterplot(\n",
        "    data=hero,\n",
        "    x='IMDB_Score',\n",
        "    y='USA_Gross',\n",
        "    hue='Category',\n",
        "     size='RunTime'\n",
        ")"
      ],
      "execution_count": 32,
      "outputs": [
        {
          "output_type": "execute_result",
          "data": {
            "text/plain": [
              "<matplotlib.axes._subplots.AxesSubplot at 0x7f4b6e378090>"
            ]
          },
          "metadata": {
            "tags": []
          },
          "execution_count": 32
        },
        {
          "output_type": "display_data",
          "data": {
            "image/png": "[encoded data removed]",
            "text/plain": [
              "<Figure size 432x288 with 1 Axes>"
            ]
          },
          "metadata": {
            "tags": []
          }
        }
      ]
    },
    {
      "cell_type": "markdown",
      "metadata": {
        "id": "GJIrX52-XCW7"
      },
      "source": [
        "Interpretation:Higher ratings are correlated to bigger profit. They also have a longer run time."
      ]
    },
    {
      "cell_type": "markdown",
      "metadata": {
        "id": "kjDP_IKcTCeg"
      },
      "source": [
        "## Distribution Plots\n",
        "\n",
        "Sometimes we want to see how are data are distributed or spread out. This is where distribution plots come in handy for **univariate, continuous** data.\n",
        "\n",
        "There are several ways we can visualize the distribution of data, but here are four popular plots: \n",
        "\n",
        "1. **box plots**: used to determine the variation in your continuous data\n",
        "2. **histograms**: used to visualize the frequency of our continuous variable within each predefined bins\n",
        "3.  **density plots**: a version of histogram smoothened by Kernel density estimation.\n",
        "4. **violin plots**: combined version of a box plot and density plot\n"
      ]
    },
    {
      "cell_type": "markdown",
      "metadata": {
        "id": "NNr2ezzBTfjX"
      },
      "source": [
        "### Box Plots (`sns.boxplot`)\n",
        "\n",
        "Box plots are used to determine the variation in continuous data. In particular, they are often used to determine outliers.\n",
        "\n",
        "A box plot is comprised of **(1) the box** and **(2) the whiskers**.\n",
        "\n",
        "The **box part** of the plot is made up of three parts:\n",
        "\n",
        "1. **Quartile 1 (Q1):** 25th percentile\n",
        "2. **Quartile 2 (Q2)/Median:** The median or 50th percentile\n",
        "3. **Quartile 3 (Q3):** 75th percentile\n",
        "\n",
        "The **Interquantile Range (IQR)** is the difference between Q3 and Q1. It gives us a sense of the spread of the data.\n",
        "\n",
        "\n",
        "The **whisker part** of the plot represents what is consider the borders (min and max) for outliers.\n",
        "\n",
        "1. **min:** any values greater than this range are considered outliers\n",
        "  - min = Q3 + 1.5*IQR\n",
        "2. **max:** any values less than this range are considered outliers\n",
        "  - max = Q1 + 1.5*IQR\n",
        "\n",
        "\n",
        "![Box Plot](https://i.imgur.com/RcdP4kr.png)\n",
        "\n",
        "\n",
        "`sns.boxplot` is the name of the function that creates these types of plots. More documentation about it can be found [here](https://seaborn.pydata.org/generated/seaborn.boxplot.html)\n",
        "\n",
        "Example syntax:\n",
        "\n",
        "```\n",
        "sns.boxplot(\n",
        "    data=hero,\n",
        "    x='x_axis_column_name',\n",
        "    y='y_axis_column_name',\n",
        "    hue='color_column_name',\n",
        ")\n",
        "```"
      ]
    },
    {
      "cell_type": "markdown",
      "metadata": {
        "id": "6MID15K-U9Po"
      },
      "source": [
        "#### Distribution of US_Gross\n",
        "\n",
        "- The x-axis is `\"Category\"`, which tells if the film is DC or Marvel\n",
        "- The y-axis is `\"USA_Gross\"`\n",
        "- The colour/hue should be `\"Category\"` which tells us if it is a series or movie`"
      ]
    },
    {
      "cell_type": "code",
      "metadata": {
        "id": "XwSB6IBRUF8_",
        "colab": {
          "base_uri": "https://localhost:8080/",
          "height": 297
        },
        "outputId": "25181401-5b26-4041-cc2f-4ca716e6dcd8"
      },
      "source": [
        "sns.boxplot(\n",
        "    data=hero,\n",
        "    x='Type',\n",
        "    y='USA_Gross',\n",
        "    hue=\"Category\",\n",
        ")"
      ],
      "execution_count": 33,
      "outputs": [
        {
          "output_type": "execute_result",
          "data": {
            "text/plain": [
              "<matplotlib.axes._subplots.AxesSubplot at 0x7f4b6e21da10>"
            ]
          },
          "metadata": {
            "tags": []
          },
          "execution_count": 33
        },
        {
          "output_type": "display_data",
          "data": {
            "image/png": "[encoded data removed]",
            "text/plain": [
              "<Figure size 432x288 with 1 Axes>"
            ]
          },
          "metadata": {
            "tags": []
          }
        }
      ]
    },
    {
      "cell_type": "markdown",
      "metadata": {
        "id": "UvtEESJhXM6-"
      },
      "source": [
        "Interpretation: The median USA gross amount is higher for Marvel than DC. The marvel movies has a greater spread than DC."
      ]
    },
    {
      "cell_type": "markdown",
      "metadata": {
        "id": "3Ij4kWtwTpDP"
      },
      "source": [
        "### Histograms (`sns.histplot`)\n",
        "\n",
        "Histograms are used to visualize the frequency of continuous variables in what are known as **bins**.\n",
        "\n",
        "**Bins** \n",
        "\n",
        "A bin is an interval into which the dataset is divided. For example, if we have a range of values from 1-100, we can create bins of intervals of 20. So, we could have the first bin contain values from 1-20, the second 21-40, third 41-60, and so on until 100. This gives us an idea of how many of the values in a given data set fall within a certain range of values, i.e., the distribution of the data. Bins are usually equal in size, but do not necessarily have to be.\n",
        "\n",
        "![histogram bins](https://i.imgur.com/hDfK8vE.png)\n",
        "\n",
        "\n",
        "**Histogram Distributions**\n",
        "\n",
        "Histograms give us greater insight into how our data are distributed. \n",
        "\n",
        "Here are some common distributions. Note that the peaks are revered to local maxima. \n",
        "\n",
        "![histogram distributions](https://i.imgur.com/ypLJkKJ.png)\n",
        "\n",
        "`sns.histplot` is the name of the function that creates these types of plots. More documentation about it can be found [here](https://seaborn.pydata.org/generated/seaborn.histplot.html)\n",
        "\n",
        "\n",
        "Example syntax:\n",
        "\n",
        "```\n",
        "sns.histplot(\n",
        "    data=hero,\n",
        "    x='x_axis_column_name', \n",
        "    hue='color_column_name',\n",
        ")\n",
        "```\n",
        "\n",
        "There is no `y` parameter, beause the y-axis is by default the count.\n"
      ]
    },
    {
      "cell_type": "markdown",
      "metadata": {
        "id": "QjV-4ks4WEBh"
      },
      "source": [
        "#### Distribution of RunTime\n",
        "\n",
        "- The x-axis is `\"Category\"`, which tells if the film is DC or Marvel\n",
        "- The y-axis is `\"USA_Gross\"`\n",
        "- The colour/hue should be `\"Category\"` which tells us if it is a series or movie`"
      ]
    },
    {
      "cell_type": "code",
      "metadata": {
        "id": "nBB4BchHXUnC",
        "colab": {
          "base_uri": "https://localhost:8080/",
          "height": 297
        },
        "outputId": "51aaf5f0-8ad1-4789-f96d-eb448055206a"
      },
      "source": [
        "sns.histplot(\n",
        "    data=hero,\n",
        "    x='RunTime',\n",
        "    hue=\"Category\",\n",
        ")"
      ],
      "execution_count": 34,
      "outputs": [
        {
          "output_type": "execute_result",
          "data": {
            "text/plain": [
              "<matplotlib.axes._subplots.AxesSubplot at 0x7f4b6e5bdd50>"
            ]
          },
          "metadata": {
            "tags": []
          },
          "execution_count": 34
        },
        {
          "output_type": "display_data",
          "data": {
            "image/png": "[encoded data removed]",
            "text/plain": [
              "<Figure size 432x288 with 1 Axes>"
            ]
          },
          "metadata": {
            "tags": []
          }
        }
      ]
    },
    {
      "cell_type": "markdown",
      "metadata": {
        "id": "5t8F6oIpXPa5"
      },
      "source": [
        "Interpretation: Run Time has a bimodal distribution. The different peak represent different types of content. We have 25 min TV shows and 45 min TV shows - as well as longer movies. "
      ]
    },
    {
      "cell_type": "markdown",
      "metadata": {
        "id": "bWROAR_YT3ou"
      },
      "source": [
        "### Density Plots (`sns.kdeplot`)\n",
        "\n",
        "Density plots are similar to histograms but they use a kernal density estimate (usually gaussain) to smooth the plot.\n",
        "\n",
        "\n",
        "`sns.kdeplot` is the name of the function that creates these types of plots. More documentation about it can be found [here](https://seaborn.pydata.org/generated/seaborn.kdeplot.html)\n",
        "\n",
        "Example syntax:\n",
        "\n",
        "```\n",
        "sns.kdeplot(\n",
        "    data=hero,\n",
        "    x='x_axis_column_name',\n",
        "    hue='color_column_name',\n",
        ")\n",
        "```\n",
        "\n",
        "There is no `y` parameter, beause the y-axis is by default the kernal density estimate.\n",
        "\n"
      ]
    },
    {
      "cell_type": "markdown",
      "metadata": {
        "id": "9bl2Wj98Yqcd"
      },
      "source": [
        "#### Distribution of Votes\n",
        "\n",
        "- The x-axis is `\"Category\"`, which tells if the film is DC or Marvel\n",
        "- The y-axis is `\"Votes\"`\n",
        "- The colour/hue should be `\"Category\"` which tells us if it is a series or movie`"
      ]
    },
    {
      "cell_type": "code",
      "metadata": {
        "id": "mR9JgQ8JT6Uv",
        "colab": {
          "base_uri": "https://localhost:8080/",
          "height": 53
        },
        "outputId": "1adefe75-269c-4362-82a4-9fb82f5f73a4"
      },
      "source": [
        "sns.kdeplot(\n",
        "    data=hero,\n",
        "    x='Votes',\n",
        "    hue='Category',\n",
        ")"
      ],
      "execution_count": 35,
      "outputs": [
        {
          "output_type": "execute_result",
          "data": {
            "text/plain": [
              "<matplotlib.axes._subplots.AxesSubplot at 0x7f4b6e015490>"
            ]
          },
          "metadata": {
            "tags": []
          },
          "execution_count": 35
        },
        {
          "output_type": "display_data",
          "data": {
            "image/png": "[encoded data removed]",
            "text/plain": [
              "<Figure size 432x288 with 1 Axes>"
            ]
          },
          "metadata": {
            "tags": []
          }
        }
      ]
    },
    {
      "cell_type": "markdown",
      "metadata": {
        "id": "VcV8P6QLYiXm"
      },
      "source": [
        "\n",
        "\n",
        "\n",
        "\n",
        "\n",
        "Interpretation: Most of our data points have very few Votes "
      ]
    },
    {
      "cell_type": "markdown",
      "metadata": {
        "id": "kWHp-1KZT7I6"
      },
      "source": [
        "### Violin Plots (`sns.violinplot`)\n",
        "\n",
        "Violin plots are like if box plots and density plots had a baby. There great for showing distributions across different levels of categorical variables (e.g., like place of origin).\n",
        "\n",
        "\n",
        "The middle bar of the box plot gives similar information as the boxplot. Whereas the \"violin\" portion of the box plot encodes information about distribution and skewness. \n",
        "\n",
        "![](https://i.imgur.com/PcGY1TK.png)\n",
        "\n",
        "`sns.violinplot` is the name of the function that creates these types of plots. More documentation about it can be found [here](https://seaborn.pydata.org/generated/seaborn.violinplot.html)\n",
        "\n",
        "Example syntax:\n",
        "\n",
        "```\n",
        "sns.violinplot(\n",
        "    data=hero,\n",
        "    x='x_axis_column_name',\n",
        "    y='y_axis_column_name',\n",
        "    hue='color_column_name',\n",
        ")\n",
        "```"
      ]
    },
    {
      "cell_type": "markdown",
      "metadata": {
        "id": "zoOUK3J6cNzL"
      },
      "source": [
        "Interpretation:"
      ]
    },
    {
      "cell_type": "markdown",
      "metadata": {
        "id": "bu4qSnCtZa2P"
      },
      "source": [
        "#### Distribution of IMDB_Score\n",
        "- The x-axis is `\"Category\"`, which tells if the film is DC or Marvel\n",
        "- The y-axis is `\"IMDB_Score\"`\n",
        "- The colour/hue should be `\"Category\"` which tells us if it is a series or movie`"
      ]
    },
    {
      "cell_type": "code",
      "metadata": {
        "id": "Cd2vlsgkZ14c",
        "colab": {
          "base_uri": "https://localhost:8080/",
          "height": 297
        },
        "outputId": "55f4548b-e6d1-47dc-910d-566f7e121183"
      },
      "source": [
        "sns.violinplot(\n",
        "    data=hero,\n",
        "    x='Type',\n",
        "    y='IMDB_Score',\n",
        "    hue='Category',\n",
        ")"
      ],
      "execution_count": 36,
      "outputs": [
        {
          "output_type": "execute_result",
          "data": {
            "text/plain": [
              "<matplotlib.axes._subplots.AxesSubplot at 0x7f4b6bf6d450>"
            ]
          },
          "metadata": {
            "tags": []
          },
          "execution_count": 36
        },
        {
          "output_type": "display_data",
          "data": {
            "image/png": "[encoded data removed]",
            "text/plain": [
              "<Figure size 432x288 with 1 Axes>"
            ]
          },
          "metadata": {
            "tags": []
          }
        }
      ]
    },
    {
      "cell_type": "markdown",
      "metadata": {
        "id": "W7wIusHuzFS3"
      },
      "source": [
        "Interpretation: \n",
        "\n",
        "For movies, marvel movies has a more narrow distribution when compared to DC movies. When looking at TV Shows, Marvel movies have a biomodal distribution -- there are movies that are highly rated and not so highly rated. DC TV shows have a unimodal modal distribution and are consistently good. "
      ]
    },
    {
      "cell_type": "code",
      "metadata": {
        "id": "TsepeB98y_1F"
      },
      "source": [
        ""
      ],
      "execution_count": 36,
      "outputs": []
    },
    {
      "cell_type": "markdown",
      "metadata": {
        "id": "HgYZ-1Fzhp6Q"
      },
      "source": [
        "# Machine Learning\n",
        "\n",
        "## What is machine learning?\n",
        "\n",
        "Machine learning isn't really a well defined term. There are, however, two defintions that are well accepted\n",
        "\n",
        "\n",
        "### Arthur Samuel (1959)\n",
        "    Field of study that gives computers the ability to learn without being explicitly programmed\n",
        "\n",
        "### Tom Michel (1999)\n",
        "    A computer program is said to learn from experience E with respect to some class of tasks T and performance measure P, if its performance at tasks in T, as measured by P, improves with experience E\n",
        "\n",
        "Watch this quick [video](https://www.youtube.com/watch?v=f_uwKZIAeM0) about machine learning.\n",
        "\n",
        "## Types of Machine Learning\n",
        "There are two major branches or machine learning that you different types of learning alorithms.\n",
        "\n",
        "### 1. Supervised learning\n",
        "We teach a computer how to do something, then let is use its new found knowledge to do it.\n",
        "\n",
        "- supervised learning requires **labelled** data\n",
        "- e.g., regression, classification\n",
        "\n",
        "### 2. Unsupervised learning\n",
        "We let the computer learn how to learn to do somethings, and use its knowledge to getermine structure and patterns in the data.\n",
        "\n",
        "- unsupervised learning requested **unlabelled** data\n",
        "- e.g., clustering\n"
      ]
    },
    {
      "cell_type": "markdown",
      "metadata": {
        "id": "Ke21wr6T8qJk"
      },
      "source": [
        "Regression"
      ]
    },
    {
      "cell_type": "markdown",
      "metadata": {
        "id": "y6rFFeRtaNes"
      },
      "source": [
        "## Importing Machine Learning Libraries\n",
        "\n",
        "There are some specialized libraries in python that we can use for machine learning.\n",
        "\n",
        "### sklearn\n",
        "\n",
        "[sklearn](https://scikit-learn.org/stable/) is a module of simple and efficient tools for machine learning problems like classification, regression and clustering. \n",
        "\n",
        "To import sklearn we use an import statement\n",
        "\n",
        "```\n",
        "    import sklearn\n",
        "```\n",
        "\n",
        "In particular, we want the `train_test_split` function, so we will import it this way\n",
        "\n",
        "```\n",
        "    from sklearn.model_selection import train_test_split\n",
        "```\n",
        "\n",
        "### statsmodels \n",
        "\n",
        "[statsmodels](https://www.statsmodels.org/stable/index.html) is a python module that provides class functions for many statistical models. Specifically, we are going to buse the [statsmodels.formula.api](https://www.statsmodels.org/stable/api.html?highlight=formula%20api#statsmodels-formula-api). This to long to type out, so we usually import and use the short for `smf`\n",
        "\n",
        "To import statsmodels.formula.api we use and import statement\n",
        "\n",
        "```\n",
        "    import statsmodels.formula.api as smf \n",
        "```\n",
        "\n",
        "\n",
        "\n"
      ]
    },
    {
      "cell_type": "markdown",
      "metadata": {
        "id": "0OUiuQ9_97Wz"
      },
      "source": [
        ""
      ]
    },
    {
      "cell_type": "code",
      "metadata": {
        "id": "4ZBY8vNyaMWx"
      },
      "source": [
        "# Lets import sklearn, along with our other data science packages\n",
        "\n",
        "import numpy as np # For math- and matrix-based functions\n",
        "import pandas as pd # For DataFrame functionality\n",
        "import seaborn as sns # For plotting/ data visualization\n",
        "from sklearn.model_selection import train_test_split # For the train_test_split_function\n",
        "import statsmodels.formula.api as smf # Stats models for "
      ],
      "execution_count": 37,
      "outputs": []
    },
    {
      "cell_type": "markdown",
      "metadata": {
        "id": "WNp08dSy99Ax"
      },
      "source": [
        "# Regression Analysis\n",
        "\n",
        "Regression analysis attempts to explain the relationship between variables. We want to see if we can predict or explain the **dependent variable** using one or more **explanatory variables**. In linear regression, we assume that the dependent variable can be somewhat explained by a combination of expanatory variables.\n",
        "\n",
        "A very simple example is one where the depedent variable is height and the explantatory variable is age. The age of a person does a good job of explaining their height for kids under 16. \n",
        "\n",
        "We can also think of **explanatory variables** as **features** in our linear model, and the **dependent variable** as the **target**.\n",
        "\n",
        "The pipeline is as follows:\n",
        "![image](https://i.imgur.com/tu0nVzO.png)"
      ]
    },
    {
      "cell_type": "markdown",
      "metadata": {
        "id": "8Q9N18K4aVb0"
      },
      "source": [
        "## Lets pick a model: \n",
        "\n",
        "**Dependent/Target Variable** = `\"IMDB_Score\"`\n",
        "\n",
        "**Exploratory Variables/Features** = `[\"USA_Gross\",  \"RunTime\", \"Metascore\"]`"
      ]
    },
    {
      "cell_type": "code",
      "metadata": {
        "id": "PeqwLwhy-sML"
      },
      "source": [
        "# Define Variables\n",
        "target = [\"IMDB_Score\"]\n",
        "features = [\"USA_Gross\",  \"RunTime\", \"Metascore\", \"Category\"]\n",
        "\n",
        "# Drop Data\n",
        "\n",
        "hero_subset = hero[target + features].dropna()"
      ],
      "execution_count": 38,
      "outputs": []
    },
    {
      "cell_type": "code",
      "metadata": {
        "colab": {
          "base_uri": "https://localhost:8080/",
          "height": 424
        },
        "id": "YhJyXzOw-62u",
        "outputId": "d4c8fac5-2805-490e-b35b-202195f6e493"
      },
      "source": [
        "hero_subset"
      ],
      "execution_count": 39,
      "outputs": [
        {
          "output_type": "execute_result",
          "data": {
            "text/html": [
              "<div>\n",
              "<style scoped>\n",
              "    .dataframe tbody tr th:only-of-type {\n",
              "        vertical-align: middle;\n",
              "    }\n",
              "\n",
              "    .dataframe tbody tr th {\n",
              "        vertical-align: top;\n",
              "    }\n",
              "\n",
              "    .dataframe thead th {\n",
              "        text-align: right;\n",
              "    }\n",
              "</style>\n",
              "<table border=\"1\" class=\"dataframe\">\n",
              "  <thead>\n",
              "    <tr style=\"text-align: right;\">\n",
              "      <th></th>\n",
              "      <th>IMDB_Score</th>\n",
              "      <th>USA_Gross</th>\n",
              "      <th>RunTime</th>\n",
              "      <th>Metascore</th>\n",
              "      <th>Category</th>\n",
              "    </tr>\n",
              "  </thead>\n",
              "  <tbody>\n",
              "    <tr>\n",
              "      <th>0</th>\n",
              "      <td>8.4</td>\n",
              "      <td>858.37</td>\n",
              "      <td>181.0</td>\n",
              "      <td>78.0</td>\n",
              "      <td>Marvel</td>\n",
              "    </tr>\n",
              "    <tr>\n",
              "      <th>1</th>\n",
              "      <td>8.0</td>\n",
              "      <td>333.18</td>\n",
              "      <td>121.0</td>\n",
              "      <td>76.0</td>\n",
              "      <td>Marvel</td>\n",
              "    </tr>\n",
              "    <tr>\n",
              "      <th>2</th>\n",
              "      <td>7.5</td>\n",
              "      <td>390.53</td>\n",
              "      <td>129.0</td>\n",
              "      <td>69.0</td>\n",
              "      <td>Marvel</td>\n",
              "    </tr>\n",
              "    <tr>\n",
              "      <th>3</th>\n",
              "      <td>7.9</td>\n",
              "      <td>315.06</td>\n",
              "      <td>130.0</td>\n",
              "      <td>74.0</td>\n",
              "      <td>Marvel</td>\n",
              "    </tr>\n",
              "    <tr>\n",
              "      <th>4</th>\n",
              "      <td>8.4</td>\n",
              "      <td>678.82</td>\n",
              "      <td>149.0</td>\n",
              "      <td>68.0</td>\n",
              "      <td>Marvel</td>\n",
              "    </tr>\n",
              "    <tr>\n",
              "      <th>...</th>\n",
              "      <td>...</td>\n",
              "      <td>...</td>\n",
              "      <td>...</td>\n",
              "      <td>...</td>\n",
              "      <td>...</td>\n",
              "    </tr>\n",
              "    <tr>\n",
              "      <th>264</th>\n",
              "      <td>3.4</td>\n",
              "      <td>40.20</td>\n",
              "      <td>104.0</td>\n",
              "      <td>27.0</td>\n",
              "      <td>DC</td>\n",
              "    </tr>\n",
              "    <tr>\n",
              "      <th>265</th>\n",
              "      <td>5.1</td>\n",
              "      <td>47.81</td>\n",
              "      <td>102.0</td>\n",
              "      <td>41.0</td>\n",
              "      <td>DC</td>\n",
              "    </tr>\n",
              "    <tr>\n",
              "      <th>266</th>\n",
              "      <td>5.7</td>\n",
              "      <td>20.99</td>\n",
              "      <td>91.0</td>\n",
              "      <td>64.0</td>\n",
              "      <td>DC</td>\n",
              "    </tr>\n",
              "    <tr>\n",
              "      <th>267</th>\n",
              "      <td>5.6</td>\n",
              "      <td>72.01</td>\n",
              "      <td>116.0</td>\n",
              "      <td>42.0</td>\n",
              "      <td>DC</td>\n",
              "    </tr>\n",
              "    <tr>\n",
              "      <th>268</th>\n",
              "      <td>6.4</td>\n",
              "      <td>0.53</td>\n",
              "      <td>102.0</td>\n",
              "      <td>53.0</td>\n",
              "      <td>DC</td>\n",
              "    </tr>\n",
              "  </tbody>\n",
              "</table>\n",
              "<p>63 rows × 5 columns</p>\n",
              "</div>"
            ],
            "text/plain": [
              "     IMDB_Score  USA_Gross  RunTime  Metascore Category\n",
              "0           8.4     858.37    181.0       78.0   Marvel\n",
              "1           8.0     333.18    121.0       76.0   Marvel\n",
              "2           7.5     390.53    129.0       69.0   Marvel\n",
              "3           7.9     315.06    130.0       74.0   Marvel\n",
              "4           8.4     678.82    149.0       68.0   Marvel\n",
              "..          ...        ...      ...        ...      ...\n",
              "264         3.4      40.20    104.0       27.0       DC\n",
              "265         5.1      47.81    102.0       41.0       DC\n",
              "266         5.7      20.99     91.0       64.0       DC\n",
              "267         5.6      72.01    116.0       42.0       DC\n",
              "268         6.4       0.53    102.0       53.0       DC\n",
              "\n",
              "[63 rows x 5 columns]"
            ]
          },
          "metadata": {
            "tags": []
          },
          "execution_count": 39
        }
      ]
    },
    {
      "cell_type": "markdown",
      "metadata": {
        "id": "in5cFYVRatA9"
      },
      "source": [
        "### Lets plot the relationship between our target and each of our features using `sns.regplot()`\n",
        "\n",
        "`sns.regplot()` plots the data as well as a linear regression fit. The syntax of this function is the same as all the other seaborn plots, but you can also take a look at the [documentation](https://seaborn.pydata.org/generated/seaborn.regplot.html)"
      ]
    },
    {
      "cell_type": "markdown",
      "metadata": {
        "id": "BP9CgPF6bAK5"
      },
      "source": [
        "### Feature_1 vs. Target "
      ]
    },
    {
      "cell_type": "code",
      "metadata": {
        "id": "owHr58-9RykB",
        "colab": {
          "base_uri": "https://localhost:8080/",
          "height": 53
        },
        "outputId": "e33b5b01-bf13-42eb-b0b8-4b22a5efb6cb"
      },
      "source": [
        "sns.regplot(\n",
        "    data = hero_subset,\n",
        "    x = \"USA_Gross\",\n",
        "    y = \"IMDB_Score\"\n",
        "    \n",
        ")"
      ],
      "execution_count": 40,
      "outputs": [
        {
          "output_type": "execute_result",
          "data": {
            "text/plain": [
              "<matplotlib.axes._subplots.AxesSubplot at 0x7f4b6bf189d0>"
            ]
          },
          "metadata": {
            "tags": []
          },
          "execution_count": 40
        },
        {
          "output_type": "display_data",
          "data": {
            "image/png": "[encoded data removed]",
            "text/plain": [
              "<Figure size 432x288 with 1 Axes>"
            ]
          },
          "metadata": {
            "tags": []
          }
        }
      ]
    },
    {
      "cell_type": "markdown",
      "metadata": {
        "id": "daF6EUYsb2PZ"
      },
      "source": [
        "### Feature_2 vs. Target "
      ]
    },
    {
      "cell_type": "code",
      "metadata": {
        "id": "CtB6id1ab2ii",
        "colab": {
          "base_uri": "https://localhost:8080/",
          "height": 53
        },
        "outputId": "d9bd3027-1eb1-44f5-8593-4b9d42d20456"
      },
      "source": [
        "sns.regplot(\n",
        "    data = hero_subset,\n",
        "    x = \"RunTime\",\n",
        "    y = \"IMDB_Score\"\n",
        ")"
      ],
      "execution_count": 41,
      "outputs": [
        {
          "output_type": "execute_result",
          "data": {
            "text/plain": [
              "<matplotlib.axes._subplots.AxesSubplot at 0x7f4b6bf75fd0>"
            ]
          },
          "metadata": {
            "tags": []
          },
          "execution_count": 41
        },
        {
          "output_type": "display_data",
          "data": {
            "image/png": "[encoded data removed]",
            "text/plain": [
              "<Figure size 432x288 with 1 Axes>"
            ]
          },
          "metadata": {
            "tags": []
          }
        }
      ]
    },
    {
      "cell_type": "markdown",
      "metadata": {
        "id": "-KlqR1tqb-W0"
      },
      "source": [
        "### Feature_3 vs. Target "
      ]
    },
    {
      "cell_type": "code",
      "metadata": {
        "id": "cZ9dQaM0b-i5",
        "colab": {
          "base_uri": "https://localhost:8080/",
          "height": 53
        },
        "outputId": "c3168cf0-bba5-4751-c655-9ab921f13ff3"
      },
      "source": [
        "sns.regplot(\n",
        "    data = hero_subset,\n",
        "    x = \"Metascore\",\n",
        "    y = \"IMDB_Score\"\n",
        ")"
      ],
      "execution_count": 42,
      "outputs": [
        {
          "output_type": "execute_result",
          "data": {
            "text/plain": [
              "<matplotlib.axes._subplots.AxesSubplot at 0x7f4b6bea6e90>"
            ]
          },
          "metadata": {
            "tags": []
          },
          "execution_count": 42
        },
        {
          "output_type": "display_data",
          "data": {
            "image/png": "[encoded data removed]",
            "text/plain": [
              "<Figure size 432x288 with 1 Axes>"
            ]
          },
          "metadata": {
            "tags": []
          }
        }
      ]
    },
    {
      "cell_type": "markdown",
      "metadata": {
        "id": "6NMhL46XcSnc"
      },
      "source": [
        "## Splitting our data using `train_test_split()`\n",
        "\n",
        "Whenever we do machine learning, we always want to reserve data to **train** the model as well as data to **test** the model.  By default, we usually use 75% (.75) of our data for training and 25% (.25) of our data for testing.  Testing our data allow us to see how good of a job our linear regression model does at predicting the target variable. \n",
        "\n",
        "\n",
        "We use `train_test_split()` to shuffle and randomly split our data into the train dataset and the test dataset.\n",
        "\n",
        "Before we can use it, be sure to properly import it\n",
        "\n",
        "```\n",
        "    from sklearn.model_selection import train_test_split\n",
        "```\n",
        "\n",
        "The `train_test_split()` is formatted as follows:\n",
        "\n",
        "```\n",
        "    df_train, df_test = train_test_split(df[target], df[features], test_size=.25, train_size=.75, random_state=1)\n",
        "```\n",
        "\n",
        "- Where:\n",
        "    - `df_train`: the split dataset for training\n",
        "    - `df_test`: the split dataset for testing\n",
        "    - `test_size`: the proportion of the data set to include in the testing set\n",
        "    - `train_size`: the proportion of the data set to include in the training set\n",
        "    - `random_state`: controls the shuffling of the data, using an int allows for reproducible output "
      ]
    },
    {
      "cell_type": "code",
      "metadata": {
        "id": "KV-pvxAcb6RK"
      },
      "source": [
        "# Split the the car data into testing and training sets\n",
        "hero_train, hero_test = train_test_split(hero_subset, test_size=.25, train_size=.75, random_state=1)\n"
      ],
      "execution_count": 43,
      "outputs": []
    },
    {
      "cell_type": "code",
      "metadata": {
        "id": "WPnuYEeFcejW",
        "colab": {
          "base_uri": "https://localhost:8080/",
          "height": 1000
        },
        "outputId": "bbd2c800-bbe4-479c-ef79-bde272822d42"
      },
      "source": [
        "# The train dataset has 47 rows (notice how the indexes are randomly suffled)\n",
        "hero_train"
      ],
      "execution_count": 44,
      "outputs": [
        {
          "output_type": "execute_result",
          "data": {
            "text/html": [
              "<div>\n",
              "<style scoped>\n",
              "    .dataframe tbody tr th:only-of-type {\n",
              "        vertical-align: middle;\n",
              "    }\n",
              "\n",
              "    .dataframe tbody tr th {\n",
              "        vertical-align: top;\n",
              "    }\n",
              "\n",
              "    .dataframe thead th {\n",
              "        text-align: right;\n",
              "    }\n",
              "</style>\n",
              "<table border=\"1\" class=\"dataframe\">\n",
              "  <thead>\n",
              "    <tr style=\"text-align: right;\">\n",
              "      <th></th>\n",
              "      <th>IMDB_Score</th>\n",
              "      <th>USA_Gross</th>\n",
              "      <th>RunTime</th>\n",
              "      <th>Metascore</th>\n",
              "      <th>Category</th>\n",
              "    </tr>\n",
              "  </thead>\n",
              "  <tbody>\n",
              "    <tr>\n",
              "      <th>3</th>\n",
              "      <td>7.9</td>\n",
              "      <td>315.06</td>\n",
              "      <td>130.0</td>\n",
              "      <td>74.0</td>\n",
              "      <td>Marvel</td>\n",
              "    </tr>\n",
              "    <tr>\n",
              "      <th>246</th>\n",
              "      <td>8.2</td>\n",
              "      <td>206.85</td>\n",
              "      <td>140.0</td>\n",
              "      <td>70.0</td>\n",
              "      <td>DC</td>\n",
              "    </tr>\n",
              "    <tr>\n",
              "      <th>242</th>\n",
              "      <td>7.0</td>\n",
              "      <td>291.05</td>\n",
              "      <td>143.0</td>\n",
              "      <td>55.0</td>\n",
              "      <td>DC</td>\n",
              "    </tr>\n",
              "    <tr>\n",
              "      <th>10</th>\n",
              "      <td>7.6</td>\n",
              "      <td>389.81</td>\n",
              "      <td>136.0</td>\n",
              "      <td>67.0</td>\n",
              "      <td>Marvel</td>\n",
              "    </tr>\n",
              "    <tr>\n",
              "      <th>261</th>\n",
              "      <td>5.6</td>\n",
              "      <td>104.30</td>\n",
              "      <td>92.0</td>\n",
              "      <td>39.0</td>\n",
              "      <td>DC</td>\n",
              "    </tr>\n",
              "    <tr>\n",
              "      <th>19</th>\n",
              "      <td>7.1</td>\n",
              "      <td>409.01</td>\n",
              "      <td>130.0</td>\n",
              "      <td>62.0</td>\n",
              "      <td>Marvel</td>\n",
              "    </tr>\n",
              "    <tr>\n",
              "      <th>240</th>\n",
              "      <td>8.4</td>\n",
              "      <td>448.14</td>\n",
              "      <td>164.0</td>\n",
              "      <td>78.0</td>\n",
              "      <td>DC</td>\n",
              "    </tr>\n",
              "    <tr>\n",
              "      <th>265</th>\n",
              "      <td>5.1</td>\n",
              "      <td>47.81</td>\n",
              "      <td>102.0</td>\n",
              "      <td>41.0</td>\n",
              "      <td>DC</td>\n",
              "    </tr>\n",
              "    <tr>\n",
              "      <th>17</th>\n",
              "      <td>7.3</td>\n",
              "      <td>180.20</td>\n",
              "      <td>117.0</td>\n",
              "      <td>64.0</td>\n",
              "      <td>Marvel</td>\n",
              "    </tr>\n",
              "    <tr>\n",
              "      <th>260</th>\n",
              "      <td>7.7</td>\n",
              "      <td>3.15</td>\n",
              "      <td>92.0</td>\n",
              "      <td>70.0</td>\n",
              "      <td>DC</td>\n",
              "    </tr>\n",
              "    <tr>\n",
              "      <th>258</th>\n",
              "      <td>8.0</td>\n",
              "      <td>23.16</td>\n",
              "      <td>86.0</td>\n",
              "      <td>85.0</td>\n",
              "      <td>DC</td>\n",
              "    </tr>\n",
              "    <tr>\n",
              "      <th>253</th>\n",
              "      <td>7.3</td>\n",
              "      <td>134.22</td>\n",
              "      <td>143.0</td>\n",
              "      <td>80.0</td>\n",
              "      <td>DC</td>\n",
              "    </tr>\n",
              "    <tr>\n",
              "      <th>239</th>\n",
              "      <td>5.9</td>\n",
              "      <td>325.10</td>\n",
              "      <td>123.0</td>\n",
              "      <td>40.0</td>\n",
              "      <td>DC</td>\n",
              "    </tr>\n",
              "    <tr>\n",
              "      <th>256</th>\n",
              "      <td>6.2</td>\n",
              "      <td>176.59</td>\n",
              "      <td>140.0</td>\n",
              "      <td>61.0</td>\n",
              "      <td>DC</td>\n",
              "    </tr>\n",
              "    <tr>\n",
              "      <th>237</th>\n",
              "      <td>9.0</td>\n",
              "      <td>534.86</td>\n",
              "      <td>152.0</td>\n",
              "      <td>84.0</td>\n",
              "      <td>DC</td>\n",
              "    </tr>\n",
              "    <tr>\n",
              "      <th>264</th>\n",
              "      <td>3.4</td>\n",
              "      <td>40.20</td>\n",
              "      <td>104.0</td>\n",
              "      <td>27.0</td>\n",
              "      <td>DC</td>\n",
              "    </tr>\n",
              "    <tr>\n",
              "      <th>13</th>\n",
              "      <td>7.8</td>\n",
              "      <td>408.08</td>\n",
              "      <td>147.0</td>\n",
              "      <td>75.0</td>\n",
              "      <td>Marvel</td>\n",
              "    </tr>\n",
              "    <tr>\n",
              "      <th>22</th>\n",
              "      <td>6.2</td>\n",
              "      <td>336.53</td>\n",
              "      <td>139.0</td>\n",
              "      <td>59.0</td>\n",
              "      <td>Marvel</td>\n",
              "    </tr>\n",
              "    <tr>\n",
              "      <th>238</th>\n",
              "      <td>7.6</td>\n",
              "      <td>107.51</td>\n",
              "      <td>162.0</td>\n",
              "      <td>56.0</td>\n",
              "      <td>DC</td>\n",
              "    </tr>\n",
              "    <tr>\n",
              "      <th>236</th>\n",
              "      <td>8.4</td>\n",
              "      <td>335.45</td>\n",
              "      <td>122.0</td>\n",
              "      <td>59.0</td>\n",
              "      <td>DC</td>\n",
              "    </tr>\n",
              "    <tr>\n",
              "      <th>255</th>\n",
              "      <td>7.0</td>\n",
              "      <td>162.83</td>\n",
              "      <td>126.0</td>\n",
              "      <td>68.0</td>\n",
              "      <td>DC</td>\n",
              "    </tr>\n",
              "    <tr>\n",
              "      <th>23</th>\n",
              "      <td>7.0</td>\n",
              "      <td>216.65</td>\n",
              "      <td>118.0</td>\n",
              "      <td>70.0</td>\n",
              "      <td>Marvel</td>\n",
              "    </tr>\n",
              "    <tr>\n",
              "      <th>4</th>\n",
              "      <td>8.4</td>\n",
              "      <td>678.82</td>\n",
              "      <td>149.0</td>\n",
              "      <td>68.0</td>\n",
              "      <td>Marvel</td>\n",
              "    </tr>\n",
              "    <tr>\n",
              "      <th>14</th>\n",
              "      <td>8.0</td>\n",
              "      <td>623.28</td>\n",
              "      <td>143.0</td>\n",
              "      <td>69.0</td>\n",
              "      <td>Marvel</td>\n",
              "    </tr>\n",
              "    <tr>\n",
              "      <th>235</th>\n",
              "      <td>5.4</td>\n",
              "      <td>46.37</td>\n",
              "      <td>151.0</td>\n",
              "      <td>60.0</td>\n",
              "      <td>DC</td>\n",
              "    </tr>\n",
              "    <tr>\n",
              "      <th>28</th>\n",
              "      <td>5.9</td>\n",
              "      <td>7.95</td>\n",
              "      <td>103.0</td>\n",
              "      <td>30.0</td>\n",
              "      <td>Marvel</td>\n",
              "    </tr>\n",
              "    <tr>\n",
              "      <th>263</th>\n",
              "      <td>6.8</td>\n",
              "      <td>108.19</td>\n",
              "      <td>127.0</td>\n",
              "      <td>83.0</td>\n",
              "      <td>DC</td>\n",
              "    </tr>\n",
              "    <tr>\n",
              "      <th>252</th>\n",
              "      <td>5.4</td>\n",
              "      <td>184.03</td>\n",
              "      <td>121.0</td>\n",
              "      <td>51.0</td>\n",
              "      <td>DC</td>\n",
              "    </tr>\n",
              "    <tr>\n",
              "      <th>18</th>\n",
              "      <td>7.7</td>\n",
              "      <td>259.77</td>\n",
              "      <td>136.0</td>\n",
              "      <td>70.0</td>\n",
              "      <td>Marvel</td>\n",
              "    </tr>\n",
              "    <tr>\n",
              "      <th>268</th>\n",
              "      <td>6.4</td>\n",
              "      <td>0.53</td>\n",
              "      <td>102.0</td>\n",
              "      <td>53.0</td>\n",
              "      <td>DC</td>\n",
              "    </tr>\n",
              "    <tr>\n",
              "      <th>20</th>\n",
              "      <td>6.9</td>\n",
              "      <td>206.36</td>\n",
              "      <td>112.0</td>\n",
              "      <td>54.0</td>\n",
              "      <td>Marvel</td>\n",
              "    </tr>\n",
              "    <tr>\n",
              "      <th>25</th>\n",
              "      <td>6.8</td>\n",
              "      <td>30.32</td>\n",
              "      <td>125.0</td>\n",
              "      <td>67.0</td>\n",
              "      <td>Marvel</td>\n",
              "    </tr>\n",
              "    <tr>\n",
              "      <th>6</th>\n",
              "      <td>6.9</td>\n",
              "      <td>426.83</td>\n",
              "      <td>123.0</td>\n",
              "      <td>64.0</td>\n",
              "      <td>Marvel</td>\n",
              "    </tr>\n",
              "    <tr>\n",
              "      <th>251</th>\n",
              "      <td>7.0</td>\n",
              "      <td>75.98</td>\n",
              "      <td>121.0</td>\n",
              "      <td>50.0</td>\n",
              "      <td>DC</td>\n",
              "    </tr>\n",
              "    <tr>\n",
              "      <th>7</th>\n",
              "      <td>7.4</td>\n",
              "      <td>334.20</td>\n",
              "      <td>133.0</td>\n",
              "      <td>73.0</td>\n",
              "      <td>Marvel</td>\n",
              "    </tr>\n",
              "    <tr>\n",
              "      <th>266</th>\n",
              "      <td>5.7</td>\n",
              "      <td>20.99</td>\n",
              "      <td>91.0</td>\n",
              "      <td>64.0</td>\n",
              "      <td>DC</td>\n",
              "    </tr>\n",
              "    <tr>\n",
              "      <th>1</th>\n",
              "      <td>8.0</td>\n",
              "      <td>333.18</td>\n",
              "      <td>121.0</td>\n",
              "      <td>76.0</td>\n",
              "      <td>Marvel</td>\n",
              "    </tr>\n",
              "    <tr>\n",
              "      <th>16</th>\n",
              "      <td>7.5</td>\n",
              "      <td>232.64</td>\n",
              "      <td>115.0</td>\n",
              "      <td>72.0</td>\n",
              "      <td>Marvel</td>\n",
              "    </tr>\n",
              "    <tr>\n",
              "      <th>0</th>\n",
              "      <td>8.4</td>\n",
              "      <td>858.37</td>\n",
              "      <td>181.0</td>\n",
              "      <td>78.0</td>\n",
              "      <td>Marvel</td>\n",
              "    </tr>\n",
              "    <tr>\n",
              "      <th>15</th>\n",
              "      <td>6.1</td>\n",
              "      <td>17.30</td>\n",
              "      <td>90.0</td>\n",
              "      <td>44.0</td>\n",
              "      <td>Marvel</td>\n",
              "    </tr>\n",
              "    <tr>\n",
              "      <th>5</th>\n",
              "      <td>7.3</td>\n",
              "      <td>700.06</td>\n",
              "      <td>134.0</td>\n",
              "      <td>88.0</td>\n",
              "      <td>Marvel</td>\n",
              "    </tr>\n",
              "    <tr>\n",
              "      <th>11</th>\n",
              "      <td>7.0</td>\n",
              "      <td>181.03</td>\n",
              "      <td>115.0</td>\n",
              "      <td>57.0</td>\n",
              "      <td>Marvel</td>\n",
              "    </tr>\n",
              "    <tr>\n",
              "      <th>9</th>\n",
              "      <td>6.9</td>\n",
              "      <td>176.65</td>\n",
              "      <td>124.0</td>\n",
              "      <td>66.0</td>\n",
              "      <td>Marvel</td>\n",
              "    </tr>\n",
              "    <tr>\n",
              "      <th>8</th>\n",
              "      <td>7.3</td>\n",
              "      <td>459.01</td>\n",
              "      <td>141.0</td>\n",
              "      <td>66.0</td>\n",
              "      <td>Marvel</td>\n",
              "    </tr>\n",
              "    <tr>\n",
              "      <th>12</th>\n",
              "      <td>7.9</td>\n",
              "      <td>318.41</td>\n",
              "      <td>126.0</td>\n",
              "      <td>79.0</td>\n",
              "      <td>Marvel</td>\n",
              "    </tr>\n",
              "    <tr>\n",
              "      <th>249</th>\n",
              "      <td>7.2</td>\n",
              "      <td>256.39</td>\n",
              "      <td>101.0</td>\n",
              "      <td>65.0</td>\n",
              "      <td>DC</td>\n",
              "    </tr>\n",
              "    <tr>\n",
              "      <th>243</th>\n",
              "      <td>7.0</td>\n",
              "      <td>140.37</td>\n",
              "      <td>132.0</td>\n",
              "      <td>71.0</td>\n",
              "      <td>DC</td>\n",
              "    </tr>\n",
              "  </tbody>\n",
              "</table>\n",
              "</div>"
            ],
            "text/plain": [
              "     IMDB_Score  USA_Gross  RunTime  Metascore Category\n",
              "3           7.9     315.06    130.0       74.0   Marvel\n",
              "246         8.2     206.85    140.0       70.0       DC\n",
              "242         7.0     291.05    143.0       55.0       DC\n",
              "10          7.6     389.81    136.0       67.0   Marvel\n",
              "261         5.6     104.30     92.0       39.0       DC\n",
              "19          7.1     409.01    130.0       62.0   Marvel\n",
              "240         8.4     448.14    164.0       78.0       DC\n",
              "265         5.1      47.81    102.0       41.0       DC\n",
              "17          7.3     180.20    117.0       64.0   Marvel\n",
              "260         7.7       3.15     92.0       70.0       DC\n",
              "258         8.0      23.16     86.0       85.0       DC\n",
              "253         7.3     134.22    143.0       80.0       DC\n",
              "239         5.9     325.10    123.0       40.0       DC\n",
              "256         6.2     176.59    140.0       61.0       DC\n",
              "237         9.0     534.86    152.0       84.0       DC\n",
              "264         3.4      40.20    104.0       27.0       DC\n",
              "13          7.8     408.08    147.0       75.0   Marvel\n",
              "22          6.2     336.53    139.0       59.0   Marvel\n",
              "238         7.6     107.51    162.0       56.0       DC\n",
              "236         8.4     335.45    122.0       59.0       DC\n",
              "255         7.0     162.83    126.0       68.0       DC\n",
              "23          7.0     216.65    118.0       70.0   Marvel\n",
              "4           8.4     678.82    149.0       68.0   Marvel\n",
              "14          8.0     623.28    143.0       69.0   Marvel\n",
              "235         5.4      46.37    151.0       60.0       DC\n",
              "28          5.9       7.95    103.0       30.0   Marvel\n",
              "263         6.8     108.19    127.0       83.0       DC\n",
              "252         5.4     184.03    121.0       51.0       DC\n",
              "18          7.7     259.77    136.0       70.0   Marvel\n",
              "268         6.4       0.53    102.0       53.0       DC\n",
              "20          6.9     206.36    112.0       54.0   Marvel\n",
              "25          6.8      30.32    125.0       67.0   Marvel\n",
              "6           6.9     426.83    123.0       64.0   Marvel\n",
              "251         7.0      75.98    121.0       50.0       DC\n",
              "7           7.4     334.20    133.0       73.0   Marvel\n",
              "266         5.7      20.99     91.0       64.0       DC\n",
              "1           8.0     333.18    121.0       76.0   Marvel\n",
              "16          7.5     232.64    115.0       72.0   Marvel\n",
              "0           8.4     858.37    181.0       78.0   Marvel\n",
              "15          6.1      17.30     90.0       44.0   Marvel\n",
              "5           7.3     700.06    134.0       88.0   Marvel\n",
              "11          7.0     181.03    115.0       57.0   Marvel\n",
              "9           6.9     176.65    124.0       66.0   Marvel\n",
              "8           7.3     459.01    141.0       66.0   Marvel\n",
              "12          7.9     318.41    126.0       79.0   Marvel\n",
              "249         7.2     256.39    101.0       65.0       DC\n",
              "243         7.0     140.37    132.0       71.0       DC"
            ]
          },
          "metadata": {
            "tags": []
          },
          "execution_count": 44
        }
      ]
    },
    {
      "cell_type": "code",
      "metadata": {
        "id": "GzCvJgqBcp8r",
        "colab": {
          "base_uri": "https://localhost:8080/",
          "height": 551
        },
        "outputId": "3015a4a5-2a4c-4ebd-f61c-311ab12df17a"
      },
      "source": [
        "# The test dataset has 16 rows (notice how the indexes are randomly suffled)\n",
        "hero_test"
      ],
      "execution_count": 45,
      "outputs": [
        {
          "output_type": "execute_result",
          "data": {
            "text/html": [
              "<div>\n",
              "<style scoped>\n",
              "    .dataframe tbody tr th:only-of-type {\n",
              "        vertical-align: middle;\n",
              "    }\n",
              "\n",
              "    .dataframe tbody tr th {\n",
              "        vertical-align: top;\n",
              "    }\n",
              "\n",
              "    .dataframe thead th {\n",
              "        text-align: right;\n",
              "    }\n",
              "</style>\n",
              "<table border=\"1\" class=\"dataframe\">\n",
              "  <thead>\n",
              "    <tr style=\"text-align: right;\">\n",
              "      <th></th>\n",
              "      <th>IMDB_Score</th>\n",
              "      <th>USA_Gross</th>\n",
              "      <th>RunTime</th>\n",
              "      <th>Metascore</th>\n",
              "      <th>Category</th>\n",
              "    </tr>\n",
              "  </thead>\n",
              "  <tbody>\n",
              "    <tr>\n",
              "      <th>24</th>\n",
              "      <td>6.7</td>\n",
              "      <td>134.52</td>\n",
              "      <td>112.0</td>\n",
              "      <td>61.0</td>\n",
              "      <td>Marvel</td>\n",
              "    </tr>\n",
              "    <tr>\n",
              "      <th>245</th>\n",
              "      <td>8.1</td>\n",
              "      <td>164.62</td>\n",
              "      <td>141.0</td>\n",
              "      <td>75.0</td>\n",
              "      <td>DC</td>\n",
              "    </tr>\n",
              "    <tr>\n",
              "      <th>257</th>\n",
              "      <td>4.4</td>\n",
              "      <td>13.60</td>\n",
              "      <td>124.0</td>\n",
              "      <td>42.0</td>\n",
              "      <td>DC</td>\n",
              "    </tr>\n",
              "    <tr>\n",
              "      <th>27</th>\n",
              "      <td>5.6</td>\n",
              "      <td>131.92</td>\n",
              "      <td>92.0</td>\n",
              "      <td>45.0</td>\n",
              "      <td>Marvel</td>\n",
              "    </tr>\n",
              "    <tr>\n",
              "      <th>267</th>\n",
              "      <td>5.6</td>\n",
              "      <td>72.01</td>\n",
              "      <td>116.0</td>\n",
              "      <td>42.0</td>\n",
              "      <td>DC</td>\n",
              "    </tr>\n",
              "    <tr>\n",
              "      <th>2</th>\n",
              "      <td>7.5</td>\n",
              "      <td>390.53</td>\n",
              "      <td>129.0</td>\n",
              "      <td>69.0</td>\n",
              "      <td>Marvel</td>\n",
              "    </tr>\n",
              "    <tr>\n",
              "      <th>21</th>\n",
              "      <td>7.0</td>\n",
              "      <td>312.43</td>\n",
              "      <td>124.0</td>\n",
              "      <td>57.0</td>\n",
              "      <td>Marvel</td>\n",
              "    </tr>\n",
              "    <tr>\n",
              "      <th>248</th>\n",
              "      <td>7.5</td>\n",
              "      <td>251.19</td>\n",
              "      <td>126.0</td>\n",
              "      <td>69.0</td>\n",
              "      <td>DC</td>\n",
              "    </tr>\n",
              "    <tr>\n",
              "      <th>247</th>\n",
              "      <td>8.1</td>\n",
              "      <td>70.51</td>\n",
              "      <td>132.0</td>\n",
              "      <td>62.0</td>\n",
              "      <td>DC</td>\n",
              "    </tr>\n",
              "    <tr>\n",
              "      <th>250</th>\n",
              "      <td>3.8</td>\n",
              "      <td>107.33</td>\n",
              "      <td>125.0</td>\n",
              "      <td>28.0</td>\n",
              "      <td>DC</td>\n",
              "    </tr>\n",
              "    <tr>\n",
              "      <th>244</th>\n",
              "      <td>6.4</td>\n",
              "      <td>330.36</td>\n",
              "      <td>152.0</td>\n",
              "      <td>44.0</td>\n",
              "      <td>DC</td>\n",
              "    </tr>\n",
              "    <tr>\n",
              "      <th>259</th>\n",
              "      <td>6.0</td>\n",
              "      <td>200.08</td>\n",
              "      <td>154.0</td>\n",
              "      <td>72.0</td>\n",
              "      <td>DC</td>\n",
              "    </tr>\n",
              "    <tr>\n",
              "      <th>241</th>\n",
              "      <td>6.9</td>\n",
              "      <td>335.06</td>\n",
              "      <td>143.0</td>\n",
              "      <td>55.0</td>\n",
              "      <td>DC</td>\n",
              "    </tr>\n",
              "    <tr>\n",
              "      <th>26</th>\n",
              "      <td>7.0</td>\n",
              "      <td>201.09</td>\n",
              "      <td>112.0</td>\n",
              "      <td>71.0</td>\n",
              "      <td>Marvel</td>\n",
              "    </tr>\n",
              "    <tr>\n",
              "      <th>262</th>\n",
              "      <td>5.0</td>\n",
              "      <td>59.95</td>\n",
              "      <td>125.0</td>\n",
              "      <td>44.0</td>\n",
              "      <td>DC</td>\n",
              "    </tr>\n",
              "    <tr>\n",
              "      <th>254</th>\n",
              "      <td>5.5</td>\n",
              "      <td>116.60</td>\n",
              "      <td>114.0</td>\n",
              "      <td>39.0</td>\n",
              "      <td>DC</td>\n",
              "    </tr>\n",
              "  </tbody>\n",
              "</table>\n",
              "</div>"
            ],
            "text/plain": [
              "     IMDB_Score  USA_Gross  RunTime  Metascore Category\n",
              "24          6.7     134.52    112.0       61.0   Marvel\n",
              "245         8.1     164.62    141.0       75.0       DC\n",
              "257         4.4      13.60    124.0       42.0       DC\n",
              "27          5.6     131.92     92.0       45.0   Marvel\n",
              "267         5.6      72.01    116.0       42.0       DC\n",
              "2           7.5     390.53    129.0       69.0   Marvel\n",
              "21          7.0     312.43    124.0       57.0   Marvel\n",
              "248         7.5     251.19    126.0       69.0       DC\n",
              "247         8.1      70.51    132.0       62.0       DC\n",
              "250         3.8     107.33    125.0       28.0       DC\n",
              "244         6.4     330.36    152.0       44.0       DC\n",
              "259         6.0     200.08    154.0       72.0       DC\n",
              "241         6.9     335.06    143.0       55.0       DC\n",
              "26          7.0     201.09    112.0       71.0   Marvel\n",
              "262         5.0      59.95    125.0       44.0       DC\n",
              "254         5.5     116.60    114.0       39.0       DC"
            ]
          },
          "metadata": {
            "tags": []
          },
          "execution_count": 45
        }
      ]
    },
    {
      "cell_type": "code",
      "metadata": {
        "id": "tXVu_omMc0tX"
      },
      "source": [
        ""
      ],
      "execution_count": 45,
      "outputs": []
    },
    {
      "cell_type": "markdown",
      "metadata": {
        "id": "Yr7oK0d6c2iF"
      },
      "source": [
        "## Creating and Training our Linear Regression Machine Learning Model using `smf.ols()`\n",
        "\n",
        "`smf.ols()` is the function we use to create a linear regression model.  OLS stands for ordinary least square models. \n",
        "\n",
        "\n",
        "It requires the following syntax\n",
        "\n",
        "```\n",
        "    model = smf.ols(formula=\"target ~ feature_1 + feature_2 + feature_3 + ... + feature_n\", data=df).fit()\n",
        "```\n",
        "\n",
        "- where:\n",
        "    - `formula`: the formula of the model as string in the format of `\"target ~ feature_1 + feature_2 + feature_3 + ... + feature_n\"`\n",
        "        - The target and features are separated by `~`\n",
        "        - The features are seprated by `+`\n",
        "    - `data`: the name of your DataFrame\n",
        "    - `.fit()`: is a function that trains the model to fit the data\n",
        "\n",
        "\n",
        "This is the syntax of  `.predict()`:\n",
        "\n",
        "- If we pass nothing into the model, it will return the prediction based on what is was trained on: \n",
        "```\n",
        "        model.predict()\n",
        "```\n",
        "- If we our pass our testing_data or other new data, it will return the prediction for the testing/new data|\n",
        "```\n",
        "        model.predict(df_test)\n",
        "```\n"
      ]
    },
    {
      "cell_type": "code",
      "metadata": {
        "colab": {
          "base_uri": "https://localhost:8080/",
          "height": 551
        },
        "id": "DZTYkmFm2ZXN",
        "outputId": "6f45bc7f-75eb-4a44-8858-a1c7cc386d7b"
      },
      "source": [
        "# Lets create and train our model\n",
        "hero_model = smf.ols(formula=\"IMDB_Score ~ USA_Gross + RunTime + Metascore + Category\", data=hero_train,).fit()\n",
        "hero_model.summary()"
      ],
      "execution_count": 46,
      "outputs": [
        {
          "output_type": "execute_result",
          "data": {
            "text/html": [
              "<table class=\"simpletable\">\n",
              "<caption>OLS Regression Results</caption>\n",
              "<tr>\n",
              "  <th>Dep. Variable:</th>       <td>IMDB_Score</td>    <th>  R-squared:         </th> <td>   0.631</td>\n",
              "</tr>\n",
              "<tr>\n",
              "  <th>Model:</th>                   <td>OLS</td>       <th>  Adj. R-squared:    </th> <td>   0.596</td>\n",
              "</tr>\n",
              "<tr>\n",
              "  <th>Method:</th>             <td>Least Squares</td>  <th>  F-statistic:       </th> <td>   17.96</td>\n",
              "</tr>\n",
              "<tr>\n",
              "  <th>Date:</th>             <td>Fri, 16 Jul 2021</td> <th>  Prob (F-statistic):</th> <td>1.15e-08</td>\n",
              "</tr>\n",
              "<tr>\n",
              "  <th>Time:</th>                 <td>14:47:40</td>     <th>  Log-Likelihood:    </th> <td> -45.315</td>\n",
              "</tr>\n",
              "<tr>\n",
              "  <th>No. Observations:</th>      <td>    47</td>      <th>  AIC:               </th> <td>   100.6</td>\n",
              "</tr>\n",
              "<tr>\n",
              "  <th>Df Residuals:</th>          <td>    42</td>      <th>  BIC:               </th> <td>   109.9</td>\n",
              "</tr>\n",
              "<tr>\n",
              "  <th>Df Model:</th>              <td>     4</td>      <th>                     </th>     <td> </td>   \n",
              "</tr>\n",
              "<tr>\n",
              "  <th>Covariance Type:</th>      <td>nonrobust</td>    <th>                     </th>     <td> </td>   \n",
              "</tr>\n",
              "</table>\n",
              "<table class=\"simpletable\">\n",
              "<tr>\n",
              "           <td></td>             <th>coef</th>     <th>std err</th>      <th>t</th>      <th>P>|t|</th>  <th>[0.025</th>    <th>0.975]</th>  \n",
              "</tr>\n",
              "<tr>\n",
              "  <th>Intercept</th>          <td>    3.3714</td> <td>    0.804</td> <td>    4.192</td> <td> 0.000</td> <td>    1.748</td> <td>    4.995</td>\n",
              "</tr>\n",
              "<tr>\n",
              "  <th>Category[T.Marvel]</th> <td>    0.0738</td> <td>    0.223</td> <td>    0.330</td> <td> 0.743</td> <td>   -0.377</td> <td>    0.525</td>\n",
              "</tr>\n",
              "<tr>\n",
              "  <th>USA_Gross</th>          <td>    0.0012</td> <td>    0.001</td> <td>    1.613</td> <td> 0.114</td> <td>   -0.000</td> <td>    0.003</td>\n",
              "</tr>\n",
              "<tr>\n",
              "  <th>RunTime</th>            <td>    0.0026</td> <td>    0.007</td> <td>    0.398</td> <td> 0.692</td> <td>   -0.011</td> <td>    0.016</td>\n",
              "</tr>\n",
              "<tr>\n",
              "  <th>Metascore</th>          <td>    0.0469</td> <td>    0.008</td> <td>    5.798</td> <td> 0.000</td> <td>    0.031</td> <td>    0.063</td>\n",
              "</tr>\n",
              "</table>\n",
              "<table class=\"simpletable\">\n",
              "<tr>\n",
              "  <th>Omnibus:</th>       <td> 1.913</td> <th>  Durbin-Watson:     </th> <td>   2.298</td>\n",
              "</tr>\n",
              "<tr>\n",
              "  <th>Prob(Omnibus):</th> <td> 0.384</td> <th>  Jarque-Bera (JB):  </th> <td>   1.145</td>\n",
              "</tr>\n",
              "<tr>\n",
              "  <th>Skew:</th>          <td>-0.354</td> <th>  Prob(JB):          </th> <td>   0.564</td>\n",
              "</tr>\n",
              "<tr>\n",
              "  <th>Kurtosis:</th>      <td> 3.287</td> <th>  Cond. No.          </th> <td>2.84e+03</td>\n",
              "</tr>\n",
              "</table><br/><br/>Warnings:<br/>[1] Standard Errors assume that the covariance matrix of the errors is correctly specified.<br/>[2] The condition number is large, 2.84e+03. This might indicate that there are<br/>strong multicollinearity or other numerical problems."
            ],
            "text/plain": [
              "<class 'statsmodels.iolib.summary.Summary'>\n",
              "\"\"\"\n",
              "                            OLS Regression Results                            \n",
              "==============================================================================\n",
              "Dep. Variable:             IMDB_Score   R-squared:                       0.631\n",
              "Model:                            OLS   Adj. R-squared:                  0.596\n",
              "Method:                 Least Squares   F-statistic:                     17.96\n",
              "Date:                Fri, 16 Jul 2021   Prob (F-statistic):           1.15e-08\n",
              "Time:                        14:47:40   Log-Likelihood:                -45.315\n",
              "No. Observations:                  47   AIC:                             100.6\n",
              "Df Residuals:                      42   BIC:                             109.9\n",
              "Df Model:                           4                                         \n",
              "Covariance Type:            nonrobust                                         \n",
              "======================================================================================\n",
              "                         coef    std err          t      P>|t|      [0.025      0.975]\n",
              "--------------------------------------------------------------------------------------\n",
              "Intercept              3.3714      0.804      4.192      0.000       1.748       4.995\n",
              "Category[T.Marvel]     0.0738      0.223      0.330      0.743      -0.377       0.525\n",
              "USA_Gross              0.0012      0.001      1.613      0.114      -0.000       0.003\n",
              "RunTime                0.0026      0.007      0.398      0.692      -0.011       0.016\n",
              "Metascore              0.0469      0.008      5.798      0.000       0.031       0.063\n",
              "==============================================================================\n",
              "Omnibus:                        1.913   Durbin-Watson:                   2.298\n",
              "Prob(Omnibus):                  0.384   Jarque-Bera (JB):                1.145\n",
              "Skew:                          -0.354   Prob(JB):                        0.564\n",
              "Kurtosis:                       3.287   Cond. No.                     2.84e+03\n",
              "==============================================================================\n",
              "\n",
              "Warnings:\n",
              "[1] Standard Errors assume that the covariance matrix of the errors is correctly specified.\n",
              "[2] The condition number is large, 2.84e+03. This might indicate that there are\n",
              "strong multicollinearity or other numerical problems.\n",
              "\"\"\""
            ]
          },
          "metadata": {
            "tags": []
          },
          "execution_count": 46
        }
      ]
    },
    {
      "cell_type": "code",
      "metadata": {
        "id": "E6qbGuvfc26z",
        "colab": {
          "base_uri": "https://localhost:8080/",
          "height": 1000
        },
        "outputId": "83047c0f-bc81-4888-bb66-f80fce366414"
      },
      "source": [
        "# Get prediciton from the linear model and make it a new colunn on the training DataFrame\n",
        "hero_train['IMDB_Score_Prediction'] = hero_model.predict()\n",
        "\n",
        "# Get the difference between the predicted and observed/actual value\n",
        "hero_train['IMDB_Score_Difference'] = hero_train['IMDB_Score_Prediction']-hero_train['IMDB_Score']\n",
        "\n",
        "# Show DataFrame\n",
        "hero_train"
      ],
      "execution_count": 47,
      "outputs": [
        {
          "output_type": "stream",
          "text": [
            "/usr/local/lib/python3.7/dist-packages/ipykernel_launcher.py:2: SettingWithCopyWarning: \n",
            "A value is trying to be set on a copy of a slice from a DataFrame.\n",
            "Try using .loc[row_indexer,col_indexer] = value instead\n",
            "\n",
            "See the caveats in the documentation: https://pandas.pydata.org/pandas-docs/stable/user_guide/indexing.html#returning-a-view-versus-a-copy\n",
            "  \n",
            "/usr/local/lib/python3.7/dist-packages/ipykernel_launcher.py:5: SettingWithCopyWarning: \n",
            "A value is trying to be set on a copy of a slice from a DataFrame.\n",
            "Try using .loc[row_indexer,col_indexer] = value instead\n",
            "\n",
            "See the caveats in the documentation: https://pandas.pydata.org/pandas-docs/stable/user_guide/indexing.html#returning-a-view-versus-a-copy\n",
            "  \"\"\"\n"
          ],
          "name": "stderr"
        },
        {
          "output_type": "execute_result",
          "data": {
            "text/html": [
              "<div>\n",
              "<style scoped>\n",
              "    .dataframe tbody tr th:only-of-type {\n",
              "        vertical-align: middle;\n",
              "    }\n",
              "\n",
              "    .dataframe tbody tr th {\n",
              "        vertical-align: top;\n",
              "    }\n",
              "\n",
              "    .dataframe thead th {\n",
              "        text-align: right;\n",
              "    }\n",
              "</style>\n",
              "<table border=\"1\" class=\"dataframe\">\n",
              "  <thead>\n",
              "    <tr style=\"text-align: right;\">\n",
              "      <th></th>\n",
              "      <th>IMDB_Score</th>\n",
              "      <th>USA_Gross</th>\n",
              "      <th>RunTime</th>\n",
              "      <th>Metascore</th>\n",
              "      <th>Category</th>\n",
              "      <th>IMDB_Score_Prediction</th>\n",
              "      <th>IMDB_Score_Difference</th>\n",
              "    </tr>\n",
              "  </thead>\n",
              "  <tbody>\n",
              "    <tr>\n",
              "      <th>3</th>\n",
              "      <td>7.9</td>\n",
              "      <td>315.06</td>\n",
              "      <td>130.0</td>\n",
              "      <td>74.0</td>\n",
              "      <td>Marvel</td>\n",
              "      <td>7.640047</td>\n",
              "      <td>-0.259953</td>\n",
              "    </tr>\n",
              "    <tr>\n",
              "      <th>246</th>\n",
              "      <td>8.2</td>\n",
              "      <td>206.85</td>\n",
              "      <td>140.0</td>\n",
              "      <td>70.0</td>\n",
              "      <td>DC</td>\n",
              "      <td>7.273072</td>\n",
              "      <td>-0.926928</td>\n",
              "    </tr>\n",
              "    <tr>\n",
              "      <th>242</th>\n",
              "      <td>7.0</td>\n",
              "      <td>291.05</td>\n",
              "      <td>143.0</td>\n",
              "      <td>55.0</td>\n",
              "      <td>DC</td>\n",
              "      <td>6.679652</td>\n",
              "      <td>-0.320348</td>\n",
              "    </tr>\n",
              "    <tr>\n",
              "      <th>10</th>\n",
              "      <td>7.6</td>\n",
              "      <td>389.81</td>\n",
              "      <td>136.0</td>\n",
              "      <td>67.0</td>\n",
              "      <td>Marvel</td>\n",
              "      <td>7.418282</td>\n",
              "      <td>-0.181718</td>\n",
              "    </tr>\n",
              "    <tr>\n",
              "      <th>261</th>\n",
              "      <td>5.6</td>\n",
              "      <td>104.30</td>\n",
              "      <td>92.0</td>\n",
              "      <td>39.0</td>\n",
              "      <td>DC</td>\n",
              "      <td>5.568483</td>\n",
              "      <td>-0.031517</td>\n",
              "    </tr>\n",
              "    <tr>\n",
              "      <th>19</th>\n",
              "      <td>7.1</td>\n",
              "      <td>409.01</td>\n",
              "      <td>130.0</td>\n",
              "      <td>62.0</td>\n",
              "      <td>Marvel</td>\n",
              "      <td>7.191385</td>\n",
              "      <td>0.091385</td>\n",
              "    </tr>\n",
              "    <tr>\n",
              "      <th>240</th>\n",
              "      <td>8.4</td>\n",
              "      <td>448.14</td>\n",
              "      <td>164.0</td>\n",
              "      <td>78.0</td>\n",
              "      <td>DC</td>\n",
              "      <td>8.004687</td>\n",
              "      <td>-0.395313</td>\n",
              "    </tr>\n",
              "    <tr>\n",
              "      <th>265</th>\n",
              "      <td>5.1</td>\n",
              "      <td>47.81</td>\n",
              "      <td>102.0</td>\n",
              "      <td>41.0</td>\n",
              "      <td>DC</td>\n",
              "      <td>5.619732</td>\n",
              "      <td>0.519732</td>\n",
              "    </tr>\n",
              "    <tr>\n",
              "      <th>17</th>\n",
              "      <td>7.3</td>\n",
              "      <td>180.20</td>\n",
              "      <td>117.0</td>\n",
              "      <td>64.0</td>\n",
              "      <td>Marvel</td>\n",
              "      <td>6.972850</td>\n",
              "      <td>-0.327150</td>\n",
              "    </tr>\n",
              "    <tr>\n",
              "      <th>260</th>\n",
              "      <td>7.7</td>\n",
              "      <td>3.15</td>\n",
              "      <td>92.0</td>\n",
              "      <td>70.0</td>\n",
              "      <td>DC</td>\n",
              "      <td>6.899742</td>\n",
              "      <td>-0.800258</td>\n",
              "    </tr>\n",
              "    <tr>\n",
              "      <th>258</th>\n",
              "      <td>8.0</td>\n",
              "      <td>23.16</td>\n",
              "      <td>86.0</td>\n",
              "      <td>85.0</td>\n",
              "      <td>DC</td>\n",
              "      <td>7.612099</td>\n",
              "      <td>-0.387901</td>\n",
              "    </tr>\n",
              "    <tr>\n",
              "      <th>253</th>\n",
              "      <td>7.3</td>\n",
              "      <td>134.22</td>\n",
              "      <td>143.0</td>\n",
              "      <td>80.0</td>\n",
              "      <td>DC</td>\n",
              "      <td>7.661689</td>\n",
              "      <td>0.361689</td>\n",
              "    </tr>\n",
              "    <tr>\n",
              "      <th>239</th>\n",
              "      <td>5.9</td>\n",
              "      <td>325.10</td>\n",
              "      <td>123.0</td>\n",
              "      <td>40.0</td>\n",
              "      <td>DC</td>\n",
              "      <td>5.965079</td>\n",
              "      <td>0.065079</td>\n",
              "    </tr>\n",
              "    <tr>\n",
              "      <th>256</th>\n",
              "      <td>6.2</td>\n",
              "      <td>176.59</td>\n",
              "      <td>140.0</td>\n",
              "      <td>61.0</td>\n",
              "      <td>DC</td>\n",
              "      <td>6.814036</td>\n",
              "      <td>0.614036</td>\n",
              "    </tr>\n",
              "    <tr>\n",
              "      <th>237</th>\n",
              "      <td>9.0</td>\n",
              "      <td>534.86</td>\n",
              "      <td>152.0</td>\n",
              "      <td>84.0</td>\n",
              "      <td>DC</td>\n",
              "      <td>8.360294</td>\n",
              "      <td>-0.639706</td>\n",
              "    </tr>\n",
              "    <tr>\n",
              "      <th>264</th>\n",
              "      <td>3.4</td>\n",
              "      <td>40.20</td>\n",
              "      <td>104.0</td>\n",
              "      <td>27.0</td>\n",
              "      <td>DC</td>\n",
              "      <td>4.958915</td>\n",
              "      <td>1.558915</td>\n",
              "    </tr>\n",
              "    <tr>\n",
              "      <th>13</th>\n",
              "      <td>7.8</td>\n",
              "      <td>408.08</td>\n",
              "      <td>147.0</td>\n",
              "      <td>75.0</td>\n",
              "      <td>Marvel</td>\n",
              "      <td>7.844579</td>\n",
              "      <td>0.044579</td>\n",
              "    </tr>\n",
              "    <tr>\n",
              "      <th>22</th>\n",
              "      <td>6.2</td>\n",
              "      <td>336.53</td>\n",
              "      <td>139.0</td>\n",
              "      <td>59.0</td>\n",
              "      <td>Marvel</td>\n",
              "      <td>6.985998</td>\n",
              "      <td>0.785998</td>\n",
              "    </tr>\n",
              "    <tr>\n",
              "      <th>238</th>\n",
              "      <td>7.6</td>\n",
              "      <td>107.51</td>\n",
              "      <td>162.0</td>\n",
              "      <td>56.0</td>\n",
              "      <td>DC</td>\n",
              "      <td>6.552952</td>\n",
              "      <td>-1.047048</td>\n",
              "    </tr>\n",
              "    <tr>\n",
              "      <th>236</th>\n",
              "      <td>8.4</td>\n",
              "      <td>335.45</td>\n",
              "      <td>122.0</td>\n",
              "      <td>59.0</td>\n",
              "      <td>DC</td>\n",
              "      <td>6.866412</td>\n",
              "      <td>-1.533588</td>\n",
              "    </tr>\n",
              "    <tr>\n",
              "      <th>255</th>\n",
              "      <td>7.0</td>\n",
              "      <td>162.83</td>\n",
              "      <td>126.0</td>\n",
              "      <td>68.0</td>\n",
              "      <td>DC</td>\n",
              "      <td>7.089083</td>\n",
              "      <td>0.089083</td>\n",
              "    </tr>\n",
              "    <tr>\n",
              "      <th>23</th>\n",
              "      <td>7.0</td>\n",
              "      <td>216.65</td>\n",
              "      <td>118.0</td>\n",
              "      <td>70.0</td>\n",
              "      <td>Marvel</td>\n",
              "      <td>7.301290</td>\n",
              "      <td>0.301290</td>\n",
              "    </tr>\n",
              "    <tr>\n",
              "      <th>4</th>\n",
              "      <td>8.4</td>\n",
              "      <td>678.82</td>\n",
              "      <td>149.0</td>\n",
              "      <td>68.0</td>\n",
              "      <td>Marvel</td>\n",
              "      <td>7.850796</td>\n",
              "      <td>-0.549204</td>\n",
              "    </tr>\n",
              "    <tr>\n",
              "      <th>14</th>\n",
              "      <td>8.0</td>\n",
              "      <td>623.28</td>\n",
              "      <td>143.0</td>\n",
              "      <td>69.0</td>\n",
              "      <td>Marvel</td>\n",
              "      <td>7.814451</td>\n",
              "      <td>-0.185549</td>\n",
              "    </tr>\n",
              "    <tr>\n",
              "      <th>235</th>\n",
              "      <td>5.4</td>\n",
              "      <td>46.37</td>\n",
              "      <td>151.0</td>\n",
              "      <td>60.0</td>\n",
              "      <td>DC</td>\n",
              "      <td>6.637460</td>\n",
              "      <td>1.237460</td>\n",
              "    </tr>\n",
              "    <tr>\n",
              "      <th>28</th>\n",
              "      <td>5.9</td>\n",
              "      <td>7.95</td>\n",
              "      <td>103.0</td>\n",
              "      <td>30.0</td>\n",
              "      <td>Marvel</td>\n",
              "      <td>5.131626</td>\n",
              "      <td>-0.768374</td>\n",
              "    </tr>\n",
              "    <tr>\n",
              "      <th>263</th>\n",
              "      <td>6.8</td>\n",
              "      <td>108.19</td>\n",
              "      <td>127.0</td>\n",
              "      <td>83.0</td>\n",
              "      <td>DC</td>\n",
              "      <td>7.728925</td>\n",
              "      <td>0.928925</td>\n",
              "    </tr>\n",
              "    <tr>\n",
              "      <th>252</th>\n",
              "      <td>5.4</td>\n",
              "      <td>184.03</td>\n",
              "      <td>121.0</td>\n",
              "      <td>51.0</td>\n",
              "      <td>DC</td>\n",
              "      <td>6.304272</td>\n",
              "      <td>0.904272</td>\n",
              "    </tr>\n",
              "    <tr>\n",
              "      <th>18</th>\n",
              "      <td>7.7</td>\n",
              "      <td>259.77</td>\n",
              "      <td>136.0</td>\n",
              "      <td>70.0</td>\n",
              "      <td>Marvel</td>\n",
              "      <td>7.400816</td>\n",
              "      <td>-0.299184</td>\n",
              "    </tr>\n",
              "    <tr>\n",
              "      <th>268</th>\n",
              "      <td>6.4</td>\n",
              "      <td>0.53</td>\n",
              "      <td>102.0</td>\n",
              "      <td>53.0</td>\n",
              "      <td>DC</td>\n",
              "      <td>6.125173</td>\n",
              "      <td>-0.274827</td>\n",
              "    </tr>\n",
              "    <tr>\n",
              "      <th>20</th>\n",
              "      <td>6.9</td>\n",
              "      <td>206.36</td>\n",
              "      <td>112.0</td>\n",
              "      <td>54.0</td>\n",
              "      <td>Marvel</td>\n",
              "      <td>6.522467</td>\n",
              "      <td>-0.377533</td>\n",
              "    </tr>\n",
              "    <tr>\n",
              "      <th>25</th>\n",
              "      <td>6.8</td>\n",
              "      <td>30.32</td>\n",
              "      <td>125.0</td>\n",
              "      <td>67.0</td>\n",
              "      <td>Marvel</td>\n",
              "      <td>6.952165</td>\n",
              "      <td>0.152165</td>\n",
              "    </tr>\n",
              "    <tr>\n",
              "      <th>6</th>\n",
              "      <td>6.9</td>\n",
              "      <td>426.83</td>\n",
              "      <td>123.0</td>\n",
              "      <td>64.0</td>\n",
              "      <td>Marvel</td>\n",
              "      <td>7.288588</td>\n",
              "      <td>0.388588</td>\n",
              "    </tr>\n",
              "    <tr>\n",
              "      <th>251</th>\n",
              "      <td>7.0</td>\n",
              "      <td>75.98</td>\n",
              "      <td>121.0</td>\n",
              "      <td>50.0</td>\n",
              "      <td>DC</td>\n",
              "      <td>6.125906</td>\n",
              "      <td>-0.874094</td>\n",
              "    </tr>\n",
              "    <tr>\n",
              "      <th>7</th>\n",
              "      <td>7.4</td>\n",
              "      <td>334.20</td>\n",
              "      <td>133.0</td>\n",
              "      <td>73.0</td>\n",
              "      <td>Marvel</td>\n",
              "      <td>7.624263</td>\n",
              "      <td>0.224263</td>\n",
              "    </tr>\n",
              "    <tr>\n",
              "      <th>266</th>\n",
              "      <td>5.7</td>\n",
              "      <td>20.99</td>\n",
              "      <td>91.0</td>\n",
              "      <td>64.0</td>\n",
              "      <td>DC</td>\n",
              "      <td>6.637350</td>\n",
              "      <td>0.937350</td>\n",
              "    </tr>\n",
              "    <tr>\n",
              "      <th>1</th>\n",
              "      <td>8.0</td>\n",
              "      <td>333.18</td>\n",
              "      <td>121.0</td>\n",
              "      <td>76.0</td>\n",
              "      <td>Marvel</td>\n",
              "      <td>7.732385</td>\n",
              "      <td>-0.267615</td>\n",
              "    </tr>\n",
              "    <tr>\n",
              "      <th>16</th>\n",
              "      <td>7.5</td>\n",
              "      <td>232.64</td>\n",
              "      <td>115.0</td>\n",
              "      <td>72.0</td>\n",
              "      <td>Marvel</td>\n",
              "      <td>7.406726</td>\n",
              "      <td>-0.093274</td>\n",
              "    </tr>\n",
              "    <tr>\n",
              "      <th>0</th>\n",
              "      <td>8.4</td>\n",
              "      <td>858.37</td>\n",
              "      <td>181.0</td>\n",
              "      <td>78.0</td>\n",
              "      <td>Marvel</td>\n",
              "      <td>8.622044</td>\n",
              "      <td>0.222044</td>\n",
              "    </tr>\n",
              "    <tr>\n",
              "      <th>15</th>\n",
              "      <td>6.1</td>\n",
              "      <td>17.30</td>\n",
              "      <td>90.0</td>\n",
              "      <td>44.0</td>\n",
              "      <td>Marvel</td>\n",
              "      <td>5.765798</td>\n",
              "      <td>-0.334202</td>\n",
              "    </tr>\n",
              "    <tr>\n",
              "      <th>5</th>\n",
              "      <td>7.3</td>\n",
              "      <td>700.06</td>\n",
              "      <td>134.0</td>\n",
              "      <td>88.0</td>\n",
              "      <td>Marvel</td>\n",
              "      <td>8.775684</td>\n",
              "      <td>1.475684</td>\n",
              "    </tr>\n",
              "    <tr>\n",
              "      <th>11</th>\n",
              "      <td>7.0</td>\n",
              "      <td>181.03</td>\n",
              "      <td>115.0</td>\n",
              "      <td>57.0</td>\n",
              "      <td>Marvel</td>\n",
              "      <td>6.640236</td>\n",
              "      <td>-0.359764</td>\n",
              "    </tr>\n",
              "    <tr>\n",
              "      <th>9</th>\n",
              "      <td>6.9</td>\n",
              "      <td>176.65</td>\n",
              "      <td>124.0</td>\n",
              "      <td>66.0</td>\n",
              "      <td>Marvel</td>\n",
              "      <td>7.080661</td>\n",
              "      <td>0.180661</td>\n",
              "    </tr>\n",
              "    <tr>\n",
              "      <th>8</th>\n",
              "      <td>7.3</td>\n",
              "      <td>459.01</td>\n",
              "      <td>141.0</td>\n",
              "      <td>66.0</td>\n",
              "      <td>Marvel</td>\n",
              "      <td>7.468631</td>\n",
              "      <td>0.168631</td>\n",
              "    </tr>\n",
              "    <tr>\n",
              "      <th>12</th>\n",
              "      <td>7.9</td>\n",
              "      <td>318.41</td>\n",
              "      <td>126.0</td>\n",
              "      <td>79.0</td>\n",
              "      <td>Marvel</td>\n",
              "      <td>7.868231</td>\n",
              "      <td>-0.031769</td>\n",
              "    </tr>\n",
              "    <tr>\n",
              "      <th>249</th>\n",
              "      <td>7.2</td>\n",
              "      <td>256.39</td>\n",
              "      <td>101.0</td>\n",
              "      <td>65.0</td>\n",
              "      <td>DC</td>\n",
              "      <td>6.996798</td>\n",
              "      <td>-0.203202</td>\n",
              "    </tr>\n",
              "    <tr>\n",
              "      <th>243</th>\n",
              "      <td>7.0</td>\n",
              "      <td>140.37</td>\n",
              "      <td>132.0</td>\n",
              "      <td>71.0</td>\n",
              "      <td>DC</td>\n",
              "      <td>7.218188</td>\n",
              "      <td>0.218188</td>\n",
              "    </tr>\n",
              "  </tbody>\n",
              "</table>\n",
              "</div>"
            ],
            "text/plain": [
              "     IMDB_Score  USA_Gross  ...  IMDB_Score_Prediction  IMDB_Score_Difference\n",
              "3           7.9     315.06  ...               7.640047              -0.259953\n",
              "246         8.2     206.85  ...               7.273072              -0.926928\n",
              "242         7.0     291.05  ...               6.679652              -0.320348\n",
              "10          7.6     389.81  ...               7.418282              -0.181718\n",
              "261         5.6     104.30  ...               5.568483              -0.031517\n",
              "19          7.1     409.01  ...               7.191385               0.091385\n",
              "240         8.4     448.14  ...               8.004687              -0.395313\n",
              "265         5.1      47.81  ...               5.619732               0.519732\n",
              "17          7.3     180.20  ...               6.972850              -0.327150\n",
              "260         7.7       3.15  ...               6.899742              -0.800258\n",
              "258         8.0      23.16  ...               7.612099              -0.387901\n",
              "253         7.3     134.22  ...               7.661689               0.361689\n",
              "239         5.9     325.10  ...               5.965079               0.065079\n",
              "256         6.2     176.59  ...               6.814036               0.614036\n",
              "237         9.0     534.86  ...               8.360294              -0.639706\n",
              "264         3.4      40.20  ...               4.958915               1.558915\n",
              "13          7.8     408.08  ...               7.844579               0.044579\n",
              "22          6.2     336.53  ...               6.985998               0.785998\n",
              "238         7.6     107.51  ...               6.552952              -1.047048\n",
              "236         8.4     335.45  ...               6.866412              -1.533588\n",
              "255         7.0     162.83  ...               7.089083               0.089083\n",
              "23          7.0     216.65  ...               7.301290               0.301290\n",
              "4           8.4     678.82  ...               7.850796              -0.549204\n",
              "14          8.0     623.28  ...               7.814451              -0.185549\n",
              "235         5.4      46.37  ...               6.637460               1.237460\n",
              "28          5.9       7.95  ...               5.131626              -0.768374\n",
              "263         6.8     108.19  ...               7.728925               0.928925\n",
              "252         5.4     184.03  ...               6.304272               0.904272\n",
              "18          7.7     259.77  ...               7.400816              -0.299184\n",
              "268         6.4       0.53  ...               6.125173              -0.274827\n",
              "20          6.9     206.36  ...               6.522467              -0.377533\n",
              "25          6.8      30.32  ...               6.952165               0.152165\n",
              "6           6.9     426.83  ...               7.288588               0.388588\n",
              "251         7.0      75.98  ...               6.125906              -0.874094\n",
              "7           7.4     334.20  ...               7.624263               0.224263\n",
              "266         5.7      20.99  ...               6.637350               0.937350\n",
              "1           8.0     333.18  ...               7.732385              -0.267615\n",
              "16          7.5     232.64  ...               7.406726              -0.093274\n",
              "0           8.4     858.37  ...               8.622044               0.222044\n",
              "15          6.1      17.30  ...               5.765798              -0.334202\n",
              "5           7.3     700.06  ...               8.775684               1.475684\n",
              "11          7.0     181.03  ...               6.640236              -0.359764\n",
              "9           6.9     176.65  ...               7.080661               0.180661\n",
              "8           7.3     459.01  ...               7.468631               0.168631\n",
              "12          7.9     318.41  ...               7.868231              -0.031769\n",
              "249         7.2     256.39  ...               6.996798              -0.203202\n",
              "243         7.0     140.37  ...               7.218188               0.218188\n",
              "\n",
              "[47 rows x 7 columns]"
            ]
          },
          "metadata": {
            "tags": []
          },
          "execution_count": 47
        }
      ]
    },
    {
      "cell_type": "markdown",
      "metadata": {
        "id": "w9T0jv3pdQzV"
      },
      "source": [
        "## Evaluating the Fit of the Model: Root Mean Squared Error (RMSE)\n",
        "\n",
        "Root Mean Squared Error (RMSE) is used to assess how well a regression model first the dataset. It tells the average distance between the predicted values from the model and the actual/observed values. \n",
        "\n",
        "The formula for RMSE is as follows:\n",
        "\n",
        "$$ \n",
        "RMSE =  \\sqrt{\\Sigma \\frac{(P_{i} - O_{i})^2}{n}} \n",
        "$$\n",
        "\n",
        "Where:\n",
        "- $RMSE$ is root mean squared error\n",
        "- $P$ is predicted value\n",
        "- $O$ is observed/actual value\n",
        "- $i$ is a single instance\n",
        "- $n$ is the sample size\n",
        "\n",
        "\n",
        "A lower RMSE indicates a better fitting model.\n",
        "↓ RMSE = ↑ Fit"
      ]
    },
    {
      "cell_type": "code",
      "metadata": {
        "id": "ZNm0B_dLdjB1",
        "colab": {
          "base_uri": "https://localhost:8080/"
        },
        "outputId": "4f74d8d3-2571-4a63-819c-ca8712f2471c"
      },
      "source": [
        "# Get sample size (n)\n",
        "n = len(hero)\n",
        "\n",
        "# Calculate RMSE\n",
        "rmse_train = np.sqrt((hero_train['IMDB_Score_Difference'].pow(2).sum())/n)\n",
        "\n",
        "# Print the RMSE\n",
        "print(f'The RMSE of the training data is {rmse_train}')"
      ],
      "execution_count": 48,
      "outputs": [
        {
          "output_type": "stream",
          "text": [
            "The RMSE of the training data is 0.12543098085424925\n"
          ],
          "name": "stdout"
        }
      ]
    },
    {
      "cell_type": "markdown",
      "metadata": {
        "id": "Bjwgn2TZdrE7"
      },
      "source": [
        "## Trying the model on the testing set\n",
        "\n",
        "We need to test how our model performs on data it has never seen before. To do this we must again use `.predict()`\n",
        "\n",
        "### Recall: \n",
        "\n",
        "This is the syntax of  `.predict()`:\n",
        "\n",
        "- If we pass nothing into the model, it will return the prediction based on what is was trained on: \n",
        "```\n",
        "        model.predict()\n",
        "```\n",
        "- If we our pass our testing_data or other new data, it will return the prediction for the testing/new data|\n",
        "```\n",
        "        model.predict(df_test)\n",
        "```"
      ]
    },
    {
      "cell_type": "code",
      "metadata": {
        "id": "56uFvSihdr1W",
        "colab": {
          "base_uri": "https://localhost:8080/",
          "height": 772
        },
        "outputId": "2fe33fa1-8576-45bd-c8c9-f87352082226"
      },
      "source": [
        "# Get prediciton from the linear model and make it a new colunn on the training DataFrame\n",
        "hero_test['IMDB_Score_Prediction'] = hero_model.predict(hero_test) # notice how we are passing the test data now, NOT train\n",
        "\n",
        "# Get the difference between the predicted and observed/actual value\n",
        "hero_test['IMDB_Score_Difference'] = hero_test['IMDB_Score_Prediction']- hero_test['IMDB_Score']\n",
        "\n",
        "# Show DataFrame\n",
        "hero_test"
      ],
      "execution_count": 49,
      "outputs": [
        {
          "output_type": "stream",
          "text": [
            "/usr/local/lib/python3.7/dist-packages/ipykernel_launcher.py:2: SettingWithCopyWarning: \n",
            "A value is trying to be set on a copy of a slice from a DataFrame.\n",
            "Try using .loc[row_indexer,col_indexer] = value instead\n",
            "\n",
            "See the caveats in the documentation: https://pandas.pydata.org/pandas-docs/stable/user_guide/indexing.html#returning-a-view-versus-a-copy\n",
            "  \n",
            "/usr/local/lib/python3.7/dist-packages/ipykernel_launcher.py:5: SettingWithCopyWarning: \n",
            "A value is trying to be set on a copy of a slice from a DataFrame.\n",
            "Try using .loc[row_indexer,col_indexer] = value instead\n",
            "\n",
            "See the caveats in the documentation: https://pandas.pydata.org/pandas-docs/stable/user_guide/indexing.html#returning-a-view-versus-a-copy\n",
            "  \"\"\"\n"
          ],
          "name": "stderr"
        },
        {
          "output_type": "execute_result",
          "data": {
            "text/html": [
              "<div>\n",
              "<style scoped>\n",
              "    .dataframe tbody tr th:only-of-type {\n",
              "        vertical-align: middle;\n",
              "    }\n",
              "\n",
              "    .dataframe tbody tr th {\n",
              "        vertical-align: top;\n",
              "    }\n",
              "\n",
              "    .dataframe thead th {\n",
              "        text-align: right;\n",
              "    }\n",
              "</style>\n",
              "<table border=\"1\" class=\"dataframe\">\n",
              "  <thead>\n",
              "    <tr style=\"text-align: right;\">\n",
              "      <th></th>\n",
              "      <th>IMDB_Score</th>\n",
              "      <th>USA_Gross</th>\n",
              "      <th>RunTime</th>\n",
              "      <th>Metascore</th>\n",
              "      <th>Category</th>\n",
              "      <th>IMDB_Score_Prediction</th>\n",
              "      <th>IMDB_Score_Difference</th>\n",
              "    </tr>\n",
              "  </thead>\n",
              "  <tbody>\n",
              "    <tr>\n",
              "      <th>24</th>\n",
              "      <td>6.7</td>\n",
              "      <td>134.52</td>\n",
              "      <td>112.0</td>\n",
              "      <td>61.0</td>\n",
              "      <td>Marvel</td>\n",
              "      <td>6.763461</td>\n",
              "      <td>0.063461</td>\n",
              "    </tr>\n",
              "    <tr>\n",
              "      <th>245</th>\n",
              "      <td>8.1</td>\n",
              "      <td>164.62</td>\n",
              "      <td>141.0</td>\n",
              "      <td>75.0</td>\n",
              "      <td>DC</td>\n",
              "      <td>7.458877</td>\n",
              "      <td>-0.641123</td>\n",
              "    </tr>\n",
              "    <tr>\n",
              "      <th>257</th>\n",
              "      <td>4.4</td>\n",
              "      <td>13.60</td>\n",
              "      <td>124.0</td>\n",
              "      <td>42.0</td>\n",
              "      <td>DC</td>\n",
              "      <td>5.682551</td>\n",
              "      <td>1.282551</td>\n",
              "    </tr>\n",
              "    <tr>\n",
              "      <th>27</th>\n",
              "      <td>5.6</td>\n",
              "      <td>131.92</td>\n",
              "      <td>92.0</td>\n",
              "      <td>45.0</td>\n",
              "      <td>Marvel</td>\n",
              "      <td>5.957387</td>\n",
              "      <td>0.357387</td>\n",
              "    </tr>\n",
              "    <tr>\n",
              "      <th>267</th>\n",
              "      <td>5.6</td>\n",
              "      <td>72.01</td>\n",
              "      <td>116.0</td>\n",
              "      <td>42.0</td>\n",
              "      <td>DC</td>\n",
              "      <td>5.732694</td>\n",
              "      <td>0.132694</td>\n",
              "    </tr>\n",
              "    <tr>\n",
              "      <th>2</th>\n",
              "      <td>7.5</td>\n",
              "      <td>390.53</td>\n",
              "      <td>129.0</td>\n",
              "      <td>69.0</td>\n",
              "      <td>Marvel</td>\n",
              "      <td>7.494681</td>\n",
              "      <td>-0.005319</td>\n",
              "    </tr>\n",
              "    <tr>\n",
              "      <th>21</th>\n",
              "      <td>7.0</td>\n",
              "      <td>312.43</td>\n",
              "      <td>124.0</td>\n",
              "      <td>57.0</td>\n",
              "      <td>Marvel</td>\n",
              "      <td>6.823630</td>\n",
              "      <td>-0.176370</td>\n",
              "    </tr>\n",
              "    <tr>\n",
              "      <th>248</th>\n",
              "      <td>7.5</td>\n",
              "      <td>251.19</td>\n",
              "      <td>126.0</td>\n",
              "      <td>69.0</td>\n",
              "      <td>DC</td>\n",
              "      <td>7.243495</td>\n",
              "      <td>-0.256505</td>\n",
              "    </tr>\n",
              "    <tr>\n",
              "      <th>247</th>\n",
              "      <td>8.1</td>\n",
              "      <td>70.51</td>\n",
              "      <td>132.0</td>\n",
              "      <td>62.0</td>\n",
              "      <td>DC</td>\n",
              "      <td>6.710975</td>\n",
              "      <td>-1.389025</td>\n",
              "    </tr>\n",
              "    <tr>\n",
              "      <th>250</th>\n",
              "      <td>3.8</td>\n",
              "      <td>107.33</td>\n",
              "      <td>125.0</td>\n",
              "      <td>28.0</td>\n",
              "      <td>DC</td>\n",
              "      <td>5.142409</td>\n",
              "      <td>1.342409</td>\n",
              "    </tr>\n",
              "    <tr>\n",
              "      <th>244</th>\n",
              "      <td>6.4</td>\n",
              "      <td>330.36</td>\n",
              "      <td>152.0</td>\n",
              "      <td>44.0</td>\n",
              "      <td>DC</td>\n",
              "      <td>6.234961</td>\n",
              "      <td>-0.165039</td>\n",
              "    </tr>\n",
              "    <tr>\n",
              "      <th>259</th>\n",
              "      <td>6.0</td>\n",
              "      <td>200.08</td>\n",
              "      <td>154.0</td>\n",
              "      <td>72.0</td>\n",
              "      <td>DC</td>\n",
              "      <td>7.395269</td>\n",
              "      <td>1.395269</td>\n",
              "    </tr>\n",
              "    <tr>\n",
              "      <th>241</th>\n",
              "      <td>6.9</td>\n",
              "      <td>335.06</td>\n",
              "      <td>143.0</td>\n",
              "      <td>55.0</td>\n",
              "      <td>DC</td>\n",
              "      <td>6.733194</td>\n",
              "      <td>-0.166806</td>\n",
              "    </tr>\n",
              "    <tr>\n",
              "      <th>26</th>\n",
              "      <td>7.0</td>\n",
              "      <td>201.09</td>\n",
              "      <td>112.0</td>\n",
              "      <td>71.0</td>\n",
              "      <td>Marvel</td>\n",
              "      <td>7.313585</td>\n",
              "      <td>0.313585</td>\n",
              "    </tr>\n",
              "    <tr>\n",
              "      <th>262</th>\n",
              "      <td>5.0</td>\n",
              "      <td>59.95</td>\n",
              "      <td>125.0</td>\n",
              "      <td>44.0</td>\n",
              "      <td>DC</td>\n",
              "      <td>5.835382</td>\n",
              "      <td>0.835382</td>\n",
              "    </tr>\n",
              "    <tr>\n",
              "      <th>254</th>\n",
              "      <td>5.5</td>\n",
              "      <td>116.60</td>\n",
              "      <td>114.0</td>\n",
              "      <td>39.0</td>\n",
              "      <td>DC</td>\n",
              "      <td>5.640972</td>\n",
              "      <td>0.140972</td>\n",
              "    </tr>\n",
              "  </tbody>\n",
              "</table>\n",
              "</div>"
            ],
            "text/plain": [
              "     IMDB_Score  USA_Gross  ...  IMDB_Score_Prediction  IMDB_Score_Difference\n",
              "24          6.7     134.52  ...               6.763461               0.063461\n",
              "245         8.1     164.62  ...               7.458877              -0.641123\n",
              "257         4.4      13.60  ...               5.682551               1.282551\n",
              "27          5.6     131.92  ...               5.957387               0.357387\n",
              "267         5.6      72.01  ...               5.732694               0.132694\n",
              "2           7.5     390.53  ...               7.494681              -0.005319\n",
              "21          7.0     312.43  ...               6.823630              -0.176370\n",
              "248         7.5     251.19  ...               7.243495              -0.256505\n",
              "247         8.1      70.51  ...               6.710975              -1.389025\n",
              "250         3.8     107.33  ...               5.142409               1.342409\n",
              "244         6.4     330.36  ...               6.234961              -0.165039\n",
              "259         6.0     200.08  ...               7.395269               1.395269\n",
              "241         6.9     335.06  ...               6.733194              -0.166806\n",
              "26          7.0     201.09  ...               7.313585               0.313585\n",
              "262         5.0      59.95  ...               5.835382               0.835382\n",
              "254         5.5     116.60  ...               5.640972               0.140972\n",
              "\n",
              "[16 rows x 7 columns]"
            ]
          },
          "metadata": {
            "tags": []
          },
          "execution_count": 49
        }
      ]
    },
    {
      "cell_type": "code",
      "metadata": {
        "id": "Y5r3pYKRd2bu",
        "colab": {
          "base_uri": "https://localhost:8080/"
        },
        "outputId": "4b728e2f-8ff2-4bc5-963a-0bee7b5b6b90"
      },
      "source": [
        "# Get sample size (n)\n",
        "n = len(hero_test)\n",
        "\n",
        "# Calculate RMSE\n",
        "rmse_test = np.sqrt((hero_test['IMDB_Score_Difference'].pow(2).sum())/n)\n",
        "\n",
        "# Print the RMSE\n",
        "print(f'The RMSE of the testing data is {rmse_test}')"
      ],
      "execution_count": 50,
      "outputs": [
        {
          "output_type": "stream",
          "text": [
            "The RMSE of the testing data is 0.7437921671946923\n"
          ],
          "name": "stdout"
        }
      ]
    },
    {
      "cell_type": "code",
      "metadata": {
        "id": "ymGuabc6DJJN"
      },
      "source": [
        ""
      ],
      "execution_count": 50,
      "outputs": []
    },
    {
      "cell_type": "markdown",
      "metadata": {
        "id": "I1_oAIupd4ze"
      },
      "source": [
        "## Using the model to predict new scenerios. \n",
        "\n",
        "The RMSE values of the **machine learning model to predict IMDB_Scores from Votes, Metascore and USA_Gross** are pretty low.\n",
        "\n",
        "### On the training set, the model had an RMSE value of  0.125\n",
        "- So on average, the model got the IMDB score correct within a range of 0.125 rating points.  So instead of guessing a rating of 6, our model might guess 6.125 instead. \n",
        "\n",
        "### On the testing set, the model had an RMSE value of  0.745\n",
        "- So on average, the model got the IMDB score was typically off by 0.745 points. So instead of guessing a score of 8.745, our model might guess 8 instead. \n",
        "- We expect the model to perform worse on the the testing set, because it has not yet seen that data\n",
        "- It's like taking a test where you've seen all the answers versus taking a test where you haven't yet seen the answers.\n",
        "\n",
        "\n",
        "### Confidence in model and sample size\n",
        "Being less than one rating point off, doesn't seem to bad for our model. If we had a larger sample size (i.e., more data points), the machine learning model can better at learning and our error would be less. But, for now lets say we have confidence in this model\n",
        "\n",
        "\n",
        "\n",
        "\n",
        "\n"
      ]
    },
    {
      "cell_type": "markdown",
      "metadata": {
        "id": "5KGC3zRDGe-1"
      },
      "source": [
        "### Create a new data frame of our predicted data\n",
        "\n",
        "First we must create a DataFrame that has the the exact same column names (case-senstive) as our feature columns. We will be creating a DataFrame using the dictionary method. Please read the [documentation](https://pandas.pydata.org/pandas-docs/stable/reference/api/pandas).\n",
        "DataFrame.from_dict.html) for more details.\n",
        "\n",
        "If we have confidence in our model we can use machine learning to predict the IMDB_score for new scenerios\n",
        "\n",
        "#### Lets say we want estimate the IMDB rating (`\"IMDB_Score\"`) of for two movies that havent yet been added to IMDB website.\n",
        "\n",
        "**Attack of the NarWolves**\n",
        "- USA_Gross of  $ 600 M\n",
        "- RunTime of 120 minutes\n",
        "- Metascore of 80 \n",
        "- DC\n",
        "\n",
        "**Teeth or Horns?**\n",
        "- USA_Gross of  $ 400 M\n",
        "- RunTime of 90 minutes\n",
        "- Metascore of 60 \n",
        "- Marvel\n"
      ]
    },
    {
      "cell_type": "code",
      "metadata": {
        "id": "OJ7kG5Hvd8dX",
        "colab": {
          "base_uri": "https://localhost:8080/",
          "height": 112
        },
        "outputId": "94da3abd-309f-489f-c920-7ca99ace2f75"
      },
      "source": [
        "# Create new_predictio DataFrame\n",
        "new_prediction = pd.DataFrame({\n",
        "    \"Name\": [\"Attack of the NarWolves\", \"Teeth or Horns?\"],\n",
        "    \"USA_Gross\": [600, 400],\n",
        "    \"RunTime\": [120, 90],\n",
        "    \"Metascore\": [80, 60],\n",
        "    \"Category\": [\"DC\", \"Marvel\"],\n",
        "})\n",
        "\n",
        "# Show DataFrame\n",
        "new_prediction"
      ],
      "execution_count": 51,
      "outputs": [
        {
          "output_type": "execute_result",
          "data": {
            "text/html": [
              "<div>\n",
              "<style scoped>\n",
              "    .dataframe tbody tr th:only-of-type {\n",
              "        vertical-align: middle;\n",
              "    }\n",
              "\n",
              "    .dataframe tbody tr th {\n",
              "        vertical-align: top;\n",
              "    }\n",
              "\n",
              "    .dataframe thead th {\n",
              "        text-align: right;\n",
              "    }\n",
              "</style>\n",
              "<table border=\"1\" class=\"dataframe\">\n",
              "  <thead>\n",
              "    <tr style=\"text-align: right;\">\n",
              "      <th></th>\n",
              "      <th>Name</th>\n",
              "      <th>USA_Gross</th>\n",
              "      <th>RunTime</th>\n",
              "      <th>Metascore</th>\n",
              "      <th>Category</th>\n",
              "    </tr>\n",
              "  </thead>\n",
              "  <tbody>\n",
              "    <tr>\n",
              "      <th>0</th>\n",
              "      <td>Attack of the NarWolves</td>\n",
              "      <td>600</td>\n",
              "      <td>120</td>\n",
              "      <td>80</td>\n",
              "      <td>DC</td>\n",
              "    </tr>\n",
              "    <tr>\n",
              "      <th>1</th>\n",
              "      <td>Teeth or Horns?</td>\n",
              "      <td>400</td>\n",
              "      <td>90</td>\n",
              "      <td>60</td>\n",
              "      <td>Marvel</td>\n",
              "    </tr>\n",
              "  </tbody>\n",
              "</table>\n",
              "</div>"
            ],
            "text/plain": [
              "                      Name  USA_Gross  RunTime  Metascore Category\n",
              "0  Attack of the NarWolves        600      120         80       DC\n",
              "1          Teeth or Horns?        400       90         60   Marvel"
            ]
          },
          "metadata": {
            "tags": []
          },
          "execution_count": 51
        }
      ]
    },
    {
      "cell_type": "code",
      "metadata": {
        "colab": {
          "base_uri": "https://localhost:8080/",
          "height": 112
        },
        "id": "o4ksUwNcHB7p",
        "outputId": "8cb72cf8-3652-4453-c176-840116fbbfe2"
      },
      "source": [
        "# Lets use our model to predict the scores\n",
        "new_prediction[\"IMDB_Score\"] = hero_model.predict(new_prediction)\n",
        "\n",
        "# Show DataFrame\n",
        "new_prediction"
      ],
      "execution_count": 52,
      "outputs": [
        {
          "output_type": "execute_result",
          "data": {
            "text/html": [
              "<div>\n",
              "<style scoped>\n",
              "    .dataframe tbody tr th:only-of-type {\n",
              "        vertical-align: middle;\n",
              "    }\n",
              "\n",
              "    .dataframe tbody tr th {\n",
              "        vertical-align: top;\n",
              "    }\n",
              "\n",
              "    .dataframe thead th {\n",
              "        text-align: right;\n",
              "    }\n",
              "</style>\n",
              "<table border=\"1\" class=\"dataframe\">\n",
              "  <thead>\n",
              "    <tr style=\"text-align: right;\">\n",
              "      <th></th>\n",
              "      <th>Name</th>\n",
              "      <th>USA_Gross</th>\n",
              "      <th>RunTime</th>\n",
              "      <th>Metascore</th>\n",
              "      <th>Category</th>\n",
              "      <th>IMDB_Score</th>\n",
              "    </tr>\n",
              "  </thead>\n",
              "  <tbody>\n",
              "    <tr>\n",
              "      <th>0</th>\n",
              "      <td>Attack of the NarWolves</td>\n",
              "      <td>600</td>\n",
              "      <td>120</td>\n",
              "      <td>80</td>\n",
              "      <td>DC</td>\n",
              "      <td>8.168216</td>\n",
              "    </tr>\n",
              "    <tr>\n",
              "      <th>1</th>\n",
              "      <td>Teeth or Horns?</td>\n",
              "      <td>400</td>\n",
              "      <td>90</td>\n",
              "      <td>60</td>\n",
              "      <td>Marvel</td>\n",
              "      <td>6.982005</td>\n",
              "    </tr>\n",
              "  </tbody>\n",
              "</table>\n",
              "</div>"
            ],
            "text/plain": [
              "                      Name  USA_Gross  RunTime  Metascore Category  IMDB_Score\n",
              "0  Attack of the NarWolves        600      120         80       DC    8.168216\n",
              "1          Teeth or Horns?        400       90         60   Marvel    6.982005"
            ]
          },
          "metadata": {
            "tags": []
          },
          "execution_count": 52
        }
      ]
    },
    {
      "cell_type": "code",
      "metadata": {
        "id": "ylP5GXNCHIVx"
      },
      "source": [
        ""
      ],
      "execution_count": 52,
      "outputs": []
    }
  ]
}