{
 "cells": [
  {
   "cell_type": "markdown",
   "source": [
    "# The NarWolves: DC vs Marvel Data Analysis"
   ],
   "metadata": {}
  },
  {
   "cell_type": "markdown",
   "source": [
    "## Load Libraries"
   ],
   "metadata": {}
  },
  {
   "cell_type": "code",
   "execution_count": null,
   "source": [
    "# Import libraries\r\n",
    "import pandas as pd \r\n",
    "import numpy as np "
   ],
   "outputs": [],
   "metadata": {}
  },
  {
   "cell_type": "markdown",
   "source": [
    "## Importing Data\r\n",
    "\r\n",
    "The dataset was obtained from **Kaggle**. The dataset first cleaned and processed in this [notebook](https://github.com/nguyenjenny/spark_shared_repo/blob/main/group_02/CleanData.ipynb)."
   ],
   "metadata": {}
  },
  {
   "cell_type": "code",
   "execution_count": null,
   "source": [
    "path = \"https://raw.githubusercontent.com/nguyenjenny/spark_shared_repo/main/group_02/Marvel_DC_imdb_cleaned.csv\"\r\n",
    "hero = pd.read_csv(path)\r\n",
    "hero"
   ],
   "outputs": [],
   "metadata": {}
  },
  {
   "cell_type": "markdown",
   "source": [
    "## Getting to Know our Data: Aggregates and Basic Stats"
   ],
   "metadata": {}
  },
  {
   "cell_type": "markdown",
   "source": [
    "### Basic statistics\r\n",
    "\r\n",
    "We can use the `.describe()` function to get basic information about our numerical data."
   ],
   "metadata": {}
  },
  {
   "cell_type": "code",
   "execution_count": null,
   "source": [
    "# Use the `.describe()` to get information on the hero DataFrae\r\n",
    "\r\n"
   ],
   "outputs": [],
   "metadata": {}
  },
  {
   "cell_type": "code",
   "execution_count": null,
   "source": [
    "hero.describe()"
   ],
   "outputs": [],
   "metadata": {}
  },
  {
   "cell_type": "markdown",
   "source": [
    "### Mean IMDB_Score\r\n",
    "\r\n",
    "We can use the `.mean()` function to get information about the average `\"IMDB_Score\"`\r\n",
    "\r\n",
    "First, we need to select the column of the DataFrame that we want. \r\n"
   ],
   "metadata": {}
  },
  {
   "cell_type": "markdown",
   "source": [
    "We can use `.iloc[:, \"column_name\" ]` or we can use the short form of just `[\"column\"]`"
   ],
   "metadata": {}
  },
  {
   "cell_type": "code",
   "execution_count": null,
   "source": [
    "# Use loc to select the `\"IMBD_Score\"`\r\n",
    "hero.loc[:, \"IMDB_Score\"]"
   ],
   "outputs": [],
   "metadata": {}
  },
  {
   "cell_type": "code",
   "execution_count": null,
   "source": [
    "# Use the short hand version [\"column\"] to get the \"IMBD_Score\"\r\n",
    "\r\n",
    "\r\n"
   ],
   "outputs": [],
   "metadata": {}
  },
  {
   "cell_type": "code",
   "execution_count": null,
   "source": [
    "# Now that we know how to select a specific column we can add the `.mean()` to it\r\n",
    "\r\n",
    "\r\n",
    "\r\n"
   ],
   "outputs": [],
   "metadata": {}
  },
  {
   "cell_type": "markdown",
   "source": [
    "#### The mean IMDB score for both Marvel and DC movies is ______________. "
   ],
   "metadata": {}
  },
  {
   "cell_type": "markdown",
   "source": [
    "### Lowest and Highest IMDB_Score\r\n",
    "\r\n",
    "We can use the `.min()` function to get information about the lowest `\"IMDB_Score\"` and `.max()` to get the highest `\"IMDB_Score\"` for comic/superhero movies. \r\n",
    "\r\n"
   ],
   "metadata": {}
  },
  {
   "cell_type": "code",
   "execution_count": null,
   "source": [
    "# Get min/lowest IMBD_Rating\r\n",
    "hero[\"IMDB_Score\"]"
   ],
   "outputs": [],
   "metadata": {}
  },
  {
   "cell_type": "code",
   "execution_count": null,
   "source": [
    "# Get max/highest IMBD_Rating\r\n",
    "hero[\"IMDB_Score\"]\r\n"
   ],
   "outputs": [],
   "metadata": {}
  },
  {
   "cell_type": "markdown",
   "source": [
    "#### The IMDB scores for both Marvel and DC movies range from ______________ to ____________. "
   ],
   "metadata": {}
  },
  {
   "cell_type": "markdown",
   "source": [
    "### Standard Deviation of IMDB_Scores\r\n",
    "\r\n",
    "Standard deviation represents the spread or variability of the data.\r\n",
    "\r\n",
    "↑ stdev = ↑ variability \r\n",
    "\r\n",
    "We can use the `.std()` function to get the stadard devoatop of the `\"IMDB_Score\"`."
   ],
   "metadata": {}
  },
  {
   "cell_type": "code",
   "execution_count": null,
   "source": [
    "hero[\"IMDB_Score\"]"
   ],
   "outputs": [],
   "metadata": {}
  },
  {
   "cell_type": "markdown",
   "source": [
    "#### The standard deviation of the IMDB scores for both Marvel and DC movies is ___________. "
   ],
   "metadata": {}
  },
  {
   "cell_type": "markdown",
   "source": [
    "### Mean Run Time of Movies and TV Series"
   ],
   "metadata": {}
  },
  {
   "cell_type": "code",
   "execution_count": null,
   "source": [
    "# Calculate mean run time of the movies and tv series in this data using the `\"RunTime\"` column\r\n",
    "\r\n"
   ],
   "outputs": [],
   "metadata": {}
  },
  {
   "cell_type": "markdown",
   "source": [
    "#### The mean run time is ___________. "
   ],
   "metadata": {}
  },
  {
   "cell_type": "markdown",
   "source": [
    "### Finding the highest grossing movies in the US using  `.sort_values()`\r\n",
    "\r\n",
    "We can sort our data set by a column by using the function called `.sort_values()`.\r\n",
    "\r\n",
    "We simply pass the name of the column we want to sort by as a parameter.\r\n",
    "\r\n",
    "- We can also set the parameter `ascending=True` or `ascending=False` if we want to sort by increasing or descreasing values\r\n",
    "    - `ascending=True`: Values are sorted from lowest to largest\r\n",
    "    - `ascending=False`: Values are sorted from largest to lowest\r\n",
    "\r\n",
    "The format for `.sort_values()` looks like this:\r\n",
    "\r\n",
    "```\r\n",
    "    hero.sort_values(\"column_name\", ascending=False)\r\n",
    "```"
   ],
   "metadata": {}
  },
  {
   "cell_type": "code",
   "execution_count": null,
   "source": [
    "# Sort the hero DataFrame by `\"USA_Gross\"` and make `ascending=False`\r\n",
    "hero.sort_values(\"column_name_here\", ascending=False)\r\n"
   ],
   "outputs": [],
   "metadata": {}
  },
  {
   "cell_type": "markdown",
   "source": [
    "#### The highest grossing film in the US was _______________. It made $ ________ million in the US alone. "
   ],
   "metadata": {}
  },
  {
   "cell_type": "markdown",
   "source": [
    "### Finding the highest rated movies using `.sort_values()`\r\n"
   ],
   "metadata": {}
  },
  {
   "cell_type": "code",
   "execution_count": null,
   "source": [
    "# Sort the hero DataFrame by `\"IMDB_Score\"` and make `ascending=False`\r\n",
    "hero.sort_values(\"column_name_here\", ascending=False)\r\n",
    "\r\n"
   ],
   "outputs": [],
   "metadata": {}
  },
  {
   "cell_type": "markdown",
   "source": [
    "#### The highest rated film according to the IMDB was _______________. It made was rated ___________ by ___________ people. The lowest rated film was __________ with a rating of _______.  "
   ],
   "metadata": {}
  },
  {
   "cell_type": "markdown",
   "source": [
    "## Comparing DC vs Marvel cinematic universes\r\n",
    "\r\n",
    "The battle of the cinematic universes begins! Who will reign supreme?"
   ],
   "metadata": {}
  },
  {
   "cell_type": "markdown",
   "source": [
    "### Figuring out the number of Marvel and DC films using `.value_counts()`\r\n",
    "\r\n",
    "The first order of business is figuring out how many of our datapoints are from either Marvel or DC? Are there more Marvel or DC films? \r\n",
    "\r\n",
    "To do this we need to use `.value_counts()` function. It is important to note that this function can only be applied on a single column of a DataFrame\r\n",
    "\r\n",
    "For example:\r\n",
    "\r\n",
    "```\r\n",
    "    hero[\"column_name\"].value_counts()\r\n",
    "```"
   ],
   "metadata": {}
  },
  {
   "cell_type": "code",
   "execution_count": null,
   "source": [
    "# Figure out how many datapoints are from Marvel or the DC cinematic universe.  Use the column name \"Category\"\r\n",
    "hero[\"Category\"].value_counts()\r\n",
    "\r\n"
   ],
   "outputs": [],
   "metadata": {}
  },
  {
   "cell_type": "markdown",
   "source": [
    "#### Our dataset has ______ filmns from the DC universe and ________ films from the Marvel universe."
   ],
   "metadata": {}
  },
  {
   "cell_type": "markdown",
   "source": [
    "### Figuring out if Marvel or DC films are more highly rated using `.groupby()`\r\n",
    "\r\n",
    "Which movies are more highly rate on IMDB? DC or Marvel?\r\n",
    "\r\n",
    "To answer this question, we need to use the `.groupby()` method. We can select one our multiple columns to group the data by, and then we can aggregate that data to find out information about mean, min, max, standard deviation, sum, etc.\r\n",
    "\r\n",
    "The format that `.groupby()` uses is as follows:\r\n",
    "\r\n",
    "```\r\n",
    "hero.groupby(\"column_name\").aggregate_function()\r\n",
    "```\r\n",
    "\r\n",
    "Where `\"column_name\"` is the name of the column and `.aggregate_function()` is the a specific aggregate function like `.mean()`, `.sum()`, `.max()`, `min()`."
   ],
   "metadata": {}
  },
  {
   "cell_type": "code",
   "execution_count": null,
   "source": [
    "# Figure out if DC or Marvel films have a greater average IMDB_Score, Metascore, Votes, USA_Gross.\r\n",
    "# Remember the column that tells us is the film is DC or Marvel is called `\"Category\"``\r\n",
    "\r\n",
    "hero.groupby(\"Column_Name\").mean()"
   ],
   "outputs": [],
   "metadata": {}
  },
  {
   "cell_type": "code",
   "execution_count": null,
   "source": [
    "hero.groupby(\"Category\").mean()"
   ],
   "outputs": [],
   "metadata": {}
  },
  {
   "cell_type": "markdown",
   "source": [
    "#### ___ has a higher mean IMDB Score than _______.  And, ____ has a higher mean Metacritic score than _______. In general, _______ films tend to gross more in the US than _____ films. "
   ],
   "metadata": {}
  },
  {
   "cell_type": "markdown",
   "source": [
    "### Grouping by both `\"Category\"` (i.e., DC vs Marvel) and `\"Type\"` (i.e., Movie vs Series)\r\n",
    "\r\n",
    "Our dataset also includes information if the film is a stand-alone movie (only one iteration of it) or if it is a series (multiple episodes).\r\n",
    "\r\n",
    "To get a break down of our data by both `\"Category\"` and `\"Type\"`, we need to pass two columns into `.groupby()`\r\n",
    "\r\n",
    "The format should be as follows: \r\n",
    "\r\n",
    "```\r\n",
    "hero.groupby([\"column_name_1\", \"column_name_2\"]).aggregate_function()\r\n",
    "```\r\n"
   ],
   "metadata": {}
  },
  {
   "cell_type": "code",
   "execution_count": null,
   "source": [
    "# Calculate the mean for the numerical data by grouping by \"Category\" and \"Type\"\r\n",
    "hero.groupby([\"column_name_1\", \"column_name_2\"]).mean()"
   ],
   "outputs": [],
   "metadata": {}
  },
  {
   "cell_type": "markdown",
   "source": [
    "#### When comparing stand-alone movies, ______  had a higher IMDB score than ______.  When comparing series, ______ had a higher IMDB rating than ______."
   ],
   "metadata": {}
  },
  {
   "cell_type": "markdown",
   "source": [
    "### Everyone knows that there was a resurgence in superhero movies in the mid to late 2000s, what if we only look at data after 2005 using `.query()` \r\n",
    "\r\n",
    "`.query()` to apply some sort of condition onto the data.  Usually the format is you set some sort of condition based on a column of your DataFrame.\r\n",
    "\r\n",
    "\r\n",
    "Some examples of queries include the following:\r\n",
    "\r\n",
    "\r\n",
    "- Only include films that were before the year 1995: `hero.query(\"Year_Start < 1995\")`\r\n",
    "- Only include films that were directed by Tim Burton: `hero.query(\"Director == 'TimBurton'\")`\r\n",
    "- Only include films that have a IMDB score of greater or equal to 8 **and** were made after 2010: `hero.query(\"IMDB_Score >= 8 & Year_Start > 2010\")`\r\n",
    "- Only include films that have a age rating of \"R\" **or** \"M\": `hero.query(\"Rating == 'R' | Rating == 'M'\")`\r\n",
    "\r\n",
    "\r\n"
   ],
   "metadata": {}
  },
  {
   "cell_type": "code",
   "execution_count": null,
   "source": [
    "# Query that hero data for films where the Year_Start is > 2005\r\n",
    "\r\n",
    "hero_2005 = hero.query(\"Year_Start > 1900\") # Replace the year \r\n",
    "hero_2005"
   ],
   "outputs": [],
   "metadata": {}
  },
  {
   "cell_type": "code",
   "execution_count": null,
   "source": [
    "# Calculate the mean for the data only including 2005 and beyond by grouping by \"Category\" and \"Type\"\r\n",
    "hero_2005.groupby([\"column_name_1\", \"column_name_2\"]).mean()\r\n"
   ],
   "outputs": [],
   "metadata": {}
  },
  {
   "cell_type": "markdown",
   "source": [
    "## Graphing Data"
   ],
   "metadata": {}
  },
  {
   "cell_type": "code",
   "execution_count": null,
   "source": [],
   "outputs": [],
   "metadata": {}
  }
 ],
 "metadata": {
  "orig_nbformat": 4,
  "language_info": {
   "name": "python"
  }
 },
 "nbformat": 4,
 "nbformat_minor": 2
}